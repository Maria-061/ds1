{
 "cells": [
  {
   "cell_type": "code",
   "execution_count": 137,
   "metadata": {},
   "outputs": [],
   "source": [
    "#импорт библиотек\n",
    "import numpy as np #для матричных вычислений\n",
    "import pandas as pd #для анализа и предобработки данных\n",
    "import matplotlib.pyplot as plt #для визуализации\n",
    "import seaborn as sns #для визуализации\n",
    "\n",
    "from sklearn import linear_model #линейные модели\n",
    "from sklearn import tree #деревья решений\n",
    "from sklearn import ensemble #ансамбли\n",
    "from sklearn import metrics #метрики\n",
    "from sklearn import preprocessing #предобработка\n",
    "from sklearn.model_selection import train_test_split #сплитование выборки\n",
    "\n",
    "%matplotlib inline\n",
    "plt.style.use('seaborn')"
   ]
  },
  {
   "cell_type": "code",
   "execution_count": 138,
   "metadata": {},
   "outputs": [
    {
     "data": {
      "text/html": [
       "<div>\n",
       "<style scoped>\n",
       "    .dataframe tbody tr th:only-of-type {\n",
       "        vertical-align: middle;\n",
       "    }\n",
       "\n",
       "    .dataframe tbody tr th {\n",
       "        vertical-align: top;\n",
       "    }\n",
       "\n",
       "    .dataframe thead th {\n",
       "        text-align: right;\n",
       "    }\n",
       "</style>\n",
       "<table border=\"1\" class=\"dataframe\">\n",
       "  <thead>\n",
       "    <tr style=\"text-align: right;\">\n",
       "      <th></th>\n",
       "      <th>Activity</th>\n",
       "      <th>D1</th>\n",
       "      <th>D2</th>\n",
       "      <th>D3</th>\n",
       "      <th>D4</th>\n",
       "      <th>D5</th>\n",
       "      <th>D6</th>\n",
       "      <th>D7</th>\n",
       "      <th>D8</th>\n",
       "      <th>D9</th>\n",
       "      <th>...</th>\n",
       "      <th>D1767</th>\n",
       "      <th>D1768</th>\n",
       "      <th>D1769</th>\n",
       "      <th>D1770</th>\n",
       "      <th>D1771</th>\n",
       "      <th>D1772</th>\n",
       "      <th>D1773</th>\n",
       "      <th>D1774</th>\n",
       "      <th>D1775</th>\n",
       "      <th>D1776</th>\n",
       "    </tr>\n",
       "  </thead>\n",
       "  <tbody>\n",
       "    <tr>\n",
       "      <th>0</th>\n",
       "      <td>1</td>\n",
       "      <td>0.000000</td>\n",
       "      <td>0.497009</td>\n",
       "      <td>0.10</td>\n",
       "      <td>0.0</td>\n",
       "      <td>0.132956</td>\n",
       "      <td>0.678031</td>\n",
       "      <td>0.273166</td>\n",
       "      <td>0.585445</td>\n",
       "      <td>0.743663</td>\n",
       "      <td>...</td>\n",
       "      <td>0</td>\n",
       "      <td>0</td>\n",
       "      <td>0</td>\n",
       "      <td>0</td>\n",
       "      <td>0</td>\n",
       "      <td>0</td>\n",
       "      <td>0</td>\n",
       "      <td>0</td>\n",
       "      <td>0</td>\n",
       "      <td>0</td>\n",
       "    </tr>\n",
       "    <tr>\n",
       "      <th>1</th>\n",
       "      <td>1</td>\n",
       "      <td>0.366667</td>\n",
       "      <td>0.606291</td>\n",
       "      <td>0.05</td>\n",
       "      <td>0.0</td>\n",
       "      <td>0.111209</td>\n",
       "      <td>0.803455</td>\n",
       "      <td>0.106105</td>\n",
       "      <td>0.411754</td>\n",
       "      <td>0.836582</td>\n",
       "      <td>...</td>\n",
       "      <td>1</td>\n",
       "      <td>1</td>\n",
       "      <td>1</td>\n",
       "      <td>1</td>\n",
       "      <td>0</td>\n",
       "      <td>1</td>\n",
       "      <td>0</td>\n",
       "      <td>0</td>\n",
       "      <td>1</td>\n",
       "      <td>0</td>\n",
       "    </tr>\n",
       "    <tr>\n",
       "      <th>2</th>\n",
       "      <td>1</td>\n",
       "      <td>0.033300</td>\n",
       "      <td>0.480124</td>\n",
       "      <td>0.00</td>\n",
       "      <td>0.0</td>\n",
       "      <td>0.209791</td>\n",
       "      <td>0.610350</td>\n",
       "      <td>0.356453</td>\n",
       "      <td>0.517720</td>\n",
       "      <td>0.679051</td>\n",
       "      <td>...</td>\n",
       "      <td>0</td>\n",
       "      <td>0</td>\n",
       "      <td>0</td>\n",
       "      <td>0</td>\n",
       "      <td>0</td>\n",
       "      <td>0</td>\n",
       "      <td>0</td>\n",
       "      <td>0</td>\n",
       "      <td>0</td>\n",
       "      <td>0</td>\n",
       "    </tr>\n",
       "    <tr>\n",
       "      <th>3</th>\n",
       "      <td>1</td>\n",
       "      <td>0.000000</td>\n",
       "      <td>0.538825</td>\n",
       "      <td>0.00</td>\n",
       "      <td>0.5</td>\n",
       "      <td>0.196344</td>\n",
       "      <td>0.724230</td>\n",
       "      <td>0.235606</td>\n",
       "      <td>0.288764</td>\n",
       "      <td>0.805110</td>\n",
       "      <td>...</td>\n",
       "      <td>0</td>\n",
       "      <td>0</td>\n",
       "      <td>0</td>\n",
       "      <td>0</td>\n",
       "      <td>0</td>\n",
       "      <td>0</td>\n",
       "      <td>0</td>\n",
       "      <td>0</td>\n",
       "      <td>0</td>\n",
       "      <td>0</td>\n",
       "    </tr>\n",
       "    <tr>\n",
       "      <th>4</th>\n",
       "      <td>0</td>\n",
       "      <td>0.100000</td>\n",
       "      <td>0.517794</td>\n",
       "      <td>0.00</td>\n",
       "      <td>0.0</td>\n",
       "      <td>0.494734</td>\n",
       "      <td>0.781422</td>\n",
       "      <td>0.154361</td>\n",
       "      <td>0.303809</td>\n",
       "      <td>0.812646</td>\n",
       "      <td>...</td>\n",
       "      <td>0</td>\n",
       "      <td>0</td>\n",
       "      <td>0</td>\n",
       "      <td>0</td>\n",
       "      <td>0</td>\n",
       "      <td>0</td>\n",
       "      <td>0</td>\n",
       "      <td>0</td>\n",
       "      <td>0</td>\n",
       "      <td>0</td>\n",
       "    </tr>\n",
       "  </tbody>\n",
       "</table>\n",
       "<p>5 rows × 1777 columns</p>\n",
       "</div>"
      ],
      "text/plain": [
       "   Activity        D1        D2    D3   D4        D5        D6        D7  \\\n",
       "0         1  0.000000  0.497009  0.10  0.0  0.132956  0.678031  0.273166   \n",
       "1         1  0.366667  0.606291  0.05  0.0  0.111209  0.803455  0.106105   \n",
       "2         1  0.033300  0.480124  0.00  0.0  0.209791  0.610350  0.356453   \n",
       "3         1  0.000000  0.538825  0.00  0.5  0.196344  0.724230  0.235606   \n",
       "4         0  0.100000  0.517794  0.00  0.0  0.494734  0.781422  0.154361   \n",
       "\n",
       "         D8        D9  ...  D1767  D1768  D1769  D1770  D1771  D1772  D1773  \\\n",
       "0  0.585445  0.743663  ...      0      0      0      0      0      0      0   \n",
       "1  0.411754  0.836582  ...      1      1      1      1      0      1      0   \n",
       "2  0.517720  0.679051  ...      0      0      0      0      0      0      0   \n",
       "3  0.288764  0.805110  ...      0      0      0      0      0      0      0   \n",
       "4  0.303809  0.812646  ...      0      0      0      0      0      0      0   \n",
       "\n",
       "   D1774  D1775  D1776  \n",
       "0      0      0      0  \n",
       "1      0      1      0  \n",
       "2      0      0      0  \n",
       "3      0      0      0  \n",
       "4      0      0      0  \n",
       "\n",
       "[5 rows x 1777 columns]"
      ]
     },
     "execution_count": 138,
     "metadata": {},
     "output_type": "execute_result"
    }
   ],
   "source": [
    "# чтение данных\n",
    "data=pd.read_csv('data/_train_sem09.csv')\n",
    "data.head()"
   ]
  },
  {
   "cell_type": "markdown",
   "metadata": {},
   "source": [
    "Предварительная обработка не требуется, данные уже закодированы и нормализованы."
   ]
  },
  {
   "cell_type": "code",
   "execution_count": 139,
   "metadata": {},
   "outputs": [],
   "source": [
    "X, y = data.drop(['Activity'], axis=1), data['Activity']"
   ]
  },
  {
   "cell_type": "code",
   "execution_count": 140,
   "metadata": {},
   "outputs": [
    {
     "data": {
      "image/png": "[encoded data removed]",
      "text/plain": [
       "<Figure size 576x396 with 1 Axes>"
      ]
     },
     "metadata": {},
     "output_type": "display_data"
    }
   ],
   "source": [
    "sns.countplot(data=data, x='Activity');"
   ]
  },
  {
   "cell_type": "code",
   "execution_count": 141,
   "metadata": {},
   "outputs": [],
   "source": [
    "X_train, X_test, y_train, y_test=train_test_split(X, y, stratify=y, random_state=42, test_size=0.2)"
   ]
  },
  {
   "cell_type": "markdown",
   "metadata": {},
   "source": [
    "# Модель логистической регрессии"
   ]
  },
  {
   "cell_type": "code",
   "execution_count": 142,
   "metadata": {},
   "outputs": [
    {
     "name": "stdout",
     "output_type": "stream",
     "text": [
      "f1_score на тестовом наборе данных:0.78\n"
     ]
    },
    {
     "name": "stderr",
     "output_type": "stream",
     "text": [
      "c:\\Users\\kuzin\\AppData\\Local\\Programs\\Python\\Python39\\lib\\site-packages\\sklearn\\linear_model\\_logistic.py:444: ConvergenceWarning: lbfgs failed to converge (status=1):\n",
      "STOP: TOTAL NO. of ITERATIONS REACHED LIMIT.\n",
      "\n",
      "Increase the number of iterations (max_iter) or scale the data as shown in:\n",
      "    https://scikit-learn.org/stable/modules/preprocessing.html\n",
      "Please also refer to the documentation for alternative solver options:\n",
      "    https://scikit-learn.org/stable/modules/linear_model.html#logistic-regression\n",
      "  n_iter_i = _check_optimize_result(\n"
     ]
    }
   ],
   "source": [
    "log_reg=linear_model.LogisticRegression()\n",
    "log_reg.fit(X_train, y_train)\n",
    "y_pred_test=log_reg.predict(X_test)\n",
    "print ('f1_score на тестовом наборе данных:{:.2f}'.format(metrics.f1_score(y_test, y_pred_test)))\n"
   ]
  },
  {
   "cell_type": "markdown",
   "metadata": {},
   "source": [
    "## GridSearchCV"
   ]
  },
  {
   "cell_type": "code",
   "execution_count": 143,
   "metadata": {},
   "outputs": [
    {
     "name": "stdout",
     "output_type": "stream",
     "text": [
      "CPU times: total: 2.8 s\n",
      "Wall time: 1min 5s\n",
      "f1_score на тестовом наборе: 0.78\n",
      "Наилучшие значения гиперпараметров: {'penalty': 'l2', 'solver': 'saga'}\n"
     ]
    },
    {
     "name": "stderr",
     "output_type": "stream",
     "text": [
      "c:\\Users\\kuzin\\AppData\\Local\\Programs\\Python\\Python39\\lib\\site-packages\\sklearn\\linear_model\\_sag.py:350: ConvergenceWarning: The max_iter was reached which means the coef_ did not converge\n",
      "  warnings.warn(\n"
     ]
    }
   ],
   "source": [
    "from sklearn.model_selection import GridSearchCV\n",
    "\n",
    "param_grid = {'penalty': ['l2', 'none'] ,#тип регурялизации\n",
    "              'solver': ['lbfgs', 'saga', 'newton-cg'], #алгоритм оптимизации\n",
    "              }\n",
    "grid_search = GridSearchCV(\n",
    "    estimator=linear_model.LogisticRegression(\n",
    "        random_state=42, #генератор случайных чисел\n",
    "        max_iter=50 #количество итераций на сходимость\n",
    "    ), \n",
    "    param_grid=param_grid, \n",
    "    cv=5, \n",
    "    n_jobs = -1\n",
    ")  \n",
    "%time grid_search.fit(X_train, y_train) \n",
    "y_test_pred = grid_search.predict(X_test)\n",
    "print('f1_score на тестовом наборе: {:.2f}'.format(metrics.f1_score(y_test, y_test_pred)))\n",
    "print(\"Наилучшие значения гиперпараметров: {}\".format(grid_search.best_params_))"
   ]
  },
  {
   "cell_type": "markdown",
   "metadata": {},
   "source": [
    "**Вывод** Метрика не улучшилась"
   ]
  },
  {
   "cell_type": "markdown",
   "metadata": {},
   "source": [
    "## RandomizedSearchCV"
   ]
  },
  {
   "cell_type": "code",
   "execution_count": 144,
   "metadata": {},
   "outputs": [
    {
     "name": "stdout",
     "output_type": "stream",
     "text": [
      "CPU times: total: 2.66 s\n",
      "Wall time: 24.5 s\n",
      "f1_score на тестовом наборе: 0.78\n",
      "Наилучшие значения гиперпараметров: {'solver': 'sag', 'penalty': 'l2', 'C': 0.01}\n"
     ]
    },
    {
     "name": "stderr",
     "output_type": "stream",
     "text": [
      "c:\\Users\\kuzin\\AppData\\Local\\Programs\\Python\\Python39\\lib\\site-packages\\sklearn\\linear_model\\_sag.py:350: ConvergenceWarning: The max_iter was reached which means the coef_ did not converge\n",
      "  warnings.warn(\n"
     ]
    }
   ],
   "source": [
    "from sklearn.model_selection import RandomizedSearchCV\n",
    "\n",
    "#np.linspace(start(от), stop(до), num=50(количество),dtype- тип данных)\n",
    "param_distributions = {'penalty': ['l2', 'none'] ,\n",
    "              'solver': ['lbfgs', 'sag'],\n",
    "               'C': list(np.linspace(0.01, 1, 10, dtype=float))},\n",
    "            \n",
    "random_search = RandomizedSearchCV(\n",
    "    estimator=linear_model.LogisticRegression(random_state=42, max_iter=50), \n",
    "    param_distributions=param_distributions, \n",
    "    cv=5, \n",
    "    n_iter = 10, \n",
    "    n_jobs = -1\n",
    ")  \n",
    "%time random_search.fit(X_train, y_train) \n",
    "y_test_pred = random_search.predict(X_test)\n",
    "\n",
    "print('f1_score на тестовом наборе: {:.2f}'.format(metrics.f1_score(y_test, y_test_pred)))\n",
    "print(\"Наилучшие значения гиперпараметров: {}\".format(random_search.best_params_))"
   ]
  },
  {
   "cell_type": "markdown",
   "metadata": {},
   "source": [
    "**Вывод** Добавление нового параметра - сила регуляризации - помог улучшить метрику за более быстрое время"
   ]
  },
  {
   "cell_type": "markdown",
   "metadata": {},
   "source": [
    "## Hyperopt"
   ]
  },
  {
   "cell_type": "code",
   "execution_count": 145,
   "metadata": {},
   "outputs": [],
   "source": [
    "#делаем импорт и выведем версию библиотеки\n",
    "from sklearn.model_selection import cross_val_score\n",
    "import hyperopt\n",
    "from hyperopt import hp, fmin, tpe, Trials\n",
    "# fmin - основная функция, она будет минимизировать наш функционал\n",
    "# tpe - алгоритм оптимизации\n",
    "# hp - включает набор методов для объявления пространства поиска гиперпараметров\n",
    "# trails - используется для логирования результатов"
   ]
  },
  {
   "cell_type": "code",
   "execution_count": 146,
   "metadata": {},
   "outputs": [],
   "source": [
    "# пространство гиперпараметров\n",
    "space={'penalty': hp.choice(label='penalry', options=['l2', 'none']) ,\n",
    "    'solver': hp.choice(label='solver', options=['sag']),\n",
    "    'C': hp.quniform('C', 0.01, 1, 10)\n",
    "}"
   ]
  },
  {
   "cell_type": "code",
   "execution_count": 147,
   "metadata": {},
   "outputs": [],
   "source": [
    "# объявляем функцию\n",
    "random_state = 42\n",
    "def hyperopt_lr(cv=5, X=X_train, y=y_train, random_state=random_state):\n",
    "    # функция получает комбинацию гиперпараметров в \"params\"\n",
    "    #params = space\n",
    "  \n",
    "    # используем эту комбинацию для построения модели\n",
    "    model = linear_model.LogisticRegression(\n",
    "       \n",
    "        random_state=random_state,\n",
    "        max_iter=1000\n",
    "    )\n",
    "\n",
    "    # обучаем модель\n",
    "    model.fit(X, y)\n",
    "    score = metrics.f1_score(y, model.predict(X))\n",
    "    \n",
    "\n",
    "    # метрику необходимо минимизировать, поэтому ставим знак минус\n",
    "    return -score"
   ]
  },
  {
   "cell_type": "code",
   "execution_count": 148,
   "metadata": {},
   "outputs": [
    {
     "name": "stdout",
     "output_type": "stream",
     "text": [
      "CPU times: total: 0 ns\n",
      "Wall time: 0 ns\n",
      "100%|██████████| 50/50 [01:49<00:00,  2.20s/trial, best loss: -0.8931390406800243]\n",
      "Наилучшие значения гиперпараметров {'C': 0.0, 'penalry': 0, 'solver': 0}\n"
     ]
    }
   ],
   "source": [
    "# начинаем подбор гиперпараметров\n",
    "%time\n",
    "# начинаем подбор гиперпараметров\n",
    "\n",
    "trials = Trials() # используется для логирования результатов\n",
    "\n",
    "best=fmin(hyperopt_lr, # наша функция \n",
    "          space=space, # пространство гиперпараметров\n",
    "          algo=tpe.suggest, # алгоритм оптимизации, установлен по умолчанию, задавать необязательно\n",
    "          max_evals=50, # максимальное количество итераций\n",
    "          trials=trials, # логирование результатов\n",
    "          rstate=np.random.default_rng(random_state) # фиксируем для повторяемости результата\n",
    "         )\n",
    "print(\"Наилучшие значения гиперпараметров {}\".format(best))"
   ]
  },
  {
   "cell_type": "markdown",
   "metadata": {},
   "source": [
    "**Вывод** если задавать параметры, то возникает ошибка, решение которой в Slack до сих пор не представлено, поэтому данный алгоритм не подбирает оптимальные значения гиперпараметров."
   ]
  },
  {
   "cell_type": "markdown",
   "metadata": {},
   "source": [
    "## Optuna"
   ]
  },
  {
   "cell_type": "code",
   "execution_count": 149,
   "metadata": {},
   "outputs": [],
   "source": [
    "import optuna\n",
    "\n",
    "def optuna_rf(trial):\n",
    "  # задаем пространства поиска гиперпараметров\n",
    "  penalty = trial.suggest_categorical(name='penalty', choices=['l2', 'none'])\n",
    "  solver = trial.suggest_categorical(name='solver', choices=['sag'])\n",
    "  C = trial.suggest_float(name='C', low=0.01, high=1, step=10, log=False)\n",
    "\n",
    "  # создаем модель\n",
    "  model = linear_model.LogisticRegression(penalty=penalty,\n",
    "                                          solver=solver,\n",
    "                                          C=C,\n",
    "                                          random_state=random_state)\n",
    "  # обучаем модель\n",
    "  model.fit(X_train, y_train)\n",
    "  score = metrics.f1_score(y_train, model.predict(X_train))\n",
    "\n",
    "  return score"
   ]
  },
  {
   "cell_type": "code",
   "execution_count": 150,
   "metadata": {},
   "outputs": [
    {
     "name": "stderr",
     "output_type": "stream",
     "text": [
      "\u001b[32m[I 2022-11-09 14:48:02,139]\u001b[0m A new study created in memory with name: LogisticRegression\u001b[0m\n",
      "c:\\Users\\kuzin\\AppData\\Local\\Programs\\Python\\Python39\\lib\\site-packages\\optuna\\distributions.py:668: UserWarning: The distribution is specified by [0.01, 1] and step=10, but the range is not divisible by `step`. It will be replaced by [0.01, 0.01].\n",
      "  warnings.warn(\n",
      "\u001b[32m[I 2022-11-09 14:48:06,319]\u001b[0m Trial 0 finished with value: 0.8230723251643753 and parameters: {'penalty': 'l2', 'solver': 'sag', 'C': 0.01}. Best is trial 0 with value: 0.8230723251643753.\u001b[0m\n",
      "c:\\Users\\kuzin\\AppData\\Local\\Programs\\Python\\Python39\\lib\\site-packages\\optuna\\distributions.py:668: UserWarning: The distribution is specified by [0.01, 1] and step=10, but the range is not divisible by `step`. It will be replaced by [0.01, 0.01].\n",
      "  warnings.warn(\n",
      "\u001b[32m[I 2022-11-09 14:48:10,357]\u001b[0m Trial 1 finished with value: 0.8230723251643753 and parameters: {'penalty': 'l2', 'solver': 'sag', 'C': 0.01}. Best is trial 0 with value: 0.8230723251643753.\u001b[0m\n",
      "c:\\Users\\kuzin\\AppData\\Local\\Programs\\Python\\Python39\\lib\\site-packages\\optuna\\distributions.py:668: UserWarning: The distribution is specified by [0.01, 1] and step=10, but the range is not divisible by `step`. It will be replaced by [0.01, 0.01].\n",
      "  warnings.warn(\n",
      "\u001b[32m[I 2022-11-09 14:48:14,502]\u001b[0m Trial 2 finished with value: 0.8230723251643753 and parameters: {'penalty': 'l2', 'solver': 'sag', 'C': 0.01}. Best is trial 0 with value: 0.8230723251643753.\u001b[0m\n",
      "c:\\Users\\kuzin\\AppData\\Local\\Programs\\Python\\Python39\\lib\\site-packages\\optuna\\distributions.py:668: UserWarning: The distribution is specified by [0.01, 1] and step=10, but the range is not divisible by `step`. It will be replaced by [0.01, 0.01].\n",
      "  warnings.warn(\n",
      "c:\\Users\\kuzin\\AppData\\Local\\Programs\\Python\\Python39\\lib\\site-packages\\sklearn\\linear_model\\_logistic.py:1113: UserWarning: Setting penalty='none' will ignore the C and l1_ratio parameters\n",
      "  warnings.warn(\n",
      "c:\\Users\\kuzin\\AppData\\Local\\Programs\\Python\\Python39\\lib\\site-packages\\sklearn\\linear_model\\_sag.py:350: ConvergenceWarning: The max_iter was reached which means the coef_ did not converge\n",
      "  warnings.warn(\n",
      "\u001b[32m[I 2022-11-09 14:48:19,220]\u001b[0m Trial 3 finished with value: 0.8928679817905918 and parameters: {'penalty': 'none', 'solver': 'sag', 'C': 0.01}. Best is trial 3 with value: 0.8928679817905918.\u001b[0m\n",
      "c:\\Users\\kuzin\\AppData\\Local\\Programs\\Python\\Python39\\lib\\site-packages\\optuna\\distributions.py:668: UserWarning: The distribution is specified by [0.01, 1] and step=10, but the range is not divisible by `step`. It will be replaced by [0.01, 0.01].\n",
      "  warnings.warn(\n",
      "\u001b[32m[I 2022-11-09 14:48:23,333]\u001b[0m Trial 4 finished with value: 0.8230723251643753 and parameters: {'penalty': 'l2', 'solver': 'sag', 'C': 0.01}. Best is trial 3 with value: 0.8928679817905918.\u001b[0m\n",
      "c:\\Users\\kuzin\\AppData\\Local\\Programs\\Python\\Python39\\lib\\site-packages\\optuna\\distributions.py:668: UserWarning: The distribution is specified by [0.01, 1] and step=10, but the range is not divisible by `step`. It will be replaced by [0.01, 0.01].\n",
      "  warnings.warn(\n",
      "\u001b[32m[I 2022-11-09 14:48:27,512]\u001b[0m Trial 5 finished with value: 0.8230723251643753 and parameters: {'penalty': 'l2', 'solver': 'sag', 'C': 0.01}. Best is trial 3 with value: 0.8928679817905918.\u001b[0m\n",
      "c:\\Users\\kuzin\\AppData\\Local\\Programs\\Python\\Python39\\lib\\site-packages\\optuna\\distributions.py:668: UserWarning: The distribution is specified by [0.01, 1] and step=10, but the range is not divisible by `step`. It will be replaced by [0.01, 0.01].\n",
      "  warnings.warn(\n",
      "c:\\Users\\kuzin\\AppData\\Local\\Programs\\Python\\Python39\\lib\\site-packages\\sklearn\\linear_model\\_logistic.py:1113: UserWarning: Setting penalty='none' will ignore the C and l1_ratio parameters\n",
      "  warnings.warn(\n",
      "c:\\Users\\kuzin\\AppData\\Local\\Programs\\Python\\Python39\\lib\\site-packages\\sklearn\\linear_model\\_sag.py:350: ConvergenceWarning: The max_iter was reached which means the coef_ did not converge\n",
      "  warnings.warn(\n",
      "\u001b[32m[I 2022-11-09 14:48:32,296]\u001b[0m Trial 6 finished with value: 0.8928679817905918 and parameters: {'penalty': 'none', 'solver': 'sag', 'C': 0.01}. Best is trial 3 with value: 0.8928679817905918.\u001b[0m\n",
      "c:\\Users\\kuzin\\AppData\\Local\\Programs\\Python\\Python39\\lib\\site-packages\\optuna\\distributions.py:668: UserWarning: The distribution is specified by [0.01, 1] and step=10, but the range is not divisible by `step`. It will be replaced by [0.01, 0.01].\n",
      "  warnings.warn(\n",
      "\u001b[32m[I 2022-11-09 14:48:36,416]\u001b[0m Trial 7 finished with value: 0.8230723251643753 and parameters: {'penalty': 'l2', 'solver': 'sag', 'C': 0.01}. Best is trial 3 with value: 0.8928679817905918.\u001b[0m\n",
      "c:\\Users\\kuzin\\AppData\\Local\\Programs\\Python\\Python39\\lib\\site-packages\\optuna\\distributions.py:668: UserWarning: The distribution is specified by [0.01, 1] and step=10, but the range is not divisible by `step`. It will be replaced by [0.01, 0.01].\n",
      "  warnings.warn(\n",
      "c:\\Users\\kuzin\\AppData\\Local\\Programs\\Python\\Python39\\lib\\site-packages\\sklearn\\linear_model\\_logistic.py:1113: UserWarning: Setting penalty='none' will ignore the C and l1_ratio parameters\n",
      "  warnings.warn(\n",
      "c:\\Users\\kuzin\\AppData\\Local\\Programs\\Python\\Python39\\lib\\site-packages\\sklearn\\linear_model\\_sag.py:350: ConvergenceWarning: The max_iter was reached which means the coef_ did not converge\n",
      "  warnings.warn(\n",
      "\u001b[32m[I 2022-11-09 14:48:41,144]\u001b[0m Trial 8 finished with value: 0.8928679817905918 and parameters: {'penalty': 'none', 'solver': 'sag', 'C': 0.01}. Best is trial 3 with value: 0.8928679817905918.\u001b[0m\n",
      "c:\\Users\\kuzin\\AppData\\Local\\Programs\\Python\\Python39\\lib\\site-packages\\optuna\\distributions.py:668: UserWarning: The distribution is specified by [0.01, 1] and step=10, but the range is not divisible by `step`. It will be replaced by [0.01, 0.01].\n",
      "  warnings.warn(\n",
      "c:\\Users\\kuzin\\AppData\\Local\\Programs\\Python\\Python39\\lib\\site-packages\\sklearn\\linear_model\\_logistic.py:1113: UserWarning: Setting penalty='none' will ignore the C and l1_ratio parameters\n",
      "  warnings.warn(\n",
      "c:\\Users\\kuzin\\AppData\\Local\\Programs\\Python\\Python39\\lib\\site-packages\\sklearn\\linear_model\\_sag.py:350: ConvergenceWarning: The max_iter was reached which means the coef_ did not converge\n",
      "  warnings.warn(\n",
      "\u001b[32m[I 2022-11-09 14:48:45,855]\u001b[0m Trial 9 finished with value: 0.8928679817905918 and parameters: {'penalty': 'none', 'solver': 'sag', 'C': 0.01}. Best is trial 3 with value: 0.8928679817905918.\u001b[0m\n",
      "c:\\Users\\kuzin\\AppData\\Local\\Programs\\Python\\Python39\\lib\\site-packages\\optuna\\distributions.py:668: UserWarning: The distribution is specified by [0.01, 1] and step=10, but the range is not divisible by `step`. It will be replaced by [0.01, 0.01].\n",
      "  warnings.warn(\n",
      "c:\\Users\\kuzin\\AppData\\Local\\Programs\\Python\\Python39\\lib\\site-packages\\sklearn\\linear_model\\_logistic.py:1113: UserWarning: Setting penalty='none' will ignore the C and l1_ratio parameters\n",
      "  warnings.warn(\n",
      "c:\\Users\\kuzin\\AppData\\Local\\Programs\\Python\\Python39\\lib\\site-packages\\sklearn\\linear_model\\_sag.py:350: ConvergenceWarning: The max_iter was reached which means the coef_ did not converge\n",
      "  warnings.warn(\n",
      "\u001b[32m[I 2022-11-09 14:48:50,596]\u001b[0m Trial 10 finished with value: 0.8928679817905918 and parameters: {'penalty': 'none', 'solver': 'sag', 'C': 0.01}. Best is trial 3 with value: 0.8928679817905918.\u001b[0m\n",
      "c:\\Users\\kuzin\\AppData\\Local\\Programs\\Python\\Python39\\lib\\site-packages\\optuna\\distributions.py:668: UserWarning: The distribution is specified by [0.01, 1] and step=10, but the range is not divisible by `step`. It will be replaced by [0.01, 0.01].\n",
      "  warnings.warn(\n",
      "c:\\Users\\kuzin\\AppData\\Local\\Programs\\Python\\Python39\\lib\\site-packages\\sklearn\\linear_model\\_logistic.py:1113: UserWarning: Setting penalty='none' will ignore the C and l1_ratio parameters\n",
      "  warnings.warn(\n",
      "c:\\Users\\kuzin\\AppData\\Local\\Programs\\Python\\Python39\\lib\\site-packages\\sklearn\\linear_model\\_sag.py:350: ConvergenceWarning: The max_iter was reached which means the coef_ did not converge\n",
      "  warnings.warn(\n",
      "\u001b[32m[I 2022-11-09 14:48:55,304]\u001b[0m Trial 11 finished with value: 0.8928679817905918 and parameters: {'penalty': 'none', 'solver': 'sag', 'C': 0.01}. Best is trial 3 with value: 0.8928679817905918.\u001b[0m\n",
      "c:\\Users\\kuzin\\AppData\\Local\\Programs\\Python\\Python39\\lib\\site-packages\\optuna\\distributions.py:668: UserWarning: The distribution is specified by [0.01, 1] and step=10, but the range is not divisible by `step`. It will be replaced by [0.01, 0.01].\n",
      "  warnings.warn(\n",
      "c:\\Users\\kuzin\\AppData\\Local\\Programs\\Python\\Python39\\lib\\site-packages\\sklearn\\linear_model\\_logistic.py:1113: UserWarning: Setting penalty='none' will ignore the C and l1_ratio parameters\n",
      "  warnings.warn(\n",
      "c:\\Users\\kuzin\\AppData\\Local\\Programs\\Python\\Python39\\lib\\site-packages\\sklearn\\linear_model\\_sag.py:350: ConvergenceWarning: The max_iter was reached which means the coef_ did not converge\n",
      "  warnings.warn(\n",
      "\u001b[32m[I 2022-11-09 14:49:00,146]\u001b[0m Trial 12 finished with value: 0.8928679817905918 and parameters: {'penalty': 'none', 'solver': 'sag', 'C': 0.01}. Best is trial 3 with value: 0.8928679817905918.\u001b[0m\n",
      "c:\\Users\\kuzin\\AppData\\Local\\Programs\\Python\\Python39\\lib\\site-packages\\optuna\\distributions.py:668: UserWarning: The distribution is specified by [0.01, 1] and step=10, but the range is not divisible by `step`. It will be replaced by [0.01, 0.01].\n",
      "  warnings.warn(\n",
      "c:\\Users\\kuzin\\AppData\\Local\\Programs\\Python\\Python39\\lib\\site-packages\\sklearn\\linear_model\\_logistic.py:1113: UserWarning: Setting penalty='none' will ignore the C and l1_ratio parameters\n",
      "  warnings.warn(\n",
      "c:\\Users\\kuzin\\AppData\\Local\\Programs\\Python\\Python39\\lib\\site-packages\\sklearn\\linear_model\\_sag.py:350: ConvergenceWarning: The max_iter was reached which means the coef_ did not converge\n",
      "  warnings.warn(\n",
      "\u001b[32m[I 2022-11-09 14:49:05,012]\u001b[0m Trial 13 finished with value: 0.8928679817905918 and parameters: {'penalty': 'none', 'solver': 'sag', 'C': 0.01}. Best is trial 3 with value: 0.8928679817905918.\u001b[0m\n",
      "c:\\Users\\kuzin\\AppData\\Local\\Programs\\Python\\Python39\\lib\\site-packages\\optuna\\distributions.py:668: UserWarning: The distribution is specified by [0.01, 1] and step=10, but the range is not divisible by `step`. It will be replaced by [0.01, 0.01].\n",
      "  warnings.warn(\n",
      "c:\\Users\\kuzin\\AppData\\Local\\Programs\\Python\\Python39\\lib\\site-packages\\sklearn\\linear_model\\_logistic.py:1113: UserWarning: Setting penalty='none' will ignore the C and l1_ratio parameters\n",
      "  warnings.warn(\n",
      "c:\\Users\\kuzin\\AppData\\Local\\Programs\\Python\\Python39\\lib\\site-packages\\sklearn\\linear_model\\_sag.py:350: ConvergenceWarning: The max_iter was reached which means the coef_ did not converge\n",
      "  warnings.warn(\n",
      "\u001b[32m[I 2022-11-09 14:49:09,871]\u001b[0m Trial 14 finished with value: 0.8928679817905918 and parameters: {'penalty': 'none', 'solver': 'sag', 'C': 0.01}. Best is trial 3 with value: 0.8928679817905918.\u001b[0m\n",
      "c:\\Users\\kuzin\\AppData\\Local\\Programs\\Python\\Python39\\lib\\site-packages\\optuna\\distributions.py:668: UserWarning: The distribution is specified by [0.01, 1] and step=10, but the range is not divisible by `step`. It will be replaced by [0.01, 0.01].\n",
      "  warnings.warn(\n",
      "c:\\Users\\kuzin\\AppData\\Local\\Programs\\Python\\Python39\\lib\\site-packages\\sklearn\\linear_model\\_logistic.py:1113: UserWarning: Setting penalty='none' will ignore the C and l1_ratio parameters\n",
      "  warnings.warn(\n",
      "c:\\Users\\kuzin\\AppData\\Local\\Programs\\Python\\Python39\\lib\\site-packages\\sklearn\\linear_model\\_sag.py:350: ConvergenceWarning: The max_iter was reached which means the coef_ did not converge\n",
      "  warnings.warn(\n",
      "\u001b[32m[I 2022-11-09 14:49:14,680]\u001b[0m Trial 15 finished with value: 0.8928679817905918 and parameters: {'penalty': 'none', 'solver': 'sag', 'C': 0.01}. Best is trial 3 with value: 0.8928679817905918.\u001b[0m\n",
      "c:\\Users\\kuzin\\AppData\\Local\\Programs\\Python\\Python39\\lib\\site-packages\\optuna\\distributions.py:668: UserWarning: The distribution is specified by [0.01, 1] and step=10, but the range is not divisible by `step`. It will be replaced by [0.01, 0.01].\n",
      "  warnings.warn(\n",
      "c:\\Users\\kuzin\\AppData\\Local\\Programs\\Python\\Python39\\lib\\site-packages\\sklearn\\linear_model\\_logistic.py:1113: UserWarning: Setting penalty='none' will ignore the C and l1_ratio parameters\n",
      "  warnings.warn(\n",
      "c:\\Users\\kuzin\\AppData\\Local\\Programs\\Python\\Python39\\lib\\site-packages\\sklearn\\linear_model\\_sag.py:350: ConvergenceWarning: The max_iter was reached which means the coef_ did not converge\n",
      "  warnings.warn(\n",
      "\u001b[32m[I 2022-11-09 14:49:19,424]\u001b[0m Trial 16 finished with value: 0.8928679817905918 and parameters: {'penalty': 'none', 'solver': 'sag', 'C': 0.01}. Best is trial 3 with value: 0.8928679817905918.\u001b[0m\n",
      "c:\\Users\\kuzin\\AppData\\Local\\Programs\\Python\\Python39\\lib\\site-packages\\optuna\\distributions.py:668: UserWarning: The distribution is specified by [0.01, 1] and step=10, but the range is not divisible by `step`. It will be replaced by [0.01, 0.01].\n",
      "  warnings.warn(\n",
      "c:\\Users\\kuzin\\AppData\\Local\\Programs\\Python\\Python39\\lib\\site-packages\\sklearn\\linear_model\\_logistic.py:1113: UserWarning: Setting penalty='none' will ignore the C and l1_ratio parameters\n",
      "  warnings.warn(\n",
      "c:\\Users\\kuzin\\AppData\\Local\\Programs\\Python\\Python39\\lib\\site-packages\\sklearn\\linear_model\\_sag.py:350: ConvergenceWarning: The max_iter was reached which means the coef_ did not converge\n",
      "  warnings.warn(\n",
      "\u001b[32m[I 2022-11-09 14:49:24,318]\u001b[0m Trial 17 finished with value: 0.8928679817905918 and parameters: {'penalty': 'none', 'solver': 'sag', 'C': 0.01}. Best is trial 3 with value: 0.8928679817905918.\u001b[0m\n",
      "c:\\Users\\kuzin\\AppData\\Local\\Programs\\Python\\Python39\\lib\\site-packages\\optuna\\distributions.py:668: UserWarning: The distribution is specified by [0.01, 1] and step=10, but the range is not divisible by `step`. It will be replaced by [0.01, 0.01].\n",
      "  warnings.warn(\n",
      "c:\\Users\\kuzin\\AppData\\Local\\Programs\\Python\\Python39\\lib\\site-packages\\sklearn\\linear_model\\_logistic.py:1113: UserWarning: Setting penalty='none' will ignore the C and l1_ratio parameters\n",
      "  warnings.warn(\n",
      "c:\\Users\\kuzin\\AppData\\Local\\Programs\\Python\\Python39\\lib\\site-packages\\sklearn\\linear_model\\_sag.py:350: ConvergenceWarning: The max_iter was reached which means the coef_ did not converge\n",
      "  warnings.warn(\n",
      "\u001b[32m[I 2022-11-09 14:49:28,884]\u001b[0m Trial 18 finished with value: 0.8928679817905918 and parameters: {'penalty': 'none', 'solver': 'sag', 'C': 0.01}. Best is trial 3 with value: 0.8928679817905918.\u001b[0m\n",
      "c:\\Users\\kuzin\\AppData\\Local\\Programs\\Python\\Python39\\lib\\site-packages\\optuna\\distributions.py:668: UserWarning: The distribution is specified by [0.01, 1] and step=10, but the range is not divisible by `step`. It will be replaced by [0.01, 0.01].\n",
      "  warnings.warn(\n",
      "c:\\Users\\kuzin\\AppData\\Local\\Programs\\Python\\Python39\\lib\\site-packages\\sklearn\\linear_model\\_logistic.py:1113: UserWarning: Setting penalty='none' will ignore the C and l1_ratio parameters\n",
      "  warnings.warn(\n",
      "c:\\Users\\kuzin\\AppData\\Local\\Programs\\Python\\Python39\\lib\\site-packages\\sklearn\\linear_model\\_sag.py:350: ConvergenceWarning: The max_iter was reached which means the coef_ did not converge\n",
      "  warnings.warn(\n",
      "\u001b[32m[I 2022-11-09 14:49:33,640]\u001b[0m Trial 19 finished with value: 0.8928679817905918 and parameters: {'penalty': 'none', 'solver': 'sag', 'C': 0.01}. Best is trial 3 with value: 0.8928679817905918.\u001b[0m\n"
     ]
    }
   ],
   "source": [
    "# cоздаем объект исследования\n",
    "# можем напрямую указать, что нам необходимо максимизировать метрику direction=\"maximize\"\n",
    "study = optuna.create_study(study_name=\"LogisticRegression\", direction=\"maximize\")\n",
    "# ищем лучшую комбинацию гиперпараметров n_trials раз\n",
    "study.optimize(optuna_rf, n_trials=20)"
   ]
  },
  {
   "cell_type": "code",
   "execution_count": 151,
   "metadata": {},
   "outputs": [
    {
     "name": "stdout",
     "output_type": "stream",
     "text": [
      "Наилучшие значения гиперпараметров {'penalty': 'none', 'solver': 'sag', 'C': 0.01}\n",
      "f1_score на обучающем наборе: 0.89\n"
     ]
    }
   ],
   "source": [
    "# выводим результаты на обучающей выборке\n",
    "print(\"Наилучшие значения гиперпараметров {}\".format(study.best_params))\n",
    "print(\"f1_score на обучающем наборе: {:.2f}\".format(study.best_value))"
   ]
  },
  {
   "cell_type": "code",
   "execution_count": 155,
   "metadata": {},
   "outputs": [
    {
     "name": "stderr",
     "output_type": "stream",
     "text": [
      "c:\\Users\\kuzin\\AppData\\Local\\Programs\\Python\\Python39\\lib\\site-packages\\sklearn\\linear_model\\_logistic.py:1113: UserWarning: Setting penalty='none' will ignore the C and l1_ratio parameters\n",
      "  warnings.warn(\n"
     ]
    },
    {
     "name": "stdout",
     "output_type": "stream",
     "text": [
      "f1_score на тестовом наборе: 0.77\n"
     ]
    },
    {
     "name": "stderr",
     "output_type": "stream",
     "text": [
      "c:\\Users\\kuzin\\AppData\\Local\\Programs\\Python\\Python39\\lib\\site-packages\\sklearn\\linear_model\\_sag.py:350: ConvergenceWarning: The max_iter was reached which means the coef_ did not converge\n",
      "  warnings.warn(\n"
     ]
    }
   ],
   "source": [
    "# рассчитаем точность для тестовой выборки\n",
    "model = linear_model.LogisticRegression(**study.best_params,random_state=random_state, )\n",
    "model.fit(X_train, y_train)\n",
    "y_test_pred = model.predict(X_test)\n",
    "print('f1_score на тестовом наборе: {:.2f}'.format(metrics.f1_score(y_test, y_test_pred)))"
   ]
  },
  {
   "cell_type": "markdown",
   "metadata": {},
   "source": [
    "**Общий вывод** Для логистической регрессии самым оптимальный алгоритмов поиска гиперпараметров является Optuna, как по времени решения, так и по метрике. При гиперапараметрах {'penalty': 'none', 'solver': 'sag', 'C': 0.01} достигается максимальный показатель метрики - 0,77"
   ]
  },
  {
   "cell_type": "markdown",
   "metadata": {},
   "source": [
    "# Модель случайного леса"
   ]
  },
  {
   "cell_type": "code",
   "execution_count": 156,
   "metadata": {},
   "outputs": [],
   "source": [
    "X_train, X_test, y_train, y_test=train_test_split(X, y, stratify=y, random_state=42, test_size=0.2)"
   ]
  },
  {
   "cell_type": "code",
   "execution_count": 157,
   "metadata": {},
   "outputs": [
    {
     "name": "stdout",
     "output_type": "stream",
     "text": [
      "f1_score на тестовом наборе данных:0.80\n"
     ]
    }
   ],
   "source": [
    "rfc=ensemble.RandomForestClassifier()\n",
    "rfc.fit(X_train, y_train)\n",
    "y_pred_test=rfc.predict(X_test)\n",
    "print ('f1_score на тестовом наборе данных:{:.2f}'.format(metrics.f1_score(y_test, y_pred_test)))"
   ]
  },
  {
   "cell_type": "markdown",
   "metadata": {},
   "source": [
    "**Вывод:** Метрика в модели рандомного леса с параметрами по умолчанию выше, чем в логистической регрессии. Теперь попытаемся улучшить гиперпараметры"
   ]
  },
  {
   "cell_type": "markdown",
   "metadata": {},
   "source": [
    "## GridSearchCV"
   ]
  },
  {
   "cell_type": "code",
   "execution_count": 158,
   "metadata": {},
   "outputs": [
    {
     "name": "stdout",
     "output_type": "stream",
     "text": [
      "CPU times: total: 2.33 s\n",
      "Wall time: 48.2 s\n",
      "f1_score на тестовом наборе: 0.75\n",
      "Наилучшие значения гиперпараметров: {'criterion': 'gini', 'max_depth': 20, 'min_samples_leaf': 15}\n"
     ]
    }
   ],
   "source": [
    "param_grid = {\n",
    "    'min_samples_leaf': [5, 10, 15],\n",
    "    'max_depth': list(np.linspace(20, 40, 10, dtype=int)),\n",
    "    'criterion':['entropy','gini']\n",
    "}\n",
    "            \n",
    "random_search_tree = GridSearchCV(estimator=tree.DecisionTreeClassifier(random_state=42), \n",
    "    param_grid=param_grid, \n",
    "    cv=5, \n",
    "    n_jobs = -1\n",
    ")  \n",
    "%time random_search_tree.fit(X_train, y_train) \n",
    "\n",
    "y_test_pred = random_search_tree.predict(X_test)\n",
    "print('f1_score на тестовом наборе: {:.2f}'.format(metrics.f1_score(y_test, y_test_pred)))\n",
    "print(\"Наилучшие значения гиперпараметров: {}\".format(random_search_tree.best_params_))"
   ]
  },
  {
   "cell_type": "markdown",
   "metadata": {},
   "source": [
    "**Вывод** Из заданных гиперпараметров алгоритм подобрал показатели так, что значение метрики ухудшилось"
   ]
  },
  {
   "cell_type": "markdown",
   "metadata": {},
   "source": [
    "## RandomizedSearchCV"
   ]
  },
  {
   "cell_type": "code",
   "execution_count": null,
   "metadata": {},
   "outputs": [
    {
     "name": "stdout",
     "output_type": "stream",
     "text": [
      "CPU times: total: 1.8 s\n",
      "Wall time: 26.7 s\n",
      "f1_score на тестовом наборе: 0.76\n",
      "Наилучшие значения гиперпараметров: {'min_samples_leaf': 68, 'max_depth': 3, 'criterion': 'entropy'}\n"
     ]
    }
   ],
   "source": [
    "param_distributions = {'min_samples_leaf': list(np.linspace(5, 100, 50, dtype=int)),\n",
    "              'max_depth': list(np.linspace(1, 30, 50, dtype=int)),\n",
    "              'criterion':['entropy','gini']\n",
    "              }\n",
    "            \n",
    "random_search_tree = RandomizedSearchCV(\n",
    "    estimator=tree.DecisionTreeClassifier(random_state=42), \n",
    "    param_distributions=param_distributions, \n",
    "    cv=5,\n",
    "    n_iter = 50, \n",
    "    n_jobs = -1\n",
    ")  \n",
    "%time random_search_tree.fit(X_train, y_train) \n",
    "y_test_pred = random_search_tree.predict(X_test)\n",
    "\n",
    "print('f1_score на тестовом наборе: {:.2f}'.format(metrics.f1_score(y_test, y_test_pred)))\n",
    "print(\"Наилучшие значения гиперпараметров: {}\".format(random_search_tree.best_params_))"
   ]
  },
  {
   "cell_type": "markdown",
   "metadata": {},
   "source": [
    "**Вывод** Метрика чуть улучшилась, но все равно с параметрами по умолчанию модель показывает лучшие результаты"
   ]
  },
  {
   "cell_type": "markdown",
   "metadata": {},
   "source": [
    "## Hyperopt"
   ]
  },
  {
   "cell_type": "code",
   "execution_count": 159,
   "metadata": {},
   "outputs": [],
   "source": [
    "# зададим пространство поиска гиперпараметров\n",
    "space={'n_estimators': hp.quniform('n_estimators', 100, 300, 10),\n",
    "       'max_depth' : hp.quniform('max_depth', 15, 40, 1),\n",
    "       'min_samples_leaf': hp.quniform('min_samples_leaf', 3, 7, 1)\n",
    "      }"
   ]
  },
  {
   "cell_type": "code",
   "execution_count": 160,
   "metadata": {},
   "outputs": [],
   "source": [
    "# зафксируем random_state\n",
    "random_state = 42\n",
    "def hyperopt_rf(params, cv=5, X=X_train, y=y_train, random_state=random_state):\n",
    "    # функция получает комбинацию гиперпараметров в \"params\"\n",
    "    params = {'n_estimators': int(params['n_estimators']), \n",
    "              'max_depth': int(params['max_depth']), \n",
    "             'min_samples_leaf': int(params['min_samples_leaf'])\n",
    "              }\n",
    "  \n",
    "    # используем эту комбинацию для построения модели\n",
    "    model = ensemble.RandomForestClassifier(**params, random_state=random_state)\n",
    "\n",
    "    # обучаем модель\n",
    "    model.fit(X, y)\n",
    "    score = metrics.f1_score(y, model.predict(X))\n",
    "\n",
    "    # метрику необходимо минимизировать, поэтому ставим знак минус\n",
    "    return -score"
   ]
  },
  {
   "cell_type": "code",
   "execution_count": 161,
   "metadata": {},
   "outputs": [
    {
     "name": "stdout",
     "output_type": "stream",
     "text": [
      "CPU times: total: 0 ns\n",
      "Wall time: 0 ns\n",
      "100%|██████████| 20/20 [01:00<00:00,  3.05s/trial, best loss: -0.9743433109346366]\n",
      "Наилучшие значения гиперпараметров {'max_depth': 22.0, 'min_samples_leaf': 3.0, 'n_estimators': 110.0}\n"
     ]
    }
   ],
   "source": [
    "# начинаем подбор гиперпараметров\n",
    "%time\n",
    "\n",
    "trials = Trials() # используется для логирования результатов\n",
    "\n",
    "best=fmin(hyperopt_rf, # наша функция \n",
    "          space=space, # пространство гиперпараметров\n",
    "          algo=tpe.suggest, # алгоритм оптимизации, установлен по умолчанию, задавать необязательно\n",
    "          max_evals=20, # максимальное количество итераций\n",
    "          trials=trials, # логирование результатов\n",
    "          rstate=np.random.default_rng(random_state)# фиксируем для повторяемости результата\n",
    "         )\n",
    "print(\"Наилучшие значения гиперпараметров {}\".format(best))"
   ]
  },
  {
   "cell_type": "code",
   "execution_count": 162,
   "metadata": {},
   "outputs": [
    {
     "name": "stdout",
     "output_type": "stream",
     "text": [
      "f1_score на тестовом наборе: 0.79\n"
     ]
    }
   ],
   "source": [
    "# рассчитаем точность для тестовой выборки\n",
    "model = ensemble.RandomForestClassifier(\n",
    "    random_state=random_state, \n",
    "    n_estimators=int(best['n_estimators']),\n",
    "    max_depth=int(best['max_depth']),\n",
    "    min_samples_leaf=int(best['min_samples_leaf'])\n",
    ")\n",
    "model.fit(X_train, y_train)\n",
    "y_test_pred = model.predict(X_test)\n",
    "print('f1_score на тестовом наборе: {:.2f}'.format(metrics.f1_score(y_test, y_test_pred)))"
   ]
  },
  {
   "cell_type": "markdown",
   "metadata": {},
   "source": [
    "**Вывод** Метрика на тестовом наборе улучшилась. "
   ]
  },
  {
   "cell_type": "markdown",
   "metadata": {},
   "source": [
    "## Optuna"
   ]
  },
  {
   "cell_type": "code",
   "execution_count": 163,
   "metadata": {},
   "outputs": [],
   "source": [
    "def optuna_rf(trial):\n",
    "  # задаем пространства поиска гиперпараметров\n",
    "  n_estimators = trial.suggest_int('n_estimators', 100, 300, 10)\n",
    "  max_depth = trial.suggest_int('max_depth', 15, 40, 1)\n",
    "  min_samples_leaf = trial.suggest_int('min_samples_leaf', 3, 7, 1)\n",
    "\n",
    "  # создаем модель\n",
    "  model = ensemble.RandomForestClassifier(n_estimators=n_estimators,\n",
    "                                          max_depth=max_depth,\n",
    "                                          min_samples_leaf=min_samples_leaf,\n",
    "                                          random_state=random_state)\n",
    "  # обучаем модель\n",
    "  model.fit(X_train, y_train)\n",
    "  score = metrics.f1_score(y_train, model.predict(X_train))\n",
    "\n",
    "  return score"
   ]
  },
  {
   "cell_type": "code",
   "execution_count": 164,
   "metadata": {},
   "outputs": [
    {
     "name": "stderr",
     "output_type": "stream",
     "text": [
      "\u001b[32m[I 2022-11-09 14:56:49,229]\u001b[0m A new study created in memory with name: RandomForestClassifier\u001b[0m\n"
     ]
    },
    {
     "name": "stdout",
     "output_type": "stream",
     "text": [
      "CPU times: total: 0 ns\n",
      "Wall time: 0 ns\n"
     ]
    },
    {
     "name": "stderr",
     "output_type": "stream",
     "text": [
      "\u001b[32m[I 2022-11-09 14:56:53,964]\u001b[0m Trial 0 finished with value: 0.9463741620962828 and parameters: {'n_estimators': 220, 'max_depth': 23, 'min_samples_leaf': 5}. Best is trial 0 with value: 0.9463741620962828.\u001b[0m\n",
      "\u001b[32m[I 2022-11-09 14:56:58,837]\u001b[0m Trial 1 finished with value: 0.929551692589204 and parameters: {'n_estimators': 290, 'max_depth': 37, 'min_samples_leaf': 6}. Best is trial 0 with value: 0.9463741620962828.\u001b[0m\n",
      "\u001b[32m[I 2022-11-09 14:57:02,100]\u001b[0m Trial 2 finished with value: 0.9595129375951292 and parameters: {'n_estimators': 200, 'max_depth': 24, 'min_samples_leaf': 4}. Best is trial 2 with value: 0.9595129375951292.\u001b[0m\n",
      "\u001b[32m[I 2022-11-09 14:57:05,923]\u001b[0m Trial 3 finished with value: 0.9457317073170731 and parameters: {'n_estimators': 250, 'max_depth': 31, 'min_samples_leaf': 5}. Best is trial 2 with value: 0.9595129375951292.\u001b[0m\n",
      "\u001b[32m[I 2022-11-09 14:57:08,169]\u001b[0m Trial 4 finished with value: 0.9567600487210719 and parameters: {'n_estimators': 140, 'max_depth': 25, 'min_samples_leaf': 4}. Best is trial 2 with value: 0.9595129375951292.\u001b[0m\n",
      "\u001b[32m[I 2022-11-09 14:57:10,015]\u001b[0m Trial 5 finished with value: 0.9210686095931998 and parameters: {'n_estimators': 130, 'max_depth': 36, 'min_samples_leaf': 7}. Best is trial 2 with value: 0.9595129375951292.\u001b[0m\n",
      "\u001b[32m[I 2022-11-09 14:57:12,242]\u001b[0m Trial 6 finished with value: 0.9439366240097502 and parameters: {'n_estimators': 140, 'max_depth': 22, 'min_samples_leaf': 5}. Best is trial 2 with value: 0.9595129375951292.\u001b[0m\n",
      "\u001b[32m[I 2022-11-09 14:57:14,573]\u001b[0m Trial 7 finished with value: 0.9408175716900549 and parameters: {'n_estimators': 150, 'max_depth': 21, 'min_samples_leaf': 5}. Best is trial 2 with value: 0.9595129375951292.\u001b[0m\n",
      "\u001b[32m[I 2022-11-09 14:57:18,520]\u001b[0m Trial 8 finished with value: 0.9734675205855443 and parameters: {'n_estimators': 230, 'max_depth': 34, 'min_samples_leaf': 3}. Best is trial 8 with value: 0.9734675205855443.\u001b[0m\n",
      "\u001b[32m[I 2022-11-09 14:57:22,902]\u001b[0m Trial 9 finished with value: 0.9585870889159561 and parameters: {'n_estimators': 280, 'max_depth': 35, 'min_samples_leaf': 4}. Best is trial 8 with value: 0.9734675205855443.\u001b[0m\n",
      "\u001b[32m[I 2022-11-09 14:57:26,026]\u001b[0m Trial 10 finished with value: 0.9655592807071015 and parameters: {'n_estimators': 190, 'max_depth': 15, 'min_samples_leaf': 3}. Best is trial 8 with value: 0.9734675205855443.\u001b[0m\n",
      "\u001b[32m[I 2022-11-09 14:57:29,183]\u001b[0m Trial 11 finished with value: 0.9655592807071015 and parameters: {'n_estimators': 190, 'max_depth': 15, 'min_samples_leaf': 3}. Best is trial 8 with value: 0.9734675205855443.\u001b[0m\n",
      "\u001b[32m[I 2022-11-09 14:57:33,014]\u001b[0m Trial 12 finished with value: 0.9734675205855443 and parameters: {'n_estimators': 230, 'max_depth': 31, 'min_samples_leaf': 3}. Best is trial 8 with value: 0.9734675205855443.\u001b[0m\n",
      "\u001b[32m[I 2022-11-09 14:57:37,146]\u001b[0m Trial 13 finished with value: 0.9728575785300397 and parameters: {'n_estimators': 240, 'max_depth': 31, 'min_samples_leaf': 3}. Best is trial 8 with value: 0.9734675205855443.\u001b[0m\n",
      "\u001b[32m[I 2022-11-09 14:57:41,549]\u001b[0m Trial 14 finished with value: 0.9747336377473363 and parameters: {'n_estimators': 260, 'max_depth': 31, 'min_samples_leaf': 3}. Best is trial 14 with value: 0.9747336377473363.\u001b[0m\n",
      "\u001b[32m[I 2022-11-09 14:57:45,861]\u001b[0m Trial 15 finished with value: 0.9576606762107828 and parameters: {'n_estimators': 270, 'max_depth': 40, 'min_samples_leaf': 4}. Best is trial 14 with value: 0.9747336377473363.\u001b[0m\n",
      "\u001b[32m[I 2022-11-09 14:57:51,011]\u001b[0m Trial 16 finished with value: 0.973780487804878 and parameters: {'n_estimators': 300, 'max_depth': 28, 'min_samples_leaf': 3}. Best is trial 14 with value: 0.9747336377473363.\u001b[0m\n",
      "\u001b[32m[I 2022-11-09 14:57:55,540]\u001b[0m Trial 17 finished with value: 0.9289417505336993 and parameters: {'n_estimators': 300, 'max_depth': 28, 'min_samples_leaf': 6}. Best is trial 14 with value: 0.9747336377473363.\u001b[0m\n",
      "\u001b[32m[I 2022-11-09 14:57:59,927]\u001b[0m Trial 18 finished with value: 0.9585618525289457 and parameters: {'n_estimators': 260, 'max_depth': 28, 'min_samples_leaf': 4}. Best is trial 14 with value: 0.9747336377473363.\u001b[0m\n",
      "\u001b[32m[I 2022-11-09 14:58:04,959]\u001b[0m Trial 19 finished with value: 0.9704178103080207 and parameters: {'n_estimators': 300, 'max_depth': 18, 'min_samples_leaf': 3}. Best is trial 14 with value: 0.9747336377473363.\u001b[0m\n"
     ]
    }
   ],
   "source": [
    "%time\n",
    "# cоздаем объект исследования\n",
    "# можем напрямую указать, что нам необходимо максимизировать метрику direction=\"maximize\"\n",
    "study = optuna.create_study(study_name=\"RandomForestClassifier\", direction=\"maximize\")\n",
    "# ищем лучшую комбинацию гиперпараметров n_trials раз\n",
    "study.optimize(optuna_rf, n_trials=20)"
   ]
  },
  {
   "cell_type": "code",
   "execution_count": 165,
   "metadata": {},
   "outputs": [
    {
     "name": "stdout",
     "output_type": "stream",
     "text": [
      "Наилучшие значения гиперпараметров {'n_estimators': 260, 'max_depth': 31, 'min_samples_leaf': 3}\n",
      "f1_score на обучающем наборе: 0.97\n"
     ]
    }
   ],
   "source": [
    "# выводим результаты на обучающей выборке\n",
    "print(\"Наилучшие значения гиперпараметров {}\".format(study.best_params))\n",
    "print(\"f1_score на обучающем наборе: {:.2f}\".format(study.best_value))"
   ]
  },
  {
   "cell_type": "code",
   "execution_count": 166,
   "metadata": {},
   "outputs": [
    {
     "name": "stdout",
     "output_type": "stream",
     "text": [
      "f1_score на тестовом наборе: 0.81\n"
     ]
    }
   ],
   "source": [
    "# рассчитаем точность для тестовой выборки\n",
    "model = ensemble.RandomForestClassifier(**study.best_params,random_state=random_state, )\n",
    "model.fit(X_train, y_train)\n",
    "y_test_pred = model.predict(X_test)\n",
    "print('f1_score на тестовом наборе: {:.2f}'.format(metrics.f1_score(y_test, y_test_pred)))"
   ]
  },
  {
   "cell_type": "markdown",
   "metadata": {},
   "source": [
    "**Вывод** На тестовом наборе подобраны самые лучшие показатели гиперпараметров, так что метрика улучшилась"
   ]
  },
  {
   "cell_type": "markdown",
   "metadata": {},
   "source": [
    "**Общий вывод** Модель рандомного леса в целом справляется лучше, чем логистрическая регрессия. Самые лучшие показатели гиперпараметров подобраны с помощью алгоритма Optuna, наилучшие значения гиперпараметров {'n_estimators': 260, 'max_depth': 31, 'min_samples_leaf': 3}, метрика при таких параметрах равняется 0,81."
   ]
  }
 ],
 "metadata": {
  "kernelspec": {
   "display_name": "Python 3.9.10 64-bit",
   "language": "python",
   "name": "python3"
  },
  "language_info": {
   "codemirror_mode": {
    "name": "ipython",
    "version": 3
   },
   "file_extension": ".py",
   "mimetype": "text/x-python",
   "name": "python",
   "nbconvert_exporter": "python",
   "pygments_lexer": "ipython3",
   "version": "3.9.10"
  },
  "orig_nbformat": 4,
  "vscode": {
   "interpreter": {
    "hash": "3f3276811286a09a4a5800c96bcffd2991fef064f3f472c3248f5fe31bf08715"
   }
  }
 },
 "nbformat": 4,
 "nbformat_minor": 2
}
