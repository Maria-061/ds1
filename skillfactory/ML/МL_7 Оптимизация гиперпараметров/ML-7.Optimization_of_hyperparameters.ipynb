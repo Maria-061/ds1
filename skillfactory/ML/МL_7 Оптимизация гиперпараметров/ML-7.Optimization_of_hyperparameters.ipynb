{
 "cells": [
  {
   "cell_type": "markdown",
   "id": "AoeSkz4KaANH",
   "metadata": {
    "id": "AoeSkz4KaANH"
   },
   "source": [
    "# ML-7. Оптимизация гиперпараметров модели"
   ]
  },
  {
   "cell_type": "markdown",
   "id": "af628f85-6780-4b24-8212-e9946c388196",
   "metadata": {
    "id": "af628f85-6780-4b24-8212-e9946c388196",
    "tags": []
   },
   "source": [
    "## 1. Введение"
   ]
  },
  {
   "cell_type": "markdown",
   "id": "b8896f5c-1683-4a55-987f-60ce00207db5",
   "metadata": {
    "id": "b8896f5c-1683-4a55-987f-60ce00207db5"
   },
   "source": [
    "Цели модуля:\n",
    "* Узнать, какие есть базовые способы оптимизации гиперпараметров (GridSearchCV, RandomSearchCV);\n",
    "* Узнать, какие есть продвинутые способами оптимизации (Hyperopt, Optuna);\n",
    "* Научиться их настраивать и обучать модели с их использованием,  так, чтобы улучшать итоговую метрику.  \n",
    "* Провести сравнение и понять преимущества и недостатки каждого из методов\n"
   ]
  },
  {
   "cell_type": "markdown",
   "id": "203fb80e-a314-4876-850c-5e4913f78563",
   "metadata": {
    "id": "203fb80e-a314-4876-850c-5e4913f78563",
    "tags": []
   },
   "source": [
    "## 2. Базовая оптимизация"
   ]
  },
  {
   "cell_type": "code",
   "execution_count": 2,
   "id": "d8q91-MSaAOG",
   "metadata": {
    "id": "d8q91-MSaAOG"
   },
   "outputs": [],
   "source": [
    "#импорт библиотек\n",
    "import numpy as np #для матричных вычислений\n",
    "import pandas as pd #для анализа и предобработки данных\n",
    "import matplotlib.pyplot as plt #для визуализации\n",
    "import seaborn as sns #для визуализации\n",
    "\n",
    "from sklearn import linear_model #линейные моделиё\n",
    "from sklearn import tree #деревья решений\n",
    "from sklearn import ensemble #ансамбли\n",
    "from sklearn import metrics #метрики\n",
    "from sklearn import preprocessing #предобработка\n",
    "from sklearn.model_selection import train_test_split #сплитование выборки\n",
    "\n",
    "%matplotlib inline\n",
    "plt.style.use('seaborn')"
   ]
  },
  {
   "cell_type": "markdown",
   "id": "ezanmTbEaAOe",
   "metadata": {
    "id": "ezanmTbEaAOe",
    "tags": []
   },
   "source": [
    "### Описание задачи"
   ]
  },
  {
   "cell_type": "markdown",
   "id": "8SprnF5HaAOj",
   "metadata": {
    "id": "8SprnF5HaAOj"
   },
   "source": [
    "Продолжим решать задачу кассификации из модуля ML-3: \"Предсказание категории дохода человека\"\n",
    "\n",
    "Данные, с которыми мы будем работать были извлечены из базы данных **Бюро переписи населения 1994 года** Ронни Кохави и Барри Беккером (интеллектуальный анализ данных и визуализация, Silicon Graphics). Датасет содержит информацию о людях и их доходе. В оригинальном датасете задача была регрессионной - предсказание дохода.\n",
    "\n",
    "Мы будем использовать версию датасета, где доход участников переписи разделен на две категории: больше и меньше (либо равен) 50K $.\n"
   ]
  },
  {
   "cell_type": "markdown",
   "id": "8lbyun1kaAOy",
   "metadata": {
    "id": "8lbyun1kaAOy",
    "tags": []
   },
   "source": [
    "### Знакомство с данными и их исследование"
   ]
  },
  {
   "cell_type": "code",
   "execution_count": 3,
   "id": "p770SmlfaAO3",
   "metadata": {
    "colab": {
     "base_uri": "https://localhost:8080/",
     "height": 223
    },
    "executionInfo": {
     "elapsed": 40242,
     "status": "ok",
     "timestamp": 1650553529870,
     "user": {
      "displayName": "VICDS _",
      "userId": "16539764637744847477"
     },
     "user_tz": -180
    },
    "id": "p770SmlfaAO3",
    "outputId": "d6f8209e-05bf-452c-dd16-2f5725c31f1a"
   },
   "outputs": [
    {
     "data": {
      "text/html": [
       "<div>\n",
       "<style scoped>\n",
       "    .dataframe tbody tr th:only-of-type {\n",
       "        vertical-align: middle;\n",
       "    }\n",
       "\n",
       "    .dataframe tbody tr th {\n",
       "        vertical-align: top;\n",
       "    }\n",
       "\n",
       "    .dataframe thead th {\n",
       "        text-align: right;\n",
       "    }\n",
       "</style>\n",
       "<table border=\"1\" class=\"dataframe\">\n",
       "  <thead>\n",
       "    <tr style=\"text-align: right;\">\n",
       "      <th></th>\n",
       "      <th>age</th>\n",
       "      <th>workclass</th>\n",
       "      <th>fnlwgt</th>\n",
       "      <th>education</th>\n",
       "      <th>education.num</th>\n",
       "      <th>marital.status</th>\n",
       "      <th>occupation</th>\n",
       "      <th>relationship</th>\n",
       "      <th>race</th>\n",
       "      <th>sex</th>\n",
       "      <th>capital.gain</th>\n",
       "      <th>capital.loss</th>\n",
       "      <th>hours.per.week</th>\n",
       "      <th>native.country</th>\n",
       "      <th>income</th>\n",
       "    </tr>\n",
       "  </thead>\n",
       "  <tbody>\n",
       "    <tr>\n",
       "      <th>0</th>\n",
       "      <td>90</td>\n",
       "      <td>?</td>\n",
       "      <td>77053</td>\n",
       "      <td>HS-grad</td>\n",
       "      <td>9</td>\n",
       "      <td>Widowed</td>\n",
       "      <td>?</td>\n",
       "      <td>Not-in-family</td>\n",
       "      <td>White</td>\n",
       "      <td>Female</td>\n",
       "      <td>0</td>\n",
       "      <td>4356</td>\n",
       "      <td>40</td>\n",
       "      <td>United-States</td>\n",
       "      <td>&lt;=50K</td>\n",
       "    </tr>\n",
       "    <tr>\n",
       "      <th>1</th>\n",
       "      <td>82</td>\n",
       "      <td>Private</td>\n",
       "      <td>132870</td>\n",
       "      <td>HS-grad</td>\n",
       "      <td>9</td>\n",
       "      <td>Widowed</td>\n",
       "      <td>Exec-managerial</td>\n",
       "      <td>Not-in-family</td>\n",
       "      <td>White</td>\n",
       "      <td>Female</td>\n",
       "      <td>0</td>\n",
       "      <td>4356</td>\n",
       "      <td>18</td>\n",
       "      <td>United-States</td>\n",
       "      <td>&lt;=50K</td>\n",
       "    </tr>\n",
       "    <tr>\n",
       "      <th>2</th>\n",
       "      <td>66</td>\n",
       "      <td>?</td>\n",
       "      <td>186061</td>\n",
       "      <td>Some-college</td>\n",
       "      <td>10</td>\n",
       "      <td>Widowed</td>\n",
       "      <td>?</td>\n",
       "      <td>Unmarried</td>\n",
       "      <td>Black</td>\n",
       "      <td>Female</td>\n",
       "      <td>0</td>\n",
       "      <td>4356</td>\n",
       "      <td>40</td>\n",
       "      <td>United-States</td>\n",
       "      <td>&lt;=50K</td>\n",
       "    </tr>\n",
       "    <tr>\n",
       "      <th>3</th>\n",
       "      <td>54</td>\n",
       "      <td>Private</td>\n",
       "      <td>140359</td>\n",
       "      <td>7th-8th</td>\n",
       "      <td>4</td>\n",
       "      <td>Divorced</td>\n",
       "      <td>Machine-op-inspct</td>\n",
       "      <td>Unmarried</td>\n",
       "      <td>White</td>\n",
       "      <td>Female</td>\n",
       "      <td>0</td>\n",
       "      <td>3900</td>\n",
       "      <td>40</td>\n",
       "      <td>United-States</td>\n",
       "      <td>&lt;=50K</td>\n",
       "    </tr>\n",
       "    <tr>\n",
       "      <th>4</th>\n",
       "      <td>41</td>\n",
       "      <td>Private</td>\n",
       "      <td>264663</td>\n",
       "      <td>Some-college</td>\n",
       "      <td>10</td>\n",
       "      <td>Separated</td>\n",
       "      <td>Prof-specialty</td>\n",
       "      <td>Own-child</td>\n",
       "      <td>White</td>\n",
       "      <td>Female</td>\n",
       "      <td>0</td>\n",
       "      <td>3900</td>\n",
       "      <td>40</td>\n",
       "      <td>United-States</td>\n",
       "      <td>&lt;=50K</td>\n",
       "    </tr>\n",
       "  </tbody>\n",
       "</table>\n",
       "</div>"
      ],
      "text/plain": [
       "   age workclass  fnlwgt     education  education.num marital.status  \\\n",
       "0   90         ?   77053       HS-grad              9        Widowed   \n",
       "1   82   Private  132870       HS-grad              9        Widowed   \n",
       "2   66         ?  186061  Some-college             10        Widowed   \n",
       "3   54   Private  140359       7th-8th              4       Divorced   \n",
       "4   41   Private  264663  Some-college             10      Separated   \n",
       "\n",
       "          occupation   relationship   race     sex  capital.gain  \\\n",
       "0                  ?  Not-in-family  White  Female             0   \n",
       "1    Exec-managerial  Not-in-family  White  Female             0   \n",
       "2                  ?      Unmarried  Black  Female             0   \n",
       "3  Machine-op-inspct      Unmarried  White  Female             0   \n",
       "4     Prof-specialty      Own-child  White  Female             0   \n",
       "\n",
       "   capital.loss  hours.per.week native.country income  \n",
       "0          4356              40  United-States  <=50K  \n",
       "1          4356              18  United-States  <=50K  \n",
       "2          4356              40  United-States  <=50K  \n",
       "3          3900              40  United-States  <=50K  \n",
       "4          3900              40  United-States  <=50K  "
      ]
     },
     "execution_count": 3,
     "metadata": {},
     "output_type": "execute_result"
    }
   ],
   "source": [
    "#ЕСЛИ РАБОТАЕМ В IDE\n",
    "data = pd.read_csv('data/adult.csv')\n",
    "\n",
    "#ЕСЛИ РАБОТАЕМ В GOOGLE COLAB\n",
    "# подключаем google диск, где у нас хранятся данные\n",
    "# from google.colab import drive\n",
    "# drive.mount('/content/drive')\n",
    "# # берем необходимый нам файл с диска, указав путь\n",
    "# data = pd.read_csv('./drive/MyDrive/SF/SF module 7/adult.csv')\n",
    "data.head()"
   ]
  },
  {
   "cell_type": "markdown",
   "id": "OU2FqvNJaAPB",
   "metadata": {
    "id": "OU2FqvNJaAPB"
   },
   "source": [
    "Признаки:\n",
    "* age - возраст\n",
    "* workclass - статус занятости\n",
    "* fnlwgt - общий вес, это число людей, которых, по мнению эксперта, представляет эта категория занятости\n",
    "* education - образование\n",
    "* education.num - образовательная ступень (в виде числа)\n",
    "* marital.status - брачный статус\n",
    "* occupation - профессия\n",
    "* relationship - тип отношений\n",
    "* race - раса\n",
    "* sex - пол\n",
    "* capital.gain - ежегодный дополнительный прирост капитала\n",
    "* capital.loss - ежегодная дополнительная потеря капитала\n",
    "* hours.per.week - число рабочих часов в неделю\n",
    "* native.country - Родина \n",
    "* income - категория дохода (целевой признак)"
   ]
  },
  {
   "cell_type": "markdown",
   "id": "g2w-AD7uaAPK",
   "metadata": {
    "id": "g2w-AD7uaAPK"
   },
   "source": [
    "Проверяем наличие пропусков"
   ]
  },
  {
   "cell_type": "code",
   "execution_count": 4,
   "id": "-0L4fYsbaAPP",
   "metadata": {
    "colab": {
     "base_uri": "https://localhost:8080/"
    },
    "executionInfo": {
     "elapsed": 100,
     "status": "ok",
     "timestamp": 1650553529889,
     "user": {
      "displayName": "VICDS _",
      "userId": "16539764637744847477"
     },
     "user_tz": -180
    },
    "id": "-0L4fYsbaAPP",
    "outputId": "e5f3ce35-3c90-428a-9831-27dda4dd292c"
   },
   "outputs": [
    {
     "data": {
      "text/plain": [
       "age               0\n",
       "workclass         0\n",
       "fnlwgt            0\n",
       "education         0\n",
       "education.num     0\n",
       "marital.status    0\n",
       "occupation        0\n",
       "relationship      0\n",
       "race              0\n",
       "sex               0\n",
       "capital.gain      0\n",
       "capital.loss      0\n",
       "hours.per.week    0\n",
       "native.country    0\n",
       "income            0\n",
       "dtype: int64"
      ]
     },
     "execution_count": 4,
     "metadata": {},
     "output_type": "execute_result"
    }
   ],
   "source": [
    "data.isnull().sum()"
   ]
  },
  {
   "cell_type": "code",
   "execution_count": 33,
   "id": "OkBZOD4eaAPW",
   "metadata": {
    "colab": {
     "base_uri": "https://localhost:8080/",
     "height": 175
    },
    "executionInfo": {
     "elapsed": 90,
     "status": "ok",
     "timestamp": 1650553529893,
     "user": {
      "displayName": "VICDS _",
      "userId": "16539764637744847477"
     },
     "user_tz": -180
    },
    "id": "OkBZOD4eaAPW",
    "outputId": "0953ce71-8f6f-494c-95d1-33b659c88910"
   },
   "outputs": [
    {
     "data": {
      "text/html": [
       "<div>\n",
       "<style scoped>\n",
       "    .dataframe tbody tr th:only-of-type {\n",
       "        vertical-align: middle;\n",
       "    }\n",
       "\n",
       "    .dataframe tbody tr th {\n",
       "        vertical-align: top;\n",
       "    }\n",
       "\n",
       "    .dataframe thead th {\n",
       "        text-align: right;\n",
       "    }\n",
       "</style>\n",
       "<table border=\"1\" class=\"dataframe\">\n",
       "  <thead>\n",
       "    <tr style=\"text-align: right;\">\n",
       "      <th></th>\n",
       "      <th>workclass</th>\n",
       "      <th>education</th>\n",
       "      <th>marital.status</th>\n",
       "      <th>occupation</th>\n",
       "      <th>relationship</th>\n",
       "      <th>race</th>\n",
       "      <th>sex</th>\n",
       "      <th>native.country</th>\n",
       "      <th>income</th>\n",
       "    </tr>\n",
       "  </thead>\n",
       "  <tbody>\n",
       "    <tr>\n",
       "      <th>count</th>\n",
       "      <td>32561</td>\n",
       "      <td>32561</td>\n",
       "      <td>32561</td>\n",
       "      <td>32561</td>\n",
       "      <td>32561</td>\n",
       "      <td>32561</td>\n",
       "      <td>32561</td>\n",
       "      <td>32561</td>\n",
       "      <td>32561</td>\n",
       "    </tr>\n",
       "    <tr>\n",
       "      <th>unique</th>\n",
       "      <td>9</td>\n",
       "      <td>16</td>\n",
       "      <td>7</td>\n",
       "      <td>15</td>\n",
       "      <td>6</td>\n",
       "      <td>5</td>\n",
       "      <td>2</td>\n",
       "      <td>42</td>\n",
       "      <td>2</td>\n",
       "    </tr>\n",
       "    <tr>\n",
       "      <th>top</th>\n",
       "      <td>Private</td>\n",
       "      <td>HS-grad</td>\n",
       "      <td>Married-civ-spouse</td>\n",
       "      <td>Prof-specialty</td>\n",
       "      <td>Husband</td>\n",
       "      <td>White</td>\n",
       "      <td>Male</td>\n",
       "      <td>United-States</td>\n",
       "      <td>&lt;=50K</td>\n",
       "    </tr>\n",
       "    <tr>\n",
       "      <th>freq</th>\n",
       "      <td>22696</td>\n",
       "      <td>10501</td>\n",
       "      <td>14976</td>\n",
       "      <td>4140</td>\n",
       "      <td>13193</td>\n",
       "      <td>27816</td>\n",
       "      <td>21790</td>\n",
       "      <td>29170</td>\n",
       "      <td>24720</td>\n",
       "    </tr>\n",
       "  </tbody>\n",
       "</table>\n",
       "</div>"
      ],
      "text/plain": [
       "       workclass education      marital.status      occupation relationship  \\\n",
       "count      32561     32561               32561           32561        32561   \n",
       "unique         9        16                   7              15            6   \n",
       "top      Private   HS-grad  Married-civ-spouse  Prof-specialty      Husband   \n",
       "freq       22696     10501               14976            4140        13193   \n",
       "\n",
       "         race    sex native.country income  \n",
       "count   32561  32561          32561  32561  \n",
       "unique      5      2             42      2  \n",
       "top     White   Male  United-States  <=50K  \n",
       "freq    27816  21790          29170  24720  "
      ]
     },
     "execution_count": 33,
     "metadata": {},
     "output_type": "execute_result"
    }
   ],
   "source": [
    "data.describe(include='object')"
   ]
  },
  {
   "cell_type": "markdown",
   "id": "0jbyUoPlaAPc",
   "metadata": {
    "id": "0jbyUoPlaAPc"
   },
   "source": [
    "Смотрим на сбалансированность классов:"
   ]
  },
  {
   "cell_type": "code",
   "execution_count": 5,
   "id": "PPo2xmRdaAPf",
   "metadata": {
    "colab": {
     "base_uri": "https://localhost:8080/",
     "height": 361
    },
    "executionInfo": {
     "elapsed": 1087,
     "status": "ok",
     "timestamp": 1650553530901,
     "user": {
      "displayName": "VICDS _",
      "userId": "16539764637744847477"
     },
     "user_tz": -180
    },
    "id": "PPo2xmRdaAPf",
    "outputId": "4db04fd7-a921-4f20-ce92-b8294d0f3d2a"
   },
   "outputs": [
    {
     "data": {
      "image/png": "[encoded data removed]",
      "text/plain": [
       "<Figure size 576x396 with 1 Axes>"
      ]
     },
     "metadata": {},
     "output_type": "display_data"
    }
   ],
   "source": [
    "sns.countplot(data=data, x='income');"
   ]
  },
  {
   "cell_type": "markdown",
   "id": "K6Is8AOmaAPo",
   "metadata": {
    "id": "K6Is8AOmaAPo"
   },
   "source": [
    "Для удобства переобозначим целевой признак (не обязательный шаг)"
   ]
  },
  {
   "cell_type": "code",
   "execution_count": 6,
   "id": "Usgcbq1XaAPs",
   "metadata": {
    "id": "Usgcbq1XaAPs"
   },
   "outputs": [],
   "source": [
    "data['income'] = data['income'].apply(lambda x: 1 if x == '>50K' else 0)"
   ]
  },
  {
   "cell_type": "markdown",
   "id": "xIwY2FQhaAPy",
   "metadata": {
    "id": "xIwY2FQhaAPy"
   },
   "source": [
    "Исследуем категориальные признаки"
   ]
  },
  {
   "cell_type": "code",
   "execution_count": 7,
   "id": "JmkrvmJRaAP1",
   "metadata": {
    "colab": {
     "base_uri": "https://localhost:8080/"
    },
    "executionInfo": {
     "elapsed": 83,
     "status": "ok",
     "timestamp": 1650553530914,
     "user": {
      "displayName": "VICDS _",
      "userId": "16539764637744847477"
     },
     "user_tz": -180
    },
    "id": "JmkrvmJRaAP1",
    "outputId": "a3c43dff-3364-4c18-a1c1-2fd4cafe73d4"
   },
   "outputs": [
    {
     "data": {
      "text/plain": [
       "['workclass',\n",
       " 'education',\n",
       " 'marital.status',\n",
       " 'occupation',\n",
       " 'relationship',\n",
       " 'race',\n",
       " 'sex',\n",
       " 'native.country']"
      ]
     },
     "execution_count": 7,
     "metadata": {},
     "output_type": "execute_result"
    }
   ],
   "source": [
    "types = data.dtypes\n",
    "cat_features = list(types[(types == 'object')].index)\n",
    "cat_features"
   ]
  },
  {
   "cell_type": "code",
   "execution_count": 8,
   "id": "3yxdU4pcaAP6",
   "metadata": {
    "colab": {
     "base_uri": "https://localhost:8080/",
     "height": 1000
    },
    "executionInfo": {
     "elapsed": 13268,
     "status": "ok",
     "timestamp": 1650553544107,
     "user": {
      "displayName": "VICDS _",
      "userId": "16539764637744847477"
     },
     "user_tz": -180
    },
    "id": "3yxdU4pcaAP6",
    "outputId": "7bca258f-654d-4a03-cad0-324689d676dd"
   },
   "outputs": [
    {
     "data": {
      "image/png": "[encoded data removed]",
      "text/plain": [
       "<Figure size 1080x2880 with 16 Axes>"
      ]
     },
     "metadata": {},
     "output_type": "display_data"
    }
   ],
   "source": [
    "n = len(cat_features) #число категориальных признаков\n",
    "fig, axes = plt.subplots(n, 2, figsize=(15, 40)) #фигура+n*2 координатных плоскостей\n",
    "#Создаем цикл для всех признаков из списка категориальных признаков\n",
    "for i, feature in enumerate(cat_features):\n",
    "    #Строим количественную столбчатую для долевого соотношения каждой из категорий в данных\n",
    "    count_data = (data[feature].value_counts(normalize=True)\n",
    "                  .sort_values(ascending=False)\n",
    "                  .rename('percentage')\n",
    "                  .reset_index())\n",
    "    count_barplot = sns.barplot(data=count_data, x='index', y='percentage', ax=axes[i][0])\n",
    "    count_barplot.xaxis.set_tick_params(rotation=60)\n",
    "    #Строим столбчатую диаграмму доли людей зарабатывающих >50K (среднее по столбцу income) в зависимости от категории\n",
    "    mean_barplot = sns.barplot(data=data, x=feature, y='income', ax=axes[i][1])\n",
    "    mean_barplot.xaxis.set_tick_params(rotation=60)\n",
    "plt.tight_layout() #выравнивание графиков"
   ]
  },
  {
   "cell_type": "markdown",
   "id": "M20nsIRfaAP-",
   "metadata": {
    "id": "M20nsIRfaAP-",
    "tags": []
   },
   "source": [
    "### Подготовка данных (предобработка)"
   ]
  },
  {
   "cell_type": "markdown",
   "id": "4CRck6QraAQA",
   "metadata": {
    "id": "4CRck6QraAQA"
   },
   "source": [
    "Предобрабатываем категориальые признаки: уменьшаем количество категорий"
   ]
  },
  {
   "cell_type": "code",
   "execution_count": 9,
   "id": "ekkIvx0VaAQB",
   "metadata": {
    "id": "ekkIvx0VaAQB"
   },
   "outputs": [],
   "source": [
    "adult_data = data.copy()\n",
    "#Определяем школьников в отдельную категорию\n",
    "adult_data['education'] = adult_data['education'].apply(\n",
    "    lambda x: 'School' if x == '11th' or x == '7th-8th' or x == '10th' \n",
    "        or x == '5th-6th' or x == '9th' or x == '12th' or x == '1st-4th' else x\n",
    ")\n",
    "#Объединяем категории Assoc-acdm и Assoc-voc (доценты)\n",
    "adult_data['education'] = adult_data['education'].apply(\n",
    "    lambda x: 'Associate' if x == 'Assoc-acdm' or x == 'Assoc-voc' else x\n",
    ")\n",
    "#Объединяем вдовцов,разведенных и живущих раздельно в одну категорию\n",
    "adult_data['marital.status'] = adult_data['marital.status'].apply(\n",
    "    lambda x: 'Prev-Married' if (x == 'Widowed' or x == 'Divorced' or x == 'Separated') else x\n",
    ")\n",
    "#Объединяем всех женатых/за мужем в одну категорию\n",
    "adult_data['marital.status'] = adult_data['marital.status'].apply(\n",
    "    lambda x: 'Married' if (x == 'Married-civ-spouse' or x == 'Married-spouse-absent' or x == 'Married-AF-spouse') else x\n",
    ")\n",
    "#Объединяем мужей и жен в одну категорию, остальных в другую\n",
    "adult_data['relationship'] = adult_data['relationship'].apply(\n",
    "    lambda x: 'In relationship' if (x == 'Husband' or x == 'Whife') else 'Not in relationship'\n",
    ")\n",
    "\n",
    "#Объединяем типы занятоностей, не приносящих дохода в одну категорию\n",
    "adult_data['workclass'] = adult_data['workclass'].apply(\n",
    "    lambda x: 'No income' if x == 'Never-worked' or x == 'Without-pay' else x\n",
    ")\n",
    "#Объединяем всех приезжих в одну категорию\n",
    "adult_data['native.country'] = adult_data['native.country'].apply(\n",
    "    lambda x: 'Other' if x != 'United-States' else x\n",
    ")"
   ]
  },
  {
   "cell_type": "markdown",
   "id": "C2Vbxb0UaAQG",
   "metadata": {
    "id": "C2Vbxb0UaAQG"
   },
   "source": [
    "Предобрабатываем числовые признаки"
   ]
  },
  {
   "cell_type": "code",
   "execution_count": 10,
   "id": "a2zydTN0aAQH",
   "metadata": {
    "id": "a2zydTN0aAQH"
   },
   "outputs": [],
   "source": [
    "#Логарифмируем числовые признаки, чтобы придать им форму нормального распределения\n",
    "adult_data['capital.gain'] = np.log(adult_data['capital.gain']+1)\n",
    "adult_data['capital.loss'] = np.log(adult_data['capital.loss']+1)\n",
    "adult_data['fnlwgt'] = np.log(adult_data['fnlwgt']+1)\n",
    "\n",
    "#Создаем новый признак - разность между приростом капитала и его убылью\n",
    "adult_data['capital_diff'] = abs((adult_data['capital.gain'] - adult_data['capital.loss']))"
   ]
  },
  {
   "cell_type": "code",
   "execution_count": 11,
   "id": "i-NdGAE2aAQK",
   "metadata": {
    "id": "i-NdGAE2aAQK"
   },
   "outputs": [],
   "source": [
    "#Удаляем лишние признаки\n",
    "adult_data = adult_data.drop(['education.num', 'capital.gain', 'capital.loss'], axis=1)"
   ]
  },
  {
   "cell_type": "markdown",
   "id": "Qw-yZvffaAQM",
   "metadata": {
    "id": "Qw-yZvffaAQM"
   },
   "source": [
    "Проверяем результаты предобработки"
   ]
  },
  {
   "cell_type": "code",
   "execution_count": 12,
   "id": "OVCSQzHEaAQO",
   "metadata": {
    "colab": {
     "base_uri": "https://localhost:8080/"
    },
    "executionInfo": {
     "elapsed": 200,
     "status": "ok",
     "timestamp": 1650553544130,
     "user": {
      "displayName": "VICDS _",
      "userId": "16539764637744847477"
     },
     "user_tz": -180
    },
    "id": "OVCSQzHEaAQO",
    "outputId": "6c527ff2-ae07-4308-b69e-77c7a7ec92a1"
   },
   "outputs": [
    {
     "data": {
      "text/html": [
       "<div>\n",
       "<style scoped>\n",
       "    .dataframe tbody tr th:only-of-type {\n",
       "        vertical-align: middle;\n",
       "    }\n",
       "\n",
       "    .dataframe tbody tr th {\n",
       "        vertical-align: top;\n",
       "    }\n",
       "\n",
       "    .dataframe thead th {\n",
       "        text-align: right;\n",
       "    }\n",
       "</style>\n",
       "<table border=\"1\" class=\"dataframe\">\n",
       "  <thead>\n",
       "    <tr style=\"text-align: right;\">\n",
       "      <th></th>\n",
       "      <th>workclass</th>\n",
       "      <th>education</th>\n",
       "      <th>marital.status</th>\n",
       "      <th>occupation</th>\n",
       "      <th>relationship</th>\n",
       "      <th>race</th>\n",
       "      <th>sex</th>\n",
       "      <th>native.country</th>\n",
       "    </tr>\n",
       "  </thead>\n",
       "  <tbody>\n",
       "    <tr>\n",
       "      <th>count</th>\n",
       "      <td>32561</td>\n",
       "      <td>32561</td>\n",
       "      <td>32561</td>\n",
       "      <td>32561</td>\n",
       "      <td>32561</td>\n",
       "      <td>32561</td>\n",
       "      <td>32561</td>\n",
       "      <td>32561</td>\n",
       "    </tr>\n",
       "    <tr>\n",
       "      <th>unique</th>\n",
       "      <td>8</td>\n",
       "      <td>9</td>\n",
       "      <td>3</td>\n",
       "      <td>15</td>\n",
       "      <td>2</td>\n",
       "      <td>5</td>\n",
       "      <td>2</td>\n",
       "      <td>2</td>\n",
       "    </tr>\n",
       "    <tr>\n",
       "      <th>top</th>\n",
       "      <td>Private</td>\n",
       "      <td>HS-grad</td>\n",
       "      <td>Married</td>\n",
       "      <td>Prof-specialty</td>\n",
       "      <td>Not in relationship</td>\n",
       "      <td>White</td>\n",
       "      <td>Male</td>\n",
       "      <td>United-States</td>\n",
       "    </tr>\n",
       "    <tr>\n",
       "      <th>freq</th>\n",
       "      <td>22696</td>\n",
       "      <td>10501</td>\n",
       "      <td>15417</td>\n",
       "      <td>4140</td>\n",
       "      <td>19368</td>\n",
       "      <td>27816</td>\n",
       "      <td>21790</td>\n",
       "      <td>29170</td>\n",
       "    </tr>\n",
       "  </tbody>\n",
       "</table>\n",
       "</div>"
      ],
      "text/plain": [
       "       workclass education marital.status      occupation  \\\n",
       "count      32561     32561          32561           32561   \n",
       "unique         8         9              3              15   \n",
       "top      Private   HS-grad        Married  Prof-specialty   \n",
       "freq       22696     10501          15417            4140   \n",
       "\n",
       "               relationship   race    sex native.country  \n",
       "count                 32561  32561  32561          32561  \n",
       "unique                    2      5      2              2  \n",
       "top     Not in relationship  White   Male  United-States  \n",
       "freq                  19368  27816  21790          29170  "
      ]
     },
     "execution_count": 12,
     "metadata": {},
     "output_type": "execute_result"
    }
   ],
   "source": [
    "adult_data.describe(include='object')"
   ]
  },
  {
   "cell_type": "markdown",
   "id": "v50Y0j8DaAQP",
   "metadata": {
    "id": "v50Y0j8DaAQP"
   },
   "source": [
    "Оцениваем мультиколинеарность и взаимосвязь с целевым признаком"
   ]
  },
  {
   "cell_type": "code",
   "execution_count": 13,
   "id": "iy_THHijaAQQ",
   "metadata": {
    "colab": {
     "base_uri": "https://localhost:8080/"
    },
    "executionInfo": {
     "elapsed": 195,
     "status": "ok",
     "timestamp": 1650553544134,
     "user": {
      "displayName": "VICDS _",
      "userId": "16539764637744847477"
     },
     "user_tz": -180
    },
    "id": "iy_THHijaAQQ",
    "outputId": "e3f254f6-86c5-43a2-ca74-fd31ed5dc6fd"
   },
   "outputs": [
    {
     "data": {
      "image/png": "[encoded data removed]",
      "text/plain": [
       "<Figure size 720x360 with 2 Axes>"
      ]
     },
     "metadata": {},
     "output_type": "display_data"
    }
   ],
   "source": [
    "plt.figure(figsize = (10, 5))\n",
    "sns.heatmap(adult_data.corr(), annot = True);"
   ]
  },
  {
   "cell_type": "markdown",
   "id": "R8TLEU3UaAQS",
   "metadata": {
    "id": "R8TLEU3UaAQS"
   },
   "source": [
    "Кодируем текстовые категориальные признаки"
   ]
  },
  {
   "cell_type": "code",
   "execution_count": 14,
   "id": "dCxltn1NaAQU",
   "metadata": {
    "colab": {
     "base_uri": "https://localhost:8080/"
    },
    "executionInfo": {
     "elapsed": 182,
     "status": "ok",
     "timestamp": 1650553544140,
     "user": {
      "displayName": "VICDS _",
      "userId": "16539764637744847477"
     },
     "user_tz": -180
    },
    "id": "dCxltn1NaAQU",
    "outputId": "e5f8a6ac-0b70-47c5-ca00-085b128fc5d6"
   },
   "outputs": [
    {
     "data": {
      "text/html": [
       "<div>\n",
       "<style scoped>\n",
       "    .dataframe tbody tr th:only-of-type {\n",
       "        vertical-align: middle;\n",
       "    }\n",
       "\n",
       "    .dataframe tbody tr th {\n",
       "        vertical-align: top;\n",
       "    }\n",
       "\n",
       "    .dataframe thead th {\n",
       "        text-align: right;\n",
       "    }\n",
       "</style>\n",
       "<table border=\"1\" class=\"dataframe\">\n",
       "  <thead>\n",
       "    <tr style=\"text-align: right;\">\n",
       "      <th></th>\n",
       "      <th>age</th>\n",
       "      <th>fnlwgt</th>\n",
       "      <th>hours.per.week</th>\n",
       "      <th>income</th>\n",
       "      <th>capital_diff</th>\n",
       "      <th>workclass_Federal-gov</th>\n",
       "      <th>workclass_Local-gov</th>\n",
       "      <th>workclass_No income</th>\n",
       "      <th>workclass_Private</th>\n",
       "      <th>workclass_Self-emp-inc</th>\n",
       "      <th>...</th>\n",
       "      <th>occupation_Sales</th>\n",
       "      <th>occupation_Tech-support</th>\n",
       "      <th>occupation_Transport-moving</th>\n",
       "      <th>relationship_Not in relationship</th>\n",
       "      <th>race_Asian-Pac-Islander</th>\n",
       "      <th>race_Black</th>\n",
       "      <th>race_Other</th>\n",
       "      <th>race_White</th>\n",
       "      <th>sex_Male</th>\n",
       "      <th>native.country_United-States</th>\n",
       "    </tr>\n",
       "  </thead>\n",
       "  <tbody>\n",
       "    <tr>\n",
       "      <th>0</th>\n",
       "      <td>90</td>\n",
       "      <td>11.252262</td>\n",
       "      <td>40</td>\n",
       "      <td>0</td>\n",
       "      <td>8.379539</td>\n",
       "      <td>0</td>\n",
       "      <td>0</td>\n",
       "      <td>0</td>\n",
       "      <td>0</td>\n",
       "      <td>0</td>\n",
       "      <td>...</td>\n",
       "      <td>0</td>\n",
       "      <td>0</td>\n",
       "      <td>0</td>\n",
       "      <td>1</td>\n",
       "      <td>0</td>\n",
       "      <td>0</td>\n",
       "      <td>0</td>\n",
       "      <td>1</td>\n",
       "      <td>0</td>\n",
       "      <td>1</td>\n",
       "    </tr>\n",
       "    <tr>\n",
       "      <th>1</th>\n",
       "      <td>82</td>\n",
       "      <td>11.797134</td>\n",
       "      <td>18</td>\n",
       "      <td>0</td>\n",
       "      <td>8.379539</td>\n",
       "      <td>0</td>\n",
       "      <td>0</td>\n",
       "      <td>0</td>\n",
       "      <td>1</td>\n",
       "      <td>0</td>\n",
       "      <td>...</td>\n",
       "      <td>0</td>\n",
       "      <td>0</td>\n",
       "      <td>0</td>\n",
       "      <td>1</td>\n",
       "      <td>0</td>\n",
       "      <td>0</td>\n",
       "      <td>0</td>\n",
       "      <td>1</td>\n",
       "      <td>0</td>\n",
       "      <td>1</td>\n",
       "    </tr>\n",
       "    <tr>\n",
       "      <th>2</th>\n",
       "      <td>66</td>\n",
       "      <td>12.133835</td>\n",
       "      <td>40</td>\n",
       "      <td>0</td>\n",
       "      <td>8.379539</td>\n",
       "      <td>0</td>\n",
       "      <td>0</td>\n",
       "      <td>0</td>\n",
       "      <td>0</td>\n",
       "      <td>0</td>\n",
       "      <td>...</td>\n",
       "      <td>0</td>\n",
       "      <td>0</td>\n",
       "      <td>0</td>\n",
       "      <td>1</td>\n",
       "      <td>0</td>\n",
       "      <td>1</td>\n",
       "      <td>0</td>\n",
       "      <td>0</td>\n",
       "      <td>0</td>\n",
       "      <td>1</td>\n",
       "    </tr>\n",
       "    <tr>\n",
       "      <th>3</th>\n",
       "      <td>54</td>\n",
       "      <td>11.851966</td>\n",
       "      <td>40</td>\n",
       "      <td>0</td>\n",
       "      <td>8.268988</td>\n",
       "      <td>0</td>\n",
       "      <td>0</td>\n",
       "      <td>0</td>\n",
       "      <td>1</td>\n",
       "      <td>0</td>\n",
       "      <td>...</td>\n",
       "      <td>0</td>\n",
       "      <td>0</td>\n",
       "      <td>0</td>\n",
       "      <td>1</td>\n",
       "      <td>0</td>\n",
       "      <td>0</td>\n",
       "      <td>0</td>\n",
       "      <td>1</td>\n",
       "      <td>0</td>\n",
       "      <td>1</td>\n",
       "    </tr>\n",
       "    <tr>\n",
       "      <th>4</th>\n",
       "      <td>41</td>\n",
       "      <td>12.486216</td>\n",
       "      <td>40</td>\n",
       "      <td>0</td>\n",
       "      <td>8.268988</td>\n",
       "      <td>0</td>\n",
       "      <td>0</td>\n",
       "      <td>0</td>\n",
       "      <td>1</td>\n",
       "      <td>0</td>\n",
       "      <td>...</td>\n",
       "      <td>0</td>\n",
       "      <td>0</td>\n",
       "      <td>0</td>\n",
       "      <td>1</td>\n",
       "      <td>0</td>\n",
       "      <td>0</td>\n",
       "      <td>0</td>\n",
       "      <td>1</td>\n",
       "      <td>0</td>\n",
       "      <td>1</td>\n",
       "    </tr>\n",
       "  </tbody>\n",
       "</table>\n",
       "<p>5 rows × 43 columns</p>\n",
       "</div>"
      ],
      "text/plain": [
       "   age     fnlwgt  hours.per.week  income  capital_diff  \\\n",
       "0   90  11.252262              40       0      8.379539   \n",
       "1   82  11.797134              18       0      8.379539   \n",
       "2   66  12.133835              40       0      8.379539   \n",
       "3   54  11.851966              40       0      8.268988   \n",
       "4   41  12.486216              40       0      8.268988   \n",
       "\n",
       "   workclass_Federal-gov  workclass_Local-gov  workclass_No income  \\\n",
       "0                      0                    0                    0   \n",
       "1                      0                    0                    0   \n",
       "2                      0                    0                    0   \n",
       "3                      0                    0                    0   \n",
       "4                      0                    0                    0   \n",
       "\n",
       "   workclass_Private  workclass_Self-emp-inc  ...  occupation_Sales  \\\n",
       "0                  0                       0  ...                 0   \n",
       "1                  1                       0  ...                 0   \n",
       "2                  0                       0  ...                 0   \n",
       "3                  1                       0  ...                 0   \n",
       "4                  1                       0  ...                 0   \n",
       "\n",
       "   occupation_Tech-support  occupation_Transport-moving  \\\n",
       "0                        0                            0   \n",
       "1                        0                            0   \n",
       "2                        0                            0   \n",
       "3                        0                            0   \n",
       "4                        0                            0   \n",
       "\n",
       "   relationship_Not in relationship  race_Asian-Pac-Islander  race_Black  \\\n",
       "0                                 1                        0           0   \n",
       "1                                 1                        0           0   \n",
       "2                                 1                        0           1   \n",
       "3                                 1                        0           0   \n",
       "4                                 1                        0           0   \n",
       "\n",
       "   race_Other  race_White  sex_Male  native.country_United-States  \n",
       "0           0           1         0                             1  \n",
       "1           0           1         0                             1  \n",
       "2           0           0         0                             1  \n",
       "3           0           1         0                             1  \n",
       "4           0           1         0                             1  \n",
       "\n",
       "[5 rows x 43 columns]"
      ]
     },
     "execution_count": 14,
     "metadata": {},
     "output_type": "execute_result"
    }
   ],
   "source": [
    "dummies_data = pd.get_dummies(adult_data, drop_first=True)\n",
    "dummies_data.head()"
   ]
  },
  {
   "cell_type": "markdown",
   "id": "8p3eELnEaAQW",
   "metadata": {
    "id": "8p3eELnEaAQW"
   },
   "source": [
    "Создаем матрицу наблюдений $X$ и вектор ответов $y$"
   ]
  },
  {
   "cell_type": "code",
   "execution_count": 15,
   "id": "_2GncsCbaAQY",
   "metadata": {
    "id": "_2GncsCbaAQY"
   },
   "outputs": [],
   "source": [
    "X = dummies_data.drop(['income'], axis=1)\n",
    "y = dummies_data['income']"
   ]
  },
  {
   "cell_type": "markdown",
   "id": "q4SyRSFhaAQZ",
   "metadata": {
    "id": "q4SyRSFhaAQZ"
   },
   "source": [
    "Разделяем выборку на тренировочную и тестовую в соотношении 80/20. Для сохранения соотношений целевого признака используем параметр stratify (стратифицированное разбиение). "
   ]
  },
  {
   "cell_type": "code",
   "execution_count": 16,
   "id": "Fl_eJIInaAQa",
   "metadata": {
    "id": "Fl_eJIInaAQa"
   },
   "outputs": [],
   "source": [
    "X_train, X_test, y_train, y_test = train_test_split(X, y, stratify=y, random_state = 1, test_size = 0.2)"
   ]
  },
  {
   "cell_type": "markdown",
   "id": "NTmUGmXqaAQc",
   "metadata": {
    "id": "NTmUGmXqaAQc"
   },
   "source": [
    "Производим нормализацию данных с помощью min-max нормализации"
   ]
  },
  {
   "cell_type": "code",
   "execution_count": 17,
   "id": "dcAjG5bKaAQd",
   "metadata": {
    "id": "dcAjG5bKaAQd"
   },
   "outputs": [],
   "source": [
    "scaler = preprocessing.MinMaxScaler()\n",
    "scaler.fit(X_train)\n",
    "X_train_scaled = scaler.transform(X_train)\n",
    "X_test_scaled = scaler.transform(X_test)"
   ]
  },
  {
   "cell_type": "markdown",
   "id": "H7DZBta2aAQf",
   "metadata": {
    "id": "H7DZBta2aAQf",
    "tags": []
   },
   "source": [
    "### Оптимизация гиперпараметров модели"
   ]
  },
  {
   "cell_type": "markdown",
   "id": "CE7v-medaAQh",
   "metadata": {
    "id": "CE7v-medaAQh",
    "tags": []
   },
   "source": [
    "#### **Логистическая регрессия**"
   ]
  },
  {
   "cell_type": "markdown",
   "id": "5b6d603a-1ce0-414e-b095-e0f61113c0e7",
   "metadata": {
    "id": "5b6d603a-1ce0-414e-b095-e0f61113c0e7"
   },
   "source": [
    "Зафиксируем только метрики, которые были получены без дополнительной настройки, т.е со значениями гиперпараметров, установленных по умолчанию:"
   ]
  },
  {
   "cell_type": "code",
   "execution_count": 18,
   "id": "0aMCHU3-aAQn",
   "metadata": {
    "colab": {
     "base_uri": "https://localhost:8080/"
    },
    "executionInfo": {
     "elapsed": 160,
     "status": "ok",
     "timestamp": 1650547896821,
     "user": {
      "displayName": "VICDS _",
      "userId": "16539764637744847477"
     },
     "user_tz": -180
    },
    "id": "0aMCHU3-aAQn",
    "outputId": "ce2823fa-1cb5-4ec5-dd51-fec74d3ccd33"
   },
   "outputs": [
    {
     "name": "stdout",
     "output_type": "stream",
     "text": [
      "accuracy на тестовом наборе: 0.84\n",
      "f1_score на тестовом наборе: 0.64\n"
     ]
    }
   ],
   "source": [
    "#Создаем объект класса логистическая регрессия\n",
    "log_reg = linear_model.LogisticRegression(max_iter = 1000)\n",
    "#Обучаем модель, минимизируя logloss\n",
    "log_reg.fit(X_train_scaled, y_train)\n",
    "print(\"accuracy на тестовом наборе: {:.2f}\".format(log_reg.score(X_test_scaled, y_test)))\n",
    "y_test_pred = log_reg.predict(X_test_scaled)\n",
    "print('f1_score на тестовом наборе: {:.2f}'.format(metrics.f1_score(y_test, y_test_pred)))"
   ]
  },
  {
   "cell_type": "markdown",
   "id": "Q6PP7ObJp7WG",
   "metadata": {
    "id": "Q6PP7ObJp7WG"
   },
   "source": [
    "### <center> **GridSearchCV**"
   ]
  },
  {
   "cell_type": "markdown",
   "id": "VfXtklWP5cJI",
   "metadata": {
    "id": "VfXtklWP5cJI"
   },
   "source": [
    "Чтобы воспользоваться классом GridSearchCV:\n",
    "- сначала необходимо импортировать библиотеку; \n",
    "- затем указать искомые гиперпараметры в виде словаря: ключами словаря являются имена настраиваемых гиперпараметров, а значениями – тестируемые настройки гиперпараметров; \n",
    "- после передаем модель (LogisticRegression), сетку искомых параметров (param_grid), а также число фолдов, которые мы хотим использовать в кросс-валидации, (допустим, пятиблочную кросс-валидацию, cv=5) и n_jobs = -1, чтобы использовать все доступные ядра для расчетов.\n",
    "\n",
    "Созданный нами объект grid_search аналогичен классификатору, мы можем вызвать стандартные методы fit, predict и score от его имени. Однако, когда мы вызываем fit, он запускает кросс-валидацию для каждой комбинации гиперпараметров, указанных в param_grid.\n",
    "\n",
    "GridSearchCV включает в себя не только поиск лучших параметров, но и автоматическое построение новой модели на всем обучающем наборе данных, используя параметры, которые дают наилучшее значение точности при кросс-валидации.\n"
   ]
  },
  {
   "cell_type": "code",
   "execution_count": 48,
   "id": "gLkG_sbSkBcu",
   "metadata": {
    "colab": {
     "base_uri": "https://localhost:8080/"
    },
    "executionInfo": {
     "elapsed": 71581,
     "status": "ok",
     "timestamp": 1650547968248,
     "user": {
      "displayName": "VICDS _",
      "userId": "16539764637744847477"
     },
     "user_tz": -180
    },
    "id": "gLkG_sbSkBcu",
    "outputId": "9bf92017-3d32-43fd-f801-9533285646b4"
   },
   "outputs": [
    {
     "name": "stdout",
     "output_type": "stream",
     "text": [
      "CPU times: total: 2.92 s\n",
      "Wall time: 26.6 s\n",
      "accuracy на тестовом наборе: 0.84\n",
      "f1_score на тестовом наборе: 0.64\n",
      "Наилучшие значения гиперпараметров: {'penalty': 'none', 'solver': 'lbfgs'}\n"
     ]
    }
   ],
   "source": [
    "from sklearn.model_selection import GridSearchCV\n",
    "\n",
    "param_grid = {'penalty': ['l2', 'none'] ,#тип регурялизации\n",
    "              'solver': ['lbfgs', 'saga'], #алгоритм оптимизации\n",
    "              }\n",
    "grid_search = GridSearchCV(\n",
    "    estimator=linear_model.LogisticRegression(\n",
    "        random_state=42, #генератор случайных чисел\n",
    "        max_iter=1000 #количество итераций на сходимость\n",
    "    ), \n",
    "    param_grid=param_grid, \n",
    "    cv=5, \n",
    "    n_jobs = -1\n",
    ")  \n",
    "%time grid_search.fit(X_train_scaled, y_train) \n",
    "print(\"accuracy на тестовом наборе: {:.2f}\".format(grid_search.score(X_test_scaled, y_test)))\n",
    "y_test_pred = grid_search.predict(X_test_scaled)\n",
    "print('f1_score на тестовом наборе: {:.2f}'.format(metrics.f1_score(y_test, y_test_pred)))\n",
    "print(\"Наилучшие значения гиперпараметров: {}\".format(grid_search.best_params_))"
   ]
  },
  {
   "cell_type": "markdown",
   "id": "C6O5rNDhXwN6",
   "metadata": {
    "id": "C6O5rNDhXwN6"
   },
   "source": [
    "Значения метрик не изменились, но это значит лишь, что мы не нашли комбинацию внешних параметров лучше, чем заданы по умолчанию. Это не удивительно и достаточно часто исходные  гиперпараметры дают неплохой результат, но это не повод останавливаться."
   ]
  },
  {
   "cell_type": "markdown",
   "id": "hfB5oM25HGp2",
   "metadata": {
    "id": "hfB5oM25HGp2",
    "tags": []
   },
   "source": [
    "**Попробуем расширить сетку гиперпараметров.**"
   ]
  },
  {
   "cell_type": "code",
   "execution_count": 23,
   "id": "drR8M2WLjOyM",
   "metadata": {
    "colab": {
     "base_uri": "https://localhost:8080/"
    },
    "executionInfo": {
     "elapsed": 444303,
     "status": "ok",
     "timestamp": 1650548412305,
     "user": {
      "displayName": "VICDS _",
      "userId": "16539764637744847477"
     },
     "user_tz": -180
    },
    "id": "drR8M2WLjOyM",
    "outputId": "706f049a-5f83-4c39-8b70-36b2e1ab1c4c"
   },
   "outputs": [
    {
     "name": "stdout",
     "output_type": "stream",
     "text": [
      "CPU times: total: 1.62 s\n",
      "Wall time: 2min 8s\n",
      "accuracy на тестовом наборе: 0.84\n",
      "f1_score на тестовом наборе: 0.64\n",
      "Наилучшие значения гиперпараметров: {'C': 0.3, 'penalty': 'l2', 'solver': 'lbfgs'}\n"
     ]
    }
   ],
   "source": [
    "param_grid = [\n",
    "              {'penalty': ['l2', 'none'] , # тип регуляризации\n",
    "              'solver': ['lbfgs', 'sag'], # алгоритм оптимизации\n",
    "               'C': [0.01, 0.1, 0.3, 0.5, 0.7, 0.9, 1]}, # уровень силы регурялизации\n",
    "              \n",
    "              {'penalty': ['l1', 'l2'] ,\n",
    "              'solver': ['liblinear', 'saga'],\n",
    "               'C': [0.01, 0.1, 0.3, 0.5, 0.7, 0.9, 1]}\n",
    "]\n",
    "grid_search_1 = GridSearchCV(\n",
    "    estimator=linear_model.LogisticRegression(random_state=1, max_iter=1000), \n",
    "    param_grid=param_grid, \n",
    "    cv=5, \n",
    "    n_jobs = -1\n",
    ")  \n",
    "%time grid_search_1.fit(X_train_scaled, y_train) \n",
    "print(\"accuracy на тестовом наборе: {:.2f}\".format(grid_search_1.score(X_test_scaled, y_test)))\n",
    "y_test_pred = grid_search_1.predict(X_test_scaled)\n",
    "print('f1_score на тестовом наборе: {:.2f}'.format(metrics.f1_score(y_test, y_test_pred)))\n",
    "print(\"Наилучшие значения гиперпараметров: {}\".format(grid_search_1.best_params_))"
   ]
  },
  {
   "cell_type": "markdown",
   "id": "ln1LrZaOXcLU",
   "metadata": {
    "id": "ln1LrZaOXcLU"
   },
   "source": [
    "**Метрику опять не удалось улучшить, а время потратили много, в 5 раз больше!**\n",
    "\n",
    "Поиск по сетке не гарантирует, что мы найдем наилучшую комбинацию гиперпараметров, а все потому что сетка значений конечна и фактическое наилучшее значение может отсутствовать или оказаться между значений, заданными нами.\n"
   ]
  },
  {
   "cell_type": "markdown",
   "id": "GA09esoBG6WS",
   "metadata": {
    "id": "GA09esoBG6WS"
   },
   "source": [
    "Ознакомиться с итоговой полученной моделью можно с помощью best_estimator_. "
   ]
  },
  {
   "cell_type": "code",
   "execution_count": 49,
   "id": "8hzskokPDJ00",
   "metadata": {
    "colab": {
     "base_uri": "https://localhost:8080/"
    },
    "executionInfo": {
     "elapsed": 223,
     "status": "ok",
     "timestamp": 1650548412981,
     "user": {
      "displayName": "VICDS _",
      "userId": "16539764637744847477"
     },
     "user_tz": -180
    },
    "id": "8hzskokPDJ00",
    "outputId": "2bef60a5-b3aa-4824-ffe9-8ee140a2e501"
   },
   "outputs": [
    {
     "name": "stdout",
     "output_type": "stream",
     "text": [
      "Наилучшая модель:\n",
      "LogisticRegression(max_iter=1000, penalty='none', random_state=42)\n"
     ]
    }
   ],
   "source": [
    "print(\"Наилучшая модель:\\n{}\".format(grid_search.best_estimator_))"
   ]
  },
  {
   "cell_type": "markdown",
   "id": "N-zMC1gqGntK",
   "metadata": {
    "id": "N-zMC1gqGntK"
   },
   "source": [
    "А наилучшее значение точности кросс-валидации (значение точности, усредненное по всем разбиениям для данной комбинации гиперпараметров) – в атрибуте best_score_. \n",
    "\n",
    "**не путайте best_score_ со значением точности модели, которое вычисляется на тестовом наборе с помощью метода score. Метод score (оценивающий качество результатов, полученных с помощью метода predict) использует модель, построенную на всем обучающем наборе данных. В атрибуте best_score_ записывается средняя точность кросс-валидации. Для ее вычисления используется модель, построенная на обучающем наборе кросс-валидации."
   ]
  },
  {
   "cell_type": "code",
   "execution_count": 50,
   "id": "BNIsmrjP6GZY",
   "metadata": {
    "colab": {
     "base_uri": "https://localhost:8080/"
    },
    "executionInfo": {
     "elapsed": 767,
     "status": "ok",
     "timestamp": 1650548412976,
     "user": {
      "displayName": "VICDS _",
      "userId": "16539764637744847477"
     },
     "user_tz": -180
    },
    "id": "BNIsmrjP6GZY",
    "outputId": "9f0517e0-446c-41a2-8f27-c85644a8b58d"
   },
   "outputs": [
    {
     "name": "stdout",
     "output_type": "stream",
     "text": [
      "Наилучшее значение точности при кросс-валидаци: 0.84\n"
     ]
    }
   ],
   "source": [
    "print(\"Наилучшее значение точности при кросс-валидаци: {:.2f}\".format(grid_search.best_score_))"
   ]
  },
  {
   "cell_type": "code",
   "execution_count": 51,
   "id": "fASVNY14lbzb",
   "metadata": {
    "colab": {
     "base_uri": "https://localhost:8080/",
     "height": 350
    },
    "executionInfo": {
     "elapsed": 223,
     "status": "ok",
     "timestamp": 1650548413014,
     "user": {
      "displayName": "VICDS _",
      "userId": "16539764637744847477"
     },
     "user_tz": -180
    },
    "id": "fASVNY14lbzb",
    "outputId": "c9b9a52e-c01f-453d-b410-71512b22f813"
   },
   "outputs": [
    {
     "data": {
      "text/html": [
       "<div>\n",
       "<style scoped>\n",
       "    .dataframe tbody tr th:only-of-type {\n",
       "        vertical-align: middle;\n",
       "    }\n",
       "\n",
       "    .dataframe tbody tr th {\n",
       "        vertical-align: top;\n",
       "    }\n",
       "\n",
       "    .dataframe thead th {\n",
       "        text-align: right;\n",
       "    }\n",
       "</style>\n",
       "<table border=\"1\" class=\"dataframe\">\n",
       "  <thead>\n",
       "    <tr style=\"text-align: right;\">\n",
       "      <th></th>\n",
       "      <th>mean_fit_time</th>\n",
       "      <th>std_fit_time</th>\n",
       "      <th>mean_score_time</th>\n",
       "      <th>std_score_time</th>\n",
       "      <th>param_C</th>\n",
       "      <th>param_penalty</th>\n",
       "      <th>param_solver</th>\n",
       "      <th>params</th>\n",
       "      <th>split0_test_score</th>\n",
       "      <th>split1_test_score</th>\n",
       "      <th>split2_test_score</th>\n",
       "      <th>split3_test_score</th>\n",
       "      <th>split4_test_score</th>\n",
       "      <th>mean_test_score</th>\n",
       "      <th>std_test_score</th>\n",
       "      <th>rank_test_score</th>\n",
       "    </tr>\n",
       "  </thead>\n",
       "  <tbody>\n",
       "    <tr>\n",
       "      <th>0</th>\n",
       "      <td>0.201048</td>\n",
       "      <td>0.014488</td>\n",
       "      <td>0.002507</td>\n",
       "      <td>0.001015</td>\n",
       "      <td>0.01</td>\n",
       "      <td>l2</td>\n",
       "      <td>lbfgs</td>\n",
       "      <td>{'C': 0.01, 'penalty': 'l2', 'solver': 'lbfgs'}</td>\n",
       "      <td>0.838004</td>\n",
       "      <td>0.833781</td>\n",
       "      <td>0.838004</td>\n",
       "      <td>0.839317</td>\n",
       "      <td>0.836437</td>\n",
       "      <td>0.837108</td>\n",
       "      <td>0.001897</td>\n",
       "      <td>51</td>\n",
       "    </tr>\n",
       "    <tr>\n",
       "      <th>1</th>\n",
       "      <td>0.392382</td>\n",
       "      <td>0.026782</td>\n",
       "      <td>0.002500</td>\n",
       "      <td>0.000632</td>\n",
       "      <td>0.01</td>\n",
       "      <td>l2</td>\n",
       "      <td>sag</td>\n",
       "      <td>{'C': 0.01, 'penalty': 'l2', 'solver': 'sag'}</td>\n",
       "      <td>0.838004</td>\n",
       "      <td>0.833781</td>\n",
       "      <td>0.838004</td>\n",
       "      <td>0.839317</td>\n",
       "      <td>0.836437</td>\n",
       "      <td>0.837108</td>\n",
       "      <td>0.001897</td>\n",
       "      <td>51</td>\n",
       "    </tr>\n",
       "  </tbody>\n",
       "</table>\n",
       "</div>"
      ],
      "text/plain": [
       "   mean_fit_time  std_fit_time  mean_score_time  std_score_time param_C  \\\n",
       "0       0.201048      0.014488         0.002507        0.001015    0.01   \n",
       "1       0.392382      0.026782         0.002500        0.000632    0.01   \n",
       "\n",
       "  param_penalty param_solver                                           params  \\\n",
       "0            l2        lbfgs  {'C': 0.01, 'penalty': 'l2', 'solver': 'lbfgs'}   \n",
       "1            l2          sag    {'C': 0.01, 'penalty': 'l2', 'solver': 'sag'}   \n",
       "\n",
       "   split0_test_score  split1_test_score  split2_test_score  split3_test_score  \\\n",
       "0           0.838004           0.833781           0.838004           0.839317   \n",
       "1           0.838004           0.833781           0.838004           0.839317   \n",
       "\n",
       "   split4_test_score  mean_test_score  std_test_score  rank_test_score  \n",
       "0           0.836437         0.837108        0.001897               51  \n",
       "1           0.836437         0.837108        0.001897               51  "
      ]
     },
     "execution_count": 51,
     "metadata": {},
     "output_type": "execute_result"
    }
   ],
   "source": [
    "# Взглянем на результаты кросс-валидации\n",
    "result_cv = pd.DataFrame(grid_search_1.cv_results_)\n",
    "result_cv.head(2)\n"
   ]
  },
  {
   "cell_type": "code",
   "execution_count": 52,
   "id": "POygdqzwlFeu",
   "metadata": {
    "colab": {
     "base_uri": "https://localhost:8080/"
    },
    "executionInfo": {
     "elapsed": 224,
     "status": "ok",
     "timestamp": 1650548413031,
     "user": {
      "displayName": "VICDS _",
      "userId": "16539764637744847477"
     },
     "user_tz": -180
    },
    "id": "POygdqzwlFeu",
    "outputId": "019d7837-bd67-41f2-e470-4a3da66c62ef"
   },
   "outputs": [
    {
     "data": {
      "text/plain": [
       "Index(['mean_fit_time', 'std_fit_time', 'mean_score_time', 'std_score_time',\n",
       "       'param_C', 'param_penalty', 'param_solver', 'params',\n",
       "       'split0_test_score', 'split1_test_score', 'split2_test_score',\n",
       "       'split3_test_score', 'split4_test_score', 'mean_test_score',\n",
       "       'std_test_score', 'rank_test_score'],\n",
       "      dtype='object')"
      ]
     },
     "execution_count": 52,
     "metadata": {},
     "output_type": "execute_result"
    }
   ],
   "source": [
    "result_cv.columns"
   ]
  },
  {
   "cell_type": "code",
   "execution_count": 53,
   "id": "J8Fvuix4j1o5",
   "metadata": {
    "colab": {
     "base_uri": "https://localhost:8080/",
     "height": 296
    },
    "executionInfo": {
     "elapsed": 990,
     "status": "ok",
     "timestamp": 1650548413834,
     "user": {
      "displayName": "VICDS _",
      "userId": "16539764637744847477"
     },
     "user_tz": -180
    },
    "id": "J8Fvuix4j1o5",
    "outputId": "4a273bb7-e0e2-4b00-bb90-3c8c655b5855"
   },
   "outputs": [
    {
     "data": {
      "image/png": "[encoded data removed]",
      "text/plain": [
       "<Figure size 576x396 with 2 Axes>"
      ]
     },
     "metadata": {},
     "output_type": "display_data"
    }
   ],
   "source": [
    "# отрисуем, как менялась точность при различных гиперпараметрах\n",
    "visual = pd.pivot_table(pd.DataFrame(grid_search_1.cv_results_),\n",
    "                        values='mean_test_score', index='param_C',\n",
    "                        columns='param_solver')\n",
    "sns.heatmap(visual)\n",
    "plt.title('Тепловая карта зависимости метрики accuracy от solver и С') # подпись графика\n",
    "sns.set(rc={'figure.figsize':(12, 8)}) #задаем размер графика"
   ]
  },
  {
   "cell_type": "markdown",
   "id": "HdhfiJvUSia7",
   "metadata": {
    "id": "HdhfiJvUSia7"
   },
   "source": [
    "Видим, что слабая регуляризация С = 0,01 отрицательно влияет на метрику, поэтому есть смысл брать значения больше 0,5 и  алгоритмы оптимизации lbfgs и sag работают лучше."
   ]
  },
  {
   "cell_type": "markdown",
   "id": "QOlWE5zSptj0",
   "metadata": {
    "id": "QOlWE5zSptj0"
   },
   "source": [
    "### <center> **RandomizedSearchCV**"
   ]
  },
  {
   "cell_type": "markdown",
   "id": "stnYdU2-rN4a",
   "metadata": {
    "id": "stnYdU2-rN4a"
   },
   "source": [
    "В отличие от GridSearchCV, не все комбинации гиперпараметров проверяются, а только заданное количество комбинаций выбирается из указанных распределений. Количество комбинаций гиперпараметров задается n_iter.\n",
    "\n",
    "С использованием класса RandomizedSearchCV из библиотеки scikit learn мы осуществим оптимизацию гиперпараметров для алгоритмов логистической регрессии, дерева решений и случайного леса, а также сравним результаты с GridSearchCV и значениями по умолчанию."
   ]
  },
  {
   "cell_type": "code",
   "execution_count": 29,
   "id": "4yjUJJKntcX7",
   "metadata": {
    "colab": {
     "base_uri": "https://localhost:8080/"
    },
    "executionInfo": {
     "elapsed": 67382,
     "status": "ok",
     "timestamp": 1650548481134,
     "user": {
      "displayName": "VICDS _",
      "userId": "16539764637744847477"
     },
     "user_tz": -180
    },
    "id": "4yjUJJKntcX7",
    "outputId": "c7964d60-9c70-42f4-8f0c-217d9e568ddc"
   },
   "outputs": [
    {
     "ename": "KeyboardInterrupt",
     "evalue": "",
     "output_type": "error",
     "traceback": [
      "\u001b[1;31m---------------------------------------------------------------------------\u001b[0m",
      "\u001b[1;31mKeyboardInterrupt\u001b[0m                         Traceback (most recent call last)",
      "File \u001b[1;32m<timed eval>:1\u001b[0m, in \u001b[0;36m<module>\u001b[1;34m\u001b[0m\n",
      "File \u001b[1;32mc:\\Users\\kuzin\\AppData\\Local\\Programs\\Python\\Python39\\lib\\site-packages\\sklearn\\model_selection\\_search.py:875\u001b[0m, in \u001b[0;36mBaseSearchCV.fit\u001b[1;34m(self, X, y, groups, **fit_params)\u001b[0m\n\u001b[0;32m    869\u001b[0m     results \u001b[39m=\u001b[39m \u001b[39mself\u001b[39m\u001b[39m.\u001b[39m_format_results(\n\u001b[0;32m    870\u001b[0m         all_candidate_params, n_splits, all_out, all_more_results\n\u001b[0;32m    871\u001b[0m     )\n\u001b[0;32m    873\u001b[0m     \u001b[39mreturn\u001b[39;00m results\n\u001b[1;32m--> 875\u001b[0m \u001b[39mself\u001b[39;49m\u001b[39m.\u001b[39;49m_run_search(evaluate_candidates)\n\u001b[0;32m    877\u001b[0m \u001b[39m# multimetric is determined here because in the case of a callable\u001b[39;00m\n\u001b[0;32m    878\u001b[0m \u001b[39m# self.scoring the return type is only known after calling\u001b[39;00m\n\u001b[0;32m    879\u001b[0m first_test_score \u001b[39m=\u001b[39m all_out[\u001b[39m0\u001b[39m][\u001b[39m\"\u001b[39m\u001b[39mtest_scores\u001b[39m\u001b[39m\"\u001b[39m]\n",
      "File \u001b[1;32mc:\\Users\\kuzin\\AppData\\Local\\Programs\\Python\\Python39\\lib\\site-packages\\sklearn\\model_selection\\_search.py:1753\u001b[0m, in \u001b[0;36mRandomizedSearchCV._run_search\u001b[1;34m(self, evaluate_candidates)\u001b[0m\n\u001b[0;32m   1751\u001b[0m \u001b[39mdef\u001b[39;00m \u001b[39m_run_search\u001b[39m(\u001b[39mself\u001b[39m, evaluate_candidates):\n\u001b[0;32m   1752\u001b[0m     \u001b[39m\"\"\"Search n_iter candidates from param_distributions\"\"\"\u001b[39;00m\n\u001b[1;32m-> 1753\u001b[0m     evaluate_candidates(\n\u001b[0;32m   1754\u001b[0m         ParameterSampler(\n\u001b[0;32m   1755\u001b[0m             \u001b[39mself\u001b[39;49m\u001b[39m.\u001b[39;49mparam_distributions, \u001b[39mself\u001b[39;49m\u001b[39m.\u001b[39;49mn_iter, random_state\u001b[39m=\u001b[39;49m\u001b[39mself\u001b[39;49m\u001b[39m.\u001b[39;49mrandom_state\n\u001b[0;32m   1756\u001b[0m         )\n\u001b[0;32m   1757\u001b[0m     )\n",
      "File \u001b[1;32mc:\\Users\\kuzin\\AppData\\Local\\Programs\\Python\\Python39\\lib\\site-packages\\sklearn\\model_selection\\_search.py:822\u001b[0m, in \u001b[0;36mBaseSearchCV.fit.<locals>.evaluate_candidates\u001b[1;34m(candidate_params, cv, more_results)\u001b[0m\n\u001b[0;32m    814\u001b[0m \u001b[39mif\u001b[39;00m \u001b[39mself\u001b[39m\u001b[39m.\u001b[39mverbose \u001b[39m>\u001b[39m \u001b[39m0\u001b[39m:\n\u001b[0;32m    815\u001b[0m     \u001b[39mprint\u001b[39m(\n\u001b[0;32m    816\u001b[0m         \u001b[39m\"\u001b[39m\u001b[39mFitting \u001b[39m\u001b[39m{0}\u001b[39;00m\u001b[39m folds for each of \u001b[39m\u001b[39m{1}\u001b[39;00m\u001b[39m candidates,\u001b[39m\u001b[39m\"\u001b[39m\n\u001b[0;32m    817\u001b[0m         \u001b[39m\"\u001b[39m\u001b[39m totalling \u001b[39m\u001b[39m{2}\u001b[39;00m\u001b[39m fits\u001b[39m\u001b[39m\"\u001b[39m\u001b[39m.\u001b[39mformat(\n\u001b[0;32m    818\u001b[0m             n_splits, n_candidates, n_candidates \u001b[39m*\u001b[39m n_splits\n\u001b[0;32m    819\u001b[0m         )\n\u001b[0;32m    820\u001b[0m     )\n\u001b[1;32m--> 822\u001b[0m out \u001b[39m=\u001b[39m parallel(\n\u001b[0;32m    823\u001b[0m     delayed(_fit_and_score)(\n\u001b[0;32m    824\u001b[0m         clone(base_estimator),\n\u001b[0;32m    825\u001b[0m         X,\n\u001b[0;32m    826\u001b[0m         y,\n\u001b[0;32m    827\u001b[0m         train\u001b[39m=\u001b[39;49mtrain,\n\u001b[0;32m    828\u001b[0m         test\u001b[39m=\u001b[39;49mtest,\n\u001b[0;32m    829\u001b[0m         parameters\u001b[39m=\u001b[39;49mparameters,\n\u001b[0;32m    830\u001b[0m         split_progress\u001b[39m=\u001b[39;49m(split_idx, n_splits),\n\u001b[0;32m    831\u001b[0m         candidate_progress\u001b[39m=\u001b[39;49m(cand_idx, n_candidates),\n\u001b[0;32m    832\u001b[0m         \u001b[39m*\u001b[39;49m\u001b[39m*\u001b[39;49mfit_and_score_kwargs,\n\u001b[0;32m    833\u001b[0m     )\n\u001b[0;32m    834\u001b[0m     \u001b[39mfor\u001b[39;49;00m (cand_idx, parameters), (split_idx, (train, test)) \u001b[39min\u001b[39;49;00m product(\n\u001b[0;32m    835\u001b[0m         \u001b[39menumerate\u001b[39;49m(candidate_params), \u001b[39menumerate\u001b[39;49m(cv\u001b[39m.\u001b[39;49msplit(X, y, groups))\n\u001b[0;32m    836\u001b[0m     )\n\u001b[0;32m    837\u001b[0m )\n\u001b[0;32m    839\u001b[0m \u001b[39mif\u001b[39;00m \u001b[39mlen\u001b[39m(out) \u001b[39m<\u001b[39m \u001b[39m1\u001b[39m:\n\u001b[0;32m    840\u001b[0m     \u001b[39mraise\u001b[39;00m \u001b[39mValueError\u001b[39;00m(\n\u001b[0;32m    841\u001b[0m         \u001b[39m\"\u001b[39m\u001b[39mNo fits were performed. \u001b[39m\u001b[39m\"\u001b[39m\n\u001b[0;32m    842\u001b[0m         \u001b[39m\"\u001b[39m\u001b[39mWas the CV iterator empty? \u001b[39m\u001b[39m\"\u001b[39m\n\u001b[0;32m    843\u001b[0m         \u001b[39m\"\u001b[39m\u001b[39mWere there no candidates?\u001b[39m\u001b[39m\"\u001b[39m\n\u001b[0;32m    844\u001b[0m     )\n",
      "File \u001b[1;32mc:\\Users\\kuzin\\AppData\\Local\\Programs\\Python\\Python39\\lib\\site-packages\\joblib\\parallel.py:1056\u001b[0m, in \u001b[0;36mParallel.__call__\u001b[1;34m(self, iterable)\u001b[0m\n\u001b[0;32m   1053\u001b[0m     \u001b[39mself\u001b[39m\u001b[39m.\u001b[39m_iterating \u001b[39m=\u001b[39m \u001b[39mFalse\u001b[39;00m\n\u001b[0;32m   1055\u001b[0m \u001b[39mwith\u001b[39;00m \u001b[39mself\u001b[39m\u001b[39m.\u001b[39m_backend\u001b[39m.\u001b[39mretrieval_context():\n\u001b[1;32m-> 1056\u001b[0m     \u001b[39mself\u001b[39;49m\u001b[39m.\u001b[39;49mretrieve()\n\u001b[0;32m   1057\u001b[0m \u001b[39m# Make sure that we get a last message telling us we are done\u001b[39;00m\n\u001b[0;32m   1058\u001b[0m elapsed_time \u001b[39m=\u001b[39m time\u001b[39m.\u001b[39mtime() \u001b[39m-\u001b[39m \u001b[39mself\u001b[39m\u001b[39m.\u001b[39m_start_time\n",
      "File \u001b[1;32mc:\\Users\\kuzin\\AppData\\Local\\Programs\\Python\\Python39\\lib\\site-packages\\joblib\\parallel.py:935\u001b[0m, in \u001b[0;36mParallel.retrieve\u001b[1;34m(self)\u001b[0m\n\u001b[0;32m    933\u001b[0m \u001b[39mtry\u001b[39;00m:\n\u001b[0;32m    934\u001b[0m     \u001b[39mif\u001b[39;00m \u001b[39mgetattr\u001b[39m(\u001b[39mself\u001b[39m\u001b[39m.\u001b[39m_backend, \u001b[39m'\u001b[39m\u001b[39msupports_timeout\u001b[39m\u001b[39m'\u001b[39m, \u001b[39mFalse\u001b[39;00m):\n\u001b[1;32m--> 935\u001b[0m         \u001b[39mself\u001b[39m\u001b[39m.\u001b[39m_output\u001b[39m.\u001b[39mextend(job\u001b[39m.\u001b[39;49mget(timeout\u001b[39m=\u001b[39;49m\u001b[39mself\u001b[39;49m\u001b[39m.\u001b[39;49mtimeout))\n\u001b[0;32m    936\u001b[0m     \u001b[39melse\u001b[39;00m:\n\u001b[0;32m    937\u001b[0m         \u001b[39mself\u001b[39m\u001b[39m.\u001b[39m_output\u001b[39m.\u001b[39mextend(job\u001b[39m.\u001b[39mget())\n",
      "File \u001b[1;32mc:\\Users\\kuzin\\AppData\\Local\\Programs\\Python\\Python39\\lib\\site-packages\\joblib\\_parallel_backends.py:542\u001b[0m, in \u001b[0;36mLokyBackend.wrap_future_result\u001b[1;34m(future, timeout)\u001b[0m\n\u001b[0;32m    539\u001b[0m \u001b[39m\"\"\"Wrapper for Future.result to implement the same behaviour as\u001b[39;00m\n\u001b[0;32m    540\u001b[0m \u001b[39mAsyncResults.get from multiprocessing.\"\"\"\u001b[39;00m\n\u001b[0;32m    541\u001b[0m \u001b[39mtry\u001b[39;00m:\n\u001b[1;32m--> 542\u001b[0m     \u001b[39mreturn\u001b[39;00m future\u001b[39m.\u001b[39;49mresult(timeout\u001b[39m=\u001b[39;49mtimeout)\n\u001b[0;32m    543\u001b[0m \u001b[39mexcept\u001b[39;00m CfTimeoutError \u001b[39mas\u001b[39;00m e:\n\u001b[0;32m    544\u001b[0m     \u001b[39mraise\u001b[39;00m \u001b[39mTimeoutError\u001b[39;00m \u001b[39mfrom\u001b[39;00m \u001b[39me\u001b[39;00m\n",
      "File \u001b[1;32mc:\\Users\\kuzin\\AppData\\Local\\Programs\\Python\\Python39\\lib\\concurrent\\futures\\_base.py:441\u001b[0m, in \u001b[0;36mFuture.result\u001b[1;34m(self, timeout)\u001b[0m\n\u001b[0;32m    438\u001b[0m \u001b[39melif\u001b[39;00m \u001b[39mself\u001b[39m\u001b[39m.\u001b[39m_state \u001b[39m==\u001b[39m FINISHED:\n\u001b[0;32m    439\u001b[0m     \u001b[39mreturn\u001b[39;00m \u001b[39mself\u001b[39m\u001b[39m.\u001b[39m__get_result()\n\u001b[1;32m--> 441\u001b[0m \u001b[39mself\u001b[39;49m\u001b[39m.\u001b[39;49m_condition\u001b[39m.\u001b[39;49mwait(timeout)\n\u001b[0;32m    443\u001b[0m \u001b[39mif\u001b[39;00m \u001b[39mself\u001b[39m\u001b[39m.\u001b[39m_state \u001b[39min\u001b[39;00m [CANCELLED, CANCELLED_AND_NOTIFIED]:\n\u001b[0;32m    444\u001b[0m     \u001b[39mraise\u001b[39;00m CancelledError()\n",
      "File \u001b[1;32mc:\\Users\\kuzin\\AppData\\Local\\Programs\\Python\\Python39\\lib\\threading.py:312\u001b[0m, in \u001b[0;36mCondition.wait\u001b[1;34m(self, timeout)\u001b[0m\n\u001b[0;32m    310\u001b[0m \u001b[39mtry\u001b[39;00m:    \u001b[39m# restore state no matter what (e.g., KeyboardInterrupt)\u001b[39;00m\n\u001b[0;32m    311\u001b[0m     \u001b[39mif\u001b[39;00m timeout \u001b[39mis\u001b[39;00m \u001b[39mNone\u001b[39;00m:\n\u001b[1;32m--> 312\u001b[0m         waiter\u001b[39m.\u001b[39;49macquire()\n\u001b[0;32m    313\u001b[0m         gotit \u001b[39m=\u001b[39m \u001b[39mTrue\u001b[39;00m\n\u001b[0;32m    314\u001b[0m     \u001b[39melse\u001b[39;00m:\n",
      "\u001b[1;31mKeyboardInterrupt\u001b[0m: "
     ]
    },
    {
     "ename": "NotFittedError",
     "evalue": "This RandomizedSearchCV instance is not fitted yet. Call 'fit' with appropriate arguments before using this estimator.",
     "output_type": "error",
     "traceback": [
      "\u001b[1;31m---------------------------------------------------------------------------\u001b[0m",
      "\u001b[1;31mNotFittedError\u001b[0m                            Traceback (most recent call last)",
      "\u001b[1;32mc:\\Users\\kuzin\\OneDrive\\Рабочий стол\\IDE\\skillfactory\\ML\\МL_7 Оптимизация гиперпараметров\\ML-7.Optimization_of_hyperparameters.ipynb Ячейка 60\u001b[0m in \u001b[0;36m<cell line: 16>\u001b[1;34m()\u001b[0m\n\u001b[0;32m      <a href='vscode-notebook-cell:/c%3A/Users/kuzin/OneDrive/%D0%A0%D0%B0%D0%B1%D0%BE%D1%87%D0%B8%D0%B9%20%D1%81%D1%82%D0%BE%D0%BB/IDE/skillfactory/ML/%D0%9CL_7%20%D0%9E%D0%BF%D1%82%D0%B8%D0%BC%D0%B8%D0%B7%D0%B0%D1%86%D0%B8%D1%8F%20%D0%B3%D0%B8%D0%BF%D0%B5%D1%80%D0%BF%D0%B0%D1%80%D0%B0%D0%BC%D0%B5%D1%82%D1%80%D0%BE%D0%B2/ML-7.Optimization_of_hyperparameters.ipynb#Y113sZmlsZQ%3D%3D?line=7'>8</a>\u001b[0m random_search \u001b[39m=\u001b[39m RandomizedSearchCV(\n\u001b[0;32m      <a href='vscode-notebook-cell:/c%3A/Users/kuzin/OneDrive/%D0%A0%D0%B0%D0%B1%D0%BE%D1%87%D0%B8%D0%B9%20%D1%81%D1%82%D0%BE%D0%BB/IDE/skillfactory/ML/%D0%9CL_7%20%D0%9E%D0%BF%D1%82%D0%B8%D0%BC%D0%B8%D0%B7%D0%B0%D1%86%D0%B8%D1%8F%20%D0%B3%D0%B8%D0%BF%D0%B5%D1%80%D0%BF%D0%B0%D1%80%D0%B0%D0%BC%D0%B5%D1%82%D1%80%D0%BE%D0%B2/ML-7.Optimization_of_hyperparameters.ipynb#Y113sZmlsZQ%3D%3D?line=8'>9</a>\u001b[0m     estimator\u001b[39m=\u001b[39mlinear_model\u001b[39m.\u001b[39mLogisticRegression(random_state\u001b[39m=\u001b[39m\u001b[39m42\u001b[39m, max_iter\u001b[39m=\u001b[39m\u001b[39m1000\u001b[39m), \n\u001b[0;32m     <a href='vscode-notebook-cell:/c%3A/Users/kuzin/OneDrive/%D0%A0%D0%B0%D0%B1%D0%BE%D1%87%D0%B8%D0%B9%20%D1%81%D1%82%D0%BE%D0%BB/IDE/skillfactory/ML/%D0%9CL_7%20%D0%9E%D0%BF%D1%82%D0%B8%D0%BC%D0%B8%D0%B7%D0%B0%D1%86%D0%B8%D1%8F%20%D0%B3%D0%B8%D0%BF%D0%B5%D1%80%D0%BF%D0%B0%D1%80%D0%B0%D0%BC%D0%B5%D1%82%D1%80%D0%BE%D0%B2/ML-7.Optimization_of_hyperparameters.ipynb#Y113sZmlsZQ%3D%3D?line=9'>10</a>\u001b[0m     param_distributions\u001b[39m=\u001b[39mparam_distributions, \n\u001b[1;32m   (...)\u001b[0m\n\u001b[0;32m     <a href='vscode-notebook-cell:/c%3A/Users/kuzin/OneDrive/%D0%A0%D0%B0%D0%B1%D0%BE%D1%87%D0%B8%D0%B9%20%D1%81%D1%82%D0%BE%D0%BB/IDE/skillfactory/ML/%D0%9CL_7%20%D0%9E%D0%BF%D1%82%D0%B8%D0%BC%D0%B8%D0%B7%D0%B0%D1%86%D0%B8%D1%8F%20%D0%B3%D0%B8%D0%BF%D0%B5%D1%80%D0%BF%D0%B0%D1%80%D0%B0%D0%BC%D0%B5%D1%82%D1%80%D0%BE%D0%B2/ML-7.Optimization_of_hyperparameters.ipynb#Y113sZmlsZQ%3D%3D?line=12'>13</a>\u001b[0m     n_jobs \u001b[39m=\u001b[39m \u001b[39m-\u001b[39m\u001b[39m1\u001b[39m\n\u001b[0;32m     <a href='vscode-notebook-cell:/c%3A/Users/kuzin/OneDrive/%D0%A0%D0%B0%D0%B1%D0%BE%D1%87%D0%B8%D0%B9%20%D1%81%D1%82%D0%BE%D0%BB/IDE/skillfactory/ML/%D0%9CL_7%20%D0%9E%D0%BF%D1%82%D0%B8%D0%BC%D0%B8%D0%B7%D0%B0%D1%86%D0%B8%D1%8F%20%D0%B3%D0%B8%D0%BF%D0%B5%D1%80%D0%BF%D0%B0%D1%80%D0%B0%D0%BC%D0%B5%D1%82%D1%80%D0%BE%D0%B2/ML-7.Optimization_of_hyperparameters.ipynb#Y113sZmlsZQ%3D%3D?line=13'>14</a>\u001b[0m )  \n\u001b[0;32m     <a href='vscode-notebook-cell:/c%3A/Users/kuzin/OneDrive/%D0%A0%D0%B0%D0%B1%D0%BE%D1%87%D0%B8%D0%B9%20%D1%81%D1%82%D0%BE%D0%BB/IDE/skillfactory/ML/%D0%9CL_7%20%D0%9E%D0%BF%D1%82%D0%B8%D0%BC%D0%B8%D0%B7%D0%B0%D1%86%D0%B8%D1%8F%20%D0%B3%D0%B8%D0%BF%D0%B5%D1%80%D0%BF%D0%B0%D1%80%D0%B0%D0%BC%D0%B5%D1%82%D1%80%D0%BE%D0%B2/ML-7.Optimization_of_hyperparameters.ipynb#Y113sZmlsZQ%3D%3D?line=14'>15</a>\u001b[0m get_ipython()\u001b[39m.\u001b[39mrun_line_magic(\u001b[39m'\u001b[39m\u001b[39mtime\u001b[39m\u001b[39m'\u001b[39m, \u001b[39m'\u001b[39m\u001b[39mrandom_search.fit(X_train_scaled, y_train)\u001b[39m\u001b[39m'\u001b[39m)\n\u001b[1;32m---> <a href='vscode-notebook-cell:/c%3A/Users/kuzin/OneDrive/%D0%A0%D0%B0%D0%B1%D0%BE%D1%87%D0%B8%D0%B9%20%D1%81%D1%82%D0%BE%D0%BB/IDE/skillfactory/ML/%D0%9CL_7%20%D0%9E%D0%BF%D1%82%D0%B8%D0%BC%D0%B8%D0%B7%D0%B0%D1%86%D0%B8%D1%8F%20%D0%B3%D0%B8%D0%BF%D0%B5%D1%80%D0%BF%D0%B0%D1%80%D0%B0%D0%BC%D0%B5%D1%82%D1%80%D0%BE%D0%B2/ML-7.Optimization_of_hyperparameters.ipynb#Y113sZmlsZQ%3D%3D?line=15'>16</a>\u001b[0m \u001b[39mprint\u001b[39m(\u001b[39m\"\u001b[39m\u001b[39maccuracy на тестовом наборе: \u001b[39m\u001b[39m{:.2f}\u001b[39;00m\u001b[39m\"\u001b[39m\u001b[39m.\u001b[39mformat(random_search\u001b[39m.\u001b[39;49mscore(X_test_scaled, y_test)))\n\u001b[0;32m     <a href='vscode-notebook-cell:/c%3A/Users/kuzin/OneDrive/%D0%A0%D0%B0%D0%B1%D0%BE%D1%87%D0%B8%D0%B9%20%D1%81%D1%82%D0%BE%D0%BB/IDE/skillfactory/ML/%D0%9CL_7%20%D0%9E%D0%BF%D1%82%D0%B8%D0%BC%D0%B8%D0%B7%D0%B0%D1%86%D0%B8%D1%8F%20%D0%B3%D0%B8%D0%BF%D0%B5%D1%80%D0%BF%D0%B0%D1%80%D0%B0%D0%BC%D0%B5%D1%82%D1%80%D0%BE%D0%B2/ML-7.Optimization_of_hyperparameters.ipynb#Y113sZmlsZQ%3D%3D?line=16'>17</a>\u001b[0m y_test_pred \u001b[39m=\u001b[39m random_search\u001b[39m.\u001b[39mpredict(X_test_scaled)\n\u001b[0;32m     <a href='vscode-notebook-cell:/c%3A/Users/kuzin/OneDrive/%D0%A0%D0%B0%D0%B1%D0%BE%D1%87%D0%B8%D0%B9%20%D1%81%D1%82%D0%BE%D0%BB/IDE/skillfactory/ML/%D0%9CL_7%20%D0%9E%D0%BF%D1%82%D0%B8%D0%BC%D0%B8%D0%B7%D0%B0%D1%86%D0%B8%D1%8F%20%D0%B3%D0%B8%D0%BF%D0%B5%D1%80%D0%BF%D0%B0%D1%80%D0%B0%D0%BC%D0%B5%D1%82%D1%80%D0%BE%D0%B2/ML-7.Optimization_of_hyperparameters.ipynb#Y113sZmlsZQ%3D%3D?line=17'>18</a>\u001b[0m \u001b[39mprint\u001b[39m(\u001b[39m'\u001b[39m\u001b[39mf1_score на тестовом наборе: \u001b[39m\u001b[39m{:.2f}\u001b[39;00m\u001b[39m'\u001b[39m\u001b[39m.\u001b[39mformat(metrics\u001b[39m.\u001b[39mf1_score(y_test, y_test_pred)))\n",
      "File \u001b[1;32mc:\\Users\\kuzin\\AppData\\Local\\Programs\\Python\\Python39\\lib\\site-packages\\sklearn\\model_selection\\_search.py:437\u001b[0m, in \u001b[0;36mBaseSearchCV.score\u001b[1;34m(self, X, y)\u001b[0m\n\u001b[0;32m    414\u001b[0m \u001b[39m\"\"\"Return the score on the given data, if the estimator has been refit.\u001b[39;00m\n\u001b[0;32m    415\u001b[0m \n\u001b[0;32m    416\u001b[0m \u001b[39mThis uses the score defined by ``scoring`` where provided, and the\u001b[39;00m\n\u001b[1;32m   (...)\u001b[0m\n\u001b[0;32m    434\u001b[0m \u001b[39m    ``best_estimator_.score`` method otherwise.\u001b[39;00m\n\u001b[0;32m    435\u001b[0m \u001b[39m\"\"\"\u001b[39;00m\n\u001b[0;32m    436\u001b[0m _check_refit(\u001b[39mself\u001b[39m, \u001b[39m\"\u001b[39m\u001b[39mscore\u001b[39m\u001b[39m\"\u001b[39m)\n\u001b[1;32m--> 437\u001b[0m check_is_fitted(\u001b[39mself\u001b[39;49m)\n\u001b[0;32m    438\u001b[0m \u001b[39mif\u001b[39;00m \u001b[39mself\u001b[39m\u001b[39m.\u001b[39mscorer_ \u001b[39mis\u001b[39;00m \u001b[39mNone\u001b[39;00m:\n\u001b[0;32m    439\u001b[0m     \u001b[39mraise\u001b[39;00m \u001b[39mValueError\u001b[39;00m(\n\u001b[0;32m    440\u001b[0m         \u001b[39m\"\u001b[39m\u001b[39mNo score function explicitly defined, \u001b[39m\u001b[39m\"\u001b[39m\n\u001b[0;32m    441\u001b[0m         \u001b[39m\"\u001b[39m\u001b[39mand the estimator doesn\u001b[39m\u001b[39m'\u001b[39m\u001b[39mt provide one \u001b[39m\u001b[39m%s\u001b[39;00m\u001b[39m\"\u001b[39m\n\u001b[0;32m    442\u001b[0m         \u001b[39m%\u001b[39m \u001b[39mself\u001b[39m\u001b[39m.\u001b[39mbest_estimator_\n\u001b[0;32m    443\u001b[0m     )\n",
      "File \u001b[1;32mc:\\Users\\kuzin\\AppData\\Local\\Programs\\Python\\Python39\\lib\\site-packages\\sklearn\\utils\\validation.py:1345\u001b[0m, in \u001b[0;36mcheck_is_fitted\u001b[1;34m(estimator, attributes, msg, all_or_any)\u001b[0m\n\u001b[0;32m   1340\u001b[0m     fitted \u001b[39m=\u001b[39m [\n\u001b[0;32m   1341\u001b[0m         v \u001b[39mfor\u001b[39;00m v \u001b[39min\u001b[39;00m \u001b[39mvars\u001b[39m(estimator) \u001b[39mif\u001b[39;00m v\u001b[39m.\u001b[39mendswith(\u001b[39m\"\u001b[39m\u001b[39m_\u001b[39m\u001b[39m\"\u001b[39m) \u001b[39mand\u001b[39;00m \u001b[39mnot\u001b[39;00m v\u001b[39m.\u001b[39mstartswith(\u001b[39m\"\u001b[39m\u001b[39m__\u001b[39m\u001b[39m\"\u001b[39m)\n\u001b[0;32m   1342\u001b[0m     ]\n\u001b[0;32m   1344\u001b[0m \u001b[39mif\u001b[39;00m \u001b[39mnot\u001b[39;00m fitted:\n\u001b[1;32m-> 1345\u001b[0m     \u001b[39mraise\u001b[39;00m NotFittedError(msg \u001b[39m%\u001b[39m {\u001b[39m\"\u001b[39m\u001b[39mname\u001b[39m\u001b[39m\"\u001b[39m: \u001b[39mtype\u001b[39m(estimator)\u001b[39m.\u001b[39m\u001b[39m__name__\u001b[39m})\n",
      "\u001b[1;31mNotFittedError\u001b[0m: This RandomizedSearchCV instance is not fitted yet. Call 'fit' with appropriate arguments before using this estimator."
     ]
    }
   ],
   "source": [
    "from sklearn.model_selection import RandomizedSearchCV\n",
    "\n",
    "#np.linspace(start(от), stop(до), num=50(количество),dtype- тип данных)\n",
    "param_distributions = {'penalty': ['l2', 'none'] ,\n",
    "              'solver': ['lbfgs', 'sag'],\n",
    "               'C': list(np.linspace(0.01, 1, 10, dtype=float))},\n",
    "            \n",
    "random_search = RandomizedSearchCV(\n",
    "    estimator=linear_model.LogisticRegression(random_state=42, max_iter=1000), \n",
    "    param_distributions=param_distributions, \n",
    "    cv=5, \n",
    "    n_iter = 10, \n",
    "    n_jobs = -1\n",
    ")  \n",
    "%time random_search.fit(X_train_scaled, y_train) \n",
    "print(\"accuracy на тестовом наборе: {:.2f}\".format(random_search.score(X_test_scaled, y_test)))\n",
    "y_test_pred = random_search.predict(X_test_scaled)\n",
    "print('f1_score на тестовом наборе: {:.2f}'.format(metrics.f1_score(y_test, y_test_pred)))\n",
    "print(\"Наилучшие значения гиперпараметров: {}\".format(random_search.best_params_))"
   ]
  },
  {
   "cell_type": "markdown",
   "id": "o70ZkAU5Ok4A",
   "metadata": {
    "id": "o70ZkAU5Ok4A"
   },
   "source": [
    "За 10 итераций метрику улучшить не удалось, но обратите внимание на время. Давайте зададим аналогичную сетку и проделаем тоже с помощью GridSearchCV и сравним:"
   ]
  },
  {
   "cell_type": "code",
   "execution_count": null,
   "id": "bhBsJm_irM5e",
   "metadata": {
    "colab": {
     "base_uri": "https://localhost:8080/"
    },
    "executionInfo": {
     "elapsed": 534032,
     "status": "ok",
     "timestamp": 1650549015086,
     "user": {
      "displayName": "VICDS _",
      "userId": "16539764637744847477"
     },
     "user_tz": -180
    },
    "id": "bhBsJm_irM5e",
    "outputId": "0aa084e6-30a9-436f-d919-b7776d8f9d9b"
   },
   "outputs": [
    {
     "name": "stdout",
     "output_type": "stream",
     "text": [
      "CPU times: total: 3.23 s\n",
      "Wall time: 3min 2s\n",
      "accuracy на тестовом наборе: 0.84\n",
      "f1_score на тестовом наборе: 0.64\n",
      "Наилучшие значения гиперпараметров: {'C': 3.34, 'penalty': 'l2', 'solver': 'lbfgs'}\n"
     ]
    }
   ],
   "source": [
    "param_grid = {'penalty': ['l2', 'none'] ,\n",
    "              'solver': ['lbfgs', 'sag'],\n",
    "               'C': list(np.linspace(0.01, 10, 10, dtype=float))},\n",
    "            \n",
    "grid_search_2 = GridSearchCV(\n",
    "    estimator=linear_model.LogisticRegression(random_state=42, max_iter=1000), \n",
    "    param_grid=param_grid, \n",
    "    cv=5, \n",
    "    n_jobs = -1\n",
    ")  \n",
    "%time grid_search_2.fit(X_train_scaled, y_train) \n",
    "print(\"accuracy на тестовом наборе: {:.2f}\".format(grid_search_2.score(X_test_scaled, y_test)))\n",
    "y_test_pred = grid_search_2.predict(X_test_scaled)\n",
    "print('f1_score на тестовом наборе: {:.2f}'.format(metrics.f1_score(y_test, y_test_pred)))\n",
    "print(\"Наилучшие значения гиперпараметров: {}\".format(grid_search_2.best_params_))"
   ]
  },
  {
   "cell_type": "markdown",
   "id": "620d146e-a62d-4837-83a5-f952cb6e9162",
   "metadata": {
    "id": "620d146e-a62d-4837-83a5-f952cb6e9162",
    "tags": []
   },
   "source": [
    "#### **Дерево решений**"
   ]
  },
  {
   "cell_type": "markdown",
   "id": "df10934a-ebd0-475b-b6e5-1cd9f09df42e",
   "metadata": {
    "id": "df10934a-ebd0-475b-b6e5-1cd9f09df42e",
    "tags": []
   },
   "source": [
    "Проделаем аналогичное для DecisionTreeClassifier().\n",
    "Сначала посчитаем модель с параметрами по умолчанию и оценим метрику:"
   ]
  },
  {
   "cell_type": "code",
   "execution_count": 54,
   "id": "vGfBXfL9aAQ3",
   "metadata": {
    "colab": {
     "base_uri": "https://localhost:8080/"
    },
    "executionInfo": {
     "elapsed": 333,
     "status": "ok",
     "timestamp": 1650549015095,
     "user": {
      "displayName": "VICDS _",
      "userId": "16539764637744847477"
     },
     "user_tz": -180
    },
    "id": "vGfBXfL9aAQ3",
    "outputId": "61c204fa-df0c-48bd-b33e-ac83e9a909c2"
   },
   "outputs": [
    {
     "name": "stdout",
     "output_type": "stream",
     "text": [
      "Train: 1.00\n",
      "Test: 0.62\n"
     ]
    }
   ],
   "source": [
    "#Создаем объект класса дерево решений\n",
    "dt = tree.DecisionTreeClassifier(random_state=42)\n",
    "#Обучаем дерево по алгоритму CARTrint\n",
    "dt.fit(X_train_scaled, y_train)\n",
    "#Выводим значения метрики \n",
    "y_train_pred = dt.predict(X_train_scaled)\n",
    "print('Train: {:.2f}'.format(metrics.f1_score(y_train, y_train_pred)))\n",
    "y_test_pred = dt.predict(X_test_scaled)\n",
    "print('Test: {:.2f}'.format(metrics.f1_score(y_test, y_test_pred)))"
   ]
  },
  {
   "cell_type": "markdown",
   "id": "1JLRNmlMPk12",
   "metadata": {
    "id": "1JLRNmlMPk12"
   },
   "source": [
    "Теперь зададим сетку гиперпараметров:  \n",
    "*  'min_samples_leaf' - минимальное количество объектов в листе;\n",
    "*  'max_depth': максимальная глубина дерева, не должна быть слишком большой, иначе будет переобучение;\n",
    "*  'criterion' - критерий информативности\n",
    "\n",
    "И посчитаем RandomizedSearchCV() и затем GridSearchCV()\n",
    "\n",
    "\n",
    "\n"
   ]
  },
  {
   "cell_type": "code",
   "execution_count": null,
   "id": "cx_ssVADwFVl",
   "metadata": {
    "colab": {
     "base_uri": "https://localhost:8080/"
    },
    "executionInfo": {
     "elapsed": 18301,
     "status": "ok",
     "timestamp": 1650549033198,
     "user": {
      "displayName": "VICDS _",
      "userId": "16539764637744847477"
     },
     "user_tz": -180
    },
    "id": "cx_ssVADwFVl",
    "outputId": "bcdaa084-70dc-40a8-f20d-f94480008946"
   },
   "outputs": [
    {
     "name": "stdout",
     "output_type": "stream",
     "text": [
      "CPU times: total: 1.45 s\n",
      "Wall time: 9.58 s\n",
      "accuracy на тестовом наборе: 0.85\n",
      "f1_score на тестовом наборе: 0.66\n",
      "Наилучшие значения гиперпараметров: {'min_samples_leaf': 39, 'max_depth': 14, 'criterion': 'gini'}\n"
     ]
    }
   ],
   "source": [
    "param_distributions = {'min_samples_leaf': list(np.linspace(5, 100, 50, dtype=int)),\n",
    "              'max_depth': list(np.linspace(1, 30, 50, dtype=int)),\n",
    "              'criterion':['entropy','gini']\n",
    "              }\n",
    "            \n",
    "random_search_tree = RandomizedSearchCV(\n",
    "    estimator=tree.DecisionTreeClassifier(random_state=42), \n",
    "    param_distributions=param_distributions, \n",
    "    cv=5,\n",
    "    n_iter = 50, \n",
    "    n_jobs = -1\n",
    ")  \n",
    "%time random_search_tree.fit(X_train_scaled, y_train) \n",
    "print(\"accuracy на тестовом наборе: {:.2f}\".format(random_search_tree.score(X_test_scaled, y_test)))\n",
    "y_test_pred = random_search_tree.predict(X_test_scaled)\n",
    "print('f1_score на тестовом наборе: {:.2f}'.format(metrics.f1_score(y_test, y_test_pred)))\n",
    "print(\"Наилучшие значения гиперпараметров: {}\".format(random_search_tree.best_params_))"
   ]
  },
  {
   "cell_type": "code",
   "execution_count": null,
   "id": "h45GmL6bwFJi",
   "metadata": {
    "colab": {
     "base_uri": "https://localhost:8080/"
    },
    "executionInfo": {
     "elapsed": 2226135,
     "status": "ok",
     "timestamp": 1650551259212,
     "user": {
      "displayName": "VICDS _",
      "userId": "16539764637744847477"
     },
     "user_tz": -180
    },
    "id": "h45GmL6bwFJi",
    "outputId": "13461f22-a479-4b2f-fbc7-8fb9e032a997"
   },
   "outputs": [
    {
     "ename": "SyntaxError",
     "evalue": "positional argument follows keyword argument (1347838691.py, line 11)",
     "output_type": "error",
     "traceback": [
      "\u001b[1;36m  Input \u001b[1;32mIn [30]\u001b[1;36m\u001b[0m\n\u001b[1;33m    )\u001b[0m\n\u001b[1;37m    ^\u001b[0m\n\u001b[1;31mSyntaxError\u001b[0m\u001b[1;31m:\u001b[0m positional argument follows keyword argument\n"
     ]
    }
   ],
   "source": [
    "param_grid = {'min_samples_leaf': list(np.linspace(5, 100, 50, dtype=int)),\n",
    "              'max_depth': list(np.linspace(1, 30, 50, dtype=int)),\n",
    "              'criterion':['entropy','gini']\n",
    "              }\n",
    "            \n",
    "grid_search_tree = GridSearchCV(\n",
    "    estimator=tree.DecisionTreeClassifier(random_state=42), \n",
    "    param_grid, \n",
    "    cv=5, \n",
    "    n_jobs = -1\n",
    ")  \n",
    "%time grid_search_tree.fit(X_train_scaled, y_train) \n",
    "print(\"accuracy на тестовом наборе: {:.2f}\".format(grid_search_tree.score(X_test_scaled, y_test)))\n",
    "y_test_pred = grid_search_tree.predict(X_test_scaled)\n",
    "print('f1_score на тестовом наборе: {:.2f}'.format(metrics.f1_score(y_test, y_test_pred)))\n",
    "print(\"Наилучшие значения гиперпараметров: {}\".format(grid_search_tree.best_params_))"
   ]
  },
  {
   "cell_type": "markdown",
   "id": "XsuSxN-kUyJl",
   "metadata": {
    "id": "XsuSxN-kUyJl"
   },
   "source": [
    "Метрику удалось улучшить  с помощью обоих методов, но RandomizedSearchCV потребовалось меньше времени;"
   ]
  },
  {
   "cell_type": "markdown",
   "id": "jBSbPYAYaAQ9",
   "metadata": {
    "id": "jBSbPYAYaAQ9",
    "tags": []
   },
   "source": [
    "#### **Случайный лес**"
   ]
  },
  {
   "cell_type": "markdown",
   "id": "-4-TPHjgTBOs",
   "metadata": {
    "id": "-4-TPHjgTBOs"
   },
   "source": [
    "Проделаем аналогичное для RandomForestClassifier().\n",
    "Сначала посчитаем модель с параметрами по умолчанию и оценим метрику:"
   ]
  },
  {
   "cell_type": "code",
   "execution_count": 55,
   "id": "XUYSiTfraARA",
   "metadata": {
    "colab": {
     "base_uri": "https://localhost:8080/"
    },
    "executionInfo": {
     "elapsed": 5007,
     "status": "ok",
     "timestamp": 1650551264191,
     "user": {
      "displayName": "VICDS _",
      "userId": "16539764637744847477"
     },
     "user_tz": -180
    },
    "id": "XUYSiTfraARA",
    "outputId": "5332fa04-ad32-4791-a3f7-163fad39406c"
   },
   "outputs": [
    {
     "name": "stdout",
     "output_type": "stream",
     "text": [
      "Train: 1.00\n",
      "Test: 0.66\n"
     ]
    }
   ],
   "source": [
    "#Создаем объект класса случайный лес\n",
    "rf = ensemble.RandomForestClassifier(random_state=42)\n",
    "\n",
    "#Обучаем модель\n",
    "rf.fit(X_train_scaled, y_train)\n",
    "#Выводим значения метрики \n",
    "y_train_pred = rf.predict(X_train_scaled)\n",
    "print('Train: {:.2f}'.format(metrics.f1_score(y_train, y_train_pred)))\n",
    "y_test_pred = rf.predict(X_test_scaled)\n",
    "print('Test: {:.2f}'.format(metrics.f1_score(y_test, y_test_pred)))"
   ]
  },
  {
   "cell_type": "markdown",
   "id": "mFu0_kEXVp1q",
   "metadata": {
    "id": "mFu0_kEXVp1q"
   },
   "source": [
    "Теперь зададим сетку гиперпараметров: \n",
    "\n",
    "*   'n_estimators' - количество деревьев в лесу, по умолчанию =100\n",
    "\n",
    "*  'min_samples_leaf' - минимальное количество объектов в листе;\n",
    "*  'max_depth': максимальная глубина дерева, не должна быть слишком большой, иначе будет переобучение;\n",
    "\n",
    "\n",
    "\n",
    "\n",
    "И посчитаем RandomizedSearchCV() и затем GridSearchCV()\n",
    "\n",
    "\n",
    "\n"
   ]
  },
  {
   "cell_type": "code",
   "execution_count": null,
   "id": "TBSxQJ6JzS1f",
   "metadata": {
    "colab": {
     "base_uri": "https://localhost:8080/"
    },
    "executionInfo": {
     "elapsed": 116021,
     "status": "ok",
     "timestamp": 1650551380171,
     "user": {
      "displayName": "VICDS _",
      "userId": "16539764637744847477"
     },
     "user_tz": -180
    },
    "id": "TBSxQJ6JzS1f",
    "outputId": "ecddf908-16fb-4ccb-88dc-025270b99d05"
   },
   "outputs": [
    {
     "name": "stdout",
     "output_type": "stream",
     "text": [
      "CPU times: total: 2.77 s\n",
      "Wall time: 37.3 s\n",
      "f1_score на обучающем наборе: 0.73\n",
      "accuracy на тестовом наборе: 0.86\n",
      "f1_score на тестовом наборе: 0.67\n",
      "Наилучшие значения гиперпараметров: {'n_estimators': 110, 'min_samples_leaf': 5, 'max_depth': 31}\n"
     ]
    }
   ],
   "source": [
    "param_distributions = {'n_estimators': list(range(80, 200, 30)),\n",
    "              'min_samples_leaf': [5],\n",
    "              'max_depth': list(np.linspace(20, 40, 10, dtype=int))\n",
    "              }\n",
    "            \n",
    "random_search_forest = RandomizedSearchCV(\n",
    "    estimator=ensemble.RandomForestClassifier(random_state=42), \n",
    "    param_distributions=param_distributions, \n",
    "    cv=5,\n",
    "    n_iter = 10, \n",
    "    n_jobs = -1\n",
    ")  \n",
    "%time random_search_forest.fit(X_train_scaled, y_train) \n",
    "y_train_pred = random_search_forest.predict(X_train_scaled)\n",
    "print('f1_score на обучающем наборе: {:.2f}'.format(metrics.f1_score(y_train, y_train_pred)))\n",
    "print(\"accuracy на тестовом наборе: {:.2f}\".format(random_search_forest.score(X_test_scaled, y_test)))\n",
    "y_test_pred = random_search_forest.predict(X_test_scaled)\n",
    "print('f1_score на тестовом наборе: {:.2f}'.format(metrics.f1_score(y_test, y_test_pred)))\n",
    "print(\"Наилучшие значения гиперпараметров: {}\".format(random_search_forest.best_params_))"
   ]
  },
  {
   "cell_type": "code",
   "execution_count": null,
   "id": "FMojHKnN06ke",
   "metadata": {
    "colab": {
     "base_uri": "https://localhost:8080/"
    },
    "executionInfo": {
     "elapsed": 229195,
     "status": "ok",
     "timestamp": 1650551609210,
     "user": {
      "displayName": "VICDS _",
      "userId": "16539764637744847477"
     },
     "user_tz": -180
    },
    "id": "FMojHKnN06ke",
    "outputId": "b7bffe20-c974-485a-9b93-bd17eba27a0c"
   },
   "outputs": [],
   "source": [
    "param_grid = {'n_estimators': list(range(80, 200, 30)),\n",
    "              'min_samples_leaf': [5],\n",
    "              'max_depth': list(np.linspace(20, 40, 5, dtype=int))\n",
    "              }\n",
    "            \n",
    "grid_search_forest = GridSearchCV(\n",
    "    estimator=ensemble.RandomForestClassifier(random_state=42), \n",
    "    param_grid=param_grid, \n",
    "    cv=5, \n",
    "    n_jobs = -1\n",
    ")  \n",
    "%time grid_search_forest.fit(X_train_scaled, y_train) \n",
    "y_train_pred = grid_search_forest.predict(X_train_scaled)\n",
    "print('f1_score на обучающем наборе: {:.2f}'.format(metrics.f1_score(y_train, y_train_pred)))\n",
    "print(\"accuracy на тестовом наборе: {:.2f}\".format(grid_search_forest.score(X_test_scaled, y_test)))\n",
    "y_test_pred = grid_search_forest.predict(X_test_scaled)\n",
    "print('f1_score на тестовом наборе: {:.2f}'.format(metrics.f1_score(y_test, y_test_pred)))\n",
    "print(\"Наилучшие значения гиперпараметров: {}\".format(grid_search_forest.best_params_))"
   ]
  },
  {
   "cell_type": "markdown",
   "id": "WkQaYLPQXZvp",
   "metadata": {
    "id": "WkQaYLPQXZvp"
   },
   "source": [
    "Метрику удалось еще больше улучшить с помощью обоих методов, но RandomizedSearchCV опять же потребовалось в два раза меньше времени;"
   ]
  },
  {
   "cell_type": "markdown",
   "id": "Z0oexy_WZsgj",
   "metadata": {
    "id": "Z0oexy_WZsgj"
   },
   "source": [
    "#### **Вывод по базовой оптимизации:**\n",
    "На множестве примеров нам удалось продемонстрировать более эффективную и быструю работу RandomizedSearchCV над GridSearchCV."
   ]
  },
  {
   "cell_type": "code",
   "execution_count": null,
   "id": "8e7d2f3e",
   "metadata": {},
   "outputs": [
    {
     "name": "stdout",
     "output_type": "stream",
     "text": [
      "CPU times: total: 3.7 s\n",
      "Wall time: 39.9 s\n",
      "f1_score на обучающем наборе: 0.70\n",
      "accuracy на тестовом наборе: 0.86\n",
      "f1_score на тестовом наборе: 0.67\n",
      "Наилучшие значения гиперпараметров: {'n_estimators': 160, 'min_samples_leaf': 7, 'max_depth': 25}\n"
     ]
    }
   ],
   "source": [
    "param_distributions = {'n_estimators': list(range(100, 201, 30)),\n",
    "              'min_samples_leaf': [5, 7],\n",
    "              'max_depth': [10, 15, 20, 25]\n",
    "              }\n",
    "            \n",
    "random_search_forest = RandomizedSearchCV(\n",
    "    estimator=ensemble.RandomForestClassifier(random_state=42), \n",
    "    param_distributions=param_distributions, \n",
    "    cv=5,\n",
    "    n_iter = 10, \n",
    "    n_jobs = -1\n",
    ")  \n",
    "%time random_search_forest.fit(X_train_scaled, y_train) \n",
    "y_train_pred = random_search_forest.predict(X_train_scaled)\n",
    "print('f1_score на обучающем наборе: {:.2f}'.format(metrics.f1_score(y_train, y_train_pred)))\n",
    "print(\"accuracy на тестовом наборе: {:.2f}\".format(random_search_forest.score(X_test_scaled, y_test)))\n",
    "y_test_pred = random_search_forest.predict(X_test_scaled)\n",
    "print('f1_score на тестовом наборе: {:.2f}'.format(metrics.f1_score(y_test, y_test_pred)))\n",
    "print(\"Наилучшие значения гиперпараметров: {}\".format(random_search_forest.best_params_))"
   ]
  },
  {
   "cell_type": "code",
   "execution_count": null,
   "id": "d97bab9a",
   "metadata": {},
   "outputs": [
    {
     "name": "stdout",
     "output_type": "stream",
     "text": [
      "CPU times: total: 2.77 s\n",
      "Wall time: 2min\n",
      "f1_score на обучающем наборе: 0.71\n",
      "accuracy на тестовом наборе: 0.86\n",
      "f1_score на тестовом наборе: 0.67\n",
      "Наилучшие значения гиперпараметров: {'max_depth': 20, 'min_samples_leaf': 5, 'n_estimators': 100}\n"
     ]
    }
   ],
   "source": [
    "param_grid = {'n_estimators': list(range(100, 201, 30)),\n",
    "              'min_samples_leaf': [5, 7],\n",
    "              'max_depth': [10, 15, 20, 25]\n",
    "              }\n",
    "            \n",
    "grid_search_forest = GridSearchCV(\n",
    "    estimator=ensemble.RandomForestClassifier(random_state=42), \n",
    "    param_grid=param_grid, \n",
    "    cv=5, \n",
    "    n_jobs = -1\n",
    ")  \n",
    "%time grid_search_forest.fit(X_train_scaled, y_train) \n",
    "y_train_pred = grid_search_forest.predict(X_train_scaled)\n",
    "print('f1_score на обучающем наборе: {:.2f}'.format(metrics.f1_score(y_train, y_train_pred)))\n",
    "print(\"accuracy на тестовом наборе: {:.2f}\".format(grid_search_forest.score(X_test_scaled, y_test)))\n",
    "y_test_pred = grid_search_forest.predict(X_test_scaled)\n",
    "print('f1_score на тестовом наборе: {:.2f}'.format(metrics.f1_score(y_test, y_test_pred)))\n",
    "print(\"Наилучшие значения гиперпараметров: {}\".format(grid_search_forest.best_params_))"
   ]
  },
  {
   "cell_type": "markdown",
   "id": "9c224fa3-0468-4aa0-9877-057a98a92010",
   "metadata": {
    "id": "9c224fa3-0468-4aa0-9877-057a98a92010"
   },
   "source": [
    "## 3. Продвинутая оптимизация."
   ]
  },
  {
   "cell_type": "markdown",
   "id": "abd91fa8-8b52-4c41-ade6-ec96a1895a0a",
   "metadata": {
    "id": "abd91fa8-8b52-4c41-ade6-ec96a1895a0a"
   },
   "source": [
    "Оценка качества модели для каждой комбинации гиперпараметров является дорогостоящей частью оптимизации, поэтому в идеале мы хотим делать это самым эффективным образом. Один из способов  — это выбор следующей комбинации гиперпараметров на основе прошлых результатов. \n",
    "Байесовская оптимизация отличается от случайного поиска или поиска по сетке тем, что делает именно это: вместо того, чтобы просто выбирать комбинации из сетки, не имеющей информации о прошлых оценках, байесовские методы учитывают предыдущие результаты, чтобы попробовать более многообещающие комбинации значений. Это позволяет во многих случаях найти лучшие значения гиперпараметров модели за меньшее количество времени.\n",
    "Таким образом, мы получаем и более быструю оптимизацию, и более качественный результат. Это два желаемых результата, особенно когда мы работаем с настройкой гиперпараметров моделей машинного обучения."
   ]
  },
  {
   "cell_type": "markdown",
   "id": "Kmo2b6kPChhN",
   "metadata": {
    "id": "Kmo2b6kPChhN"
   },
   "source": [
    "### <center> Hyperopt"
   ]
  },
  {
   "cell_type": "code",
   "execution_count": null,
   "id": "aSpCOHIW7i_u",
   "metadata": {
    "id": "aSpCOHIW7i_u"
   },
   "outputs": [],
   "source": [
    "# Устанавливаем библиотеку\n",
    "# !pip install hyperopt\n",
    "# или\n",
    "#!conda install -c conda-forge hyperopt"
   ]
  },
  {
   "cell_type": "code",
   "execution_count": 19,
   "id": "Ae44foDuCzke",
   "metadata": {
    "colab": {
     "base_uri": "https://localhost:8080/"
    },
    "executionInfo": {
     "elapsed": 523,
     "status": "ok",
     "timestamp": 1650551609649,
     "user": {
      "displayName": "VICDS _",
      "userId": "16539764637744847477"
     },
     "user_tz": -180
    },
    "id": "Ae44foDuCzke",
    "outputId": "ce7bca0b-071f-4b1b-fda9-a2f13878616c"
   },
   "outputs": [
    {
     "name": "stdout",
     "output_type": "stream",
     "text": [
      "Версия Hyperopt : 0.2.7\n"
     ]
    }
   ],
   "source": [
    "#делаем импорт и выведем версию библиотеки\n",
    "from sklearn.model_selection import cross_val_score\n",
    "import hyperopt\n",
    "from hyperopt import hp, fmin, tpe, Trials\n",
    "# fmin - основная функция, она будет минимизировать наш функционал\n",
    "# tpe - алгоритм оптимизации\n",
    "# hp - включает набор методов для объявления пространства поиска гиперпараметров\n",
    "# trails - используется для логирования результатов\n",
    "\n",
    "print(\"Версия Hyperopt : {}\".format(hyperopt.__version__))"
   ]
  },
  {
   "cell_type": "markdown",
   "id": "z9K7uLdZ69xr",
   "metadata": {
    "id": "z9K7uLdZ69xr"
   },
   "source": [
    "Настроим оптимизацию гиперпараметров для алгоритма случайного леса."
   ]
  },
  {
   "cell_type": "code",
   "execution_count": 23,
   "id": "8dWxW_9K_qJp",
   "metadata": {
    "id": "8dWxW_9K_qJp"
   },
   "outputs": [],
   "source": [
    "# зададим пространство поиска гиперпараметров\n",
    "space={'n_estimators': hp.quniform('n_estimators', 100, 300, 10),\n",
    "       'max_depth' : hp.quniform('max_depth', 15, 40, 1),\n",
    "       'min_samples_leaf': hp.quniform('min_samples_leaf', 3, 7, 1)\n",
    "      }"
   ]
  },
  {
   "cell_type": "markdown",
   "id": "pci4SxXM_Cb4",
   "metadata": {
    "id": "pci4SxXM_Cb4"
   },
   "source": [
    "Интерфейс hyperopt отличается от Grid или RandomizedSearch, поэтому нам нужно создать функцию для минимизации, она должна принимать словарь значений гиперпараметров и возвращать значение целевой функции."
   ]
  },
  {
   "cell_type": "code",
   "execution_count": 24,
   "id": "t3JS7HXU8pd2",
   "metadata": {
    "id": "t3JS7HXU8pd2"
   },
   "outputs": [],
   "source": [
    "# зафксируем random_state\n",
    "random_state = 42\n",
    "def hyperopt_rf(params, cv=5, X=X_train_scaled, y=y_train, random_state=random_state):\n",
    "    # функция получает комбинацию гиперпараметров в \"params\"\n",
    "    #params = {'n_estimators': int(params['n_estimators']), \n",
    "    #          'max_depth': int(params['max_depth']), \n",
    "    #         'min_samples_leaf': int(params['min_samples_leaf'])\n",
    "    #          }\n",
    "  \n",
    "    # используем эту комбинацию для построения модели\n",
    "    model = ensemble.RandomForestClassifier(**params, random_state=random_state)\n",
    "\n",
    "    # обучаем модель\n",
    "    model.fit(X, y)\n",
    "    score = metrics.f1_score(y, model.predict(X))\n",
    "    \n",
    "    # обучать модель можно также с помощью кросс-валидации\n",
    "    # применим  cross validation с тем же количеством фолдов\n",
    "    # score = cross_val_score(model, X, y, cv=cv, scoring=\"f1\", n_jobs=-1).mean()\n",
    "\n",
    "    # метрику необходимо минимизировать, поэтому ставим знак минус\n",
    "    return -score"
   ]
  },
  {
   "cell_type": "code",
   "execution_count": 25,
   "id": "qxKIThc002O1",
   "metadata": {
    "colab": {
     "base_uri": "https://localhost:8080/"
    },
    "executionInfo": {
     "elapsed": 70337,
     "status": "ok",
     "timestamp": 1650551679952,
     "user": {
      "displayName": "VICDS _",
      "userId": "16539764637744847477"
     },
     "user_tz": -180
    },
    "id": "qxKIThc002O1",
    "outputId": "4b4bea25-30cc-4c10-a4e9-9a5e9e1778aa"
   },
   "outputs": [
    {
     "name": "stdout",
     "output_type": "stream",
     "text": [
      "CPU times: total: 0 ns\n",
      "Wall time: 0 ns\n",
      "  0%|          | 0/20 [00:00<?, ?trial/s, best loss=?]"
     ]
    },
    {
     "name": "stderr",
     "output_type": "stream",
     "text": [
      "job exception: n_estimators must be an integer, got <class 'float'>.\n",
      "\n"
     ]
    },
    {
     "name": "stdout",
     "output_type": "stream",
     "text": [
      "  0%|          | 0/20 [00:00<?, ?trial/s, best loss=?]\n"
     ]
    },
    {
     "ename": "ValueError",
     "evalue": "n_estimators must be an integer, got <class 'float'>.",
     "output_type": "error",
     "traceback": [
      "\u001b[1;31m---------------------------------------------------------------------------\u001b[0m",
      "\u001b[1;31mValueError\u001b[0m                                Traceback (most recent call last)",
      "\u001b[1;32mc:\\Users\\kuzin\\OneDrive\\Рабочий стол\\IDE\\skillfactory\\ML\\МL_7 Оптимизация гиперпараметров\\ML-7.Optimization_of_hyperparameters.ipynb Ячейка 89\u001b[0m in \u001b[0;36m<cell line: 6>\u001b[1;34m()\u001b[0m\n\u001b[0;32m      <a href='vscode-notebook-cell:/c%3A/Users/kuzin/OneDrive/%D0%A0%D0%B0%D0%B1%D0%BE%D1%87%D0%B8%D0%B9%20%D1%81%D1%82%D0%BE%D0%BB/IDE/skillfactory/ML/%D0%9CL_7%20%D0%9E%D0%BF%D1%82%D0%B8%D0%BC%D0%B8%D0%B7%D0%B0%D1%86%D0%B8%D1%8F%20%D0%B3%D0%B8%D0%BF%D0%B5%D1%80%D0%BF%D0%B0%D1%80%D0%B0%D0%BC%D0%B5%D1%82%D1%80%D0%BE%D0%B2/ML-7.Optimization_of_hyperparameters.ipynb#Y154sZmlsZQ%3D%3D?line=1'>2</a>\u001b[0m get_ipython()\u001b[39m.\u001b[39mrun_line_magic(\u001b[39m'\u001b[39m\u001b[39mtime\u001b[39m\u001b[39m'\u001b[39m, \u001b[39m'\u001b[39m\u001b[39m'\u001b[39m)\n\u001b[0;32m      <a href='vscode-notebook-cell:/c%3A/Users/kuzin/OneDrive/%D0%A0%D0%B0%D0%B1%D0%BE%D1%87%D0%B8%D0%B9%20%D1%81%D1%82%D0%BE%D0%BB/IDE/skillfactory/ML/%D0%9CL_7%20%D0%9E%D0%BF%D1%82%D0%B8%D0%BC%D0%B8%D0%B7%D0%B0%D1%86%D0%B8%D1%8F%20%D0%B3%D0%B8%D0%BF%D0%B5%D1%80%D0%BF%D0%B0%D1%80%D0%B0%D0%BC%D0%B5%D1%82%D1%80%D0%BE%D0%B2/ML-7.Optimization_of_hyperparameters.ipynb#Y154sZmlsZQ%3D%3D?line=3'>4</a>\u001b[0m trials \u001b[39m=\u001b[39m Trials() \u001b[39m# используется для логирования результатов\u001b[39;00m\n\u001b[1;32m----> <a href='vscode-notebook-cell:/c%3A/Users/kuzin/OneDrive/%D0%A0%D0%B0%D0%B1%D0%BE%D1%87%D0%B8%D0%B9%20%D1%81%D1%82%D0%BE%D0%BB/IDE/skillfactory/ML/%D0%9CL_7%20%D0%9E%D0%BF%D1%82%D0%B8%D0%BC%D0%B8%D0%B7%D0%B0%D1%86%D0%B8%D1%8F%20%D0%B3%D0%B8%D0%BF%D0%B5%D1%80%D0%BF%D0%B0%D1%80%D0%B0%D0%BC%D0%B5%D1%82%D1%80%D0%BE%D0%B2/ML-7.Optimization_of_hyperparameters.ipynb#Y154sZmlsZQ%3D%3D?line=5'>6</a>\u001b[0m best\u001b[39m=\u001b[39mfmin(hyperopt_rf, \u001b[39m# наша функция \u001b[39;49;00m\n\u001b[0;32m      <a href='vscode-notebook-cell:/c%3A/Users/kuzin/OneDrive/%D0%A0%D0%B0%D0%B1%D0%BE%D1%87%D0%B8%D0%B9%20%D1%81%D1%82%D0%BE%D0%BB/IDE/skillfactory/ML/%D0%9CL_7%20%D0%9E%D0%BF%D1%82%D0%B8%D0%BC%D0%B8%D0%B7%D0%B0%D1%86%D0%B8%D1%8F%20%D0%B3%D0%B8%D0%BF%D0%B5%D1%80%D0%BF%D0%B0%D1%80%D0%B0%D0%BC%D0%B5%D1%82%D1%80%D0%BE%D0%B2/ML-7.Optimization_of_hyperparameters.ipynb#Y154sZmlsZQ%3D%3D?line=6'>7</a>\u001b[0m           space\u001b[39m=\u001b[39;49mspace, \u001b[39m# пространство гиперпараметров\u001b[39;49;00m\n\u001b[0;32m      <a href='vscode-notebook-cell:/c%3A/Users/kuzin/OneDrive/%D0%A0%D0%B0%D0%B1%D0%BE%D1%87%D0%B8%D0%B9%20%D1%81%D1%82%D0%BE%D0%BB/IDE/skillfactory/ML/%D0%9CL_7%20%D0%9E%D0%BF%D1%82%D0%B8%D0%BC%D0%B8%D0%B7%D0%B0%D1%86%D0%B8%D1%8F%20%D0%B3%D0%B8%D0%BF%D0%B5%D1%80%D0%BF%D0%B0%D1%80%D0%B0%D0%BC%D0%B5%D1%82%D1%80%D0%BE%D0%B2/ML-7.Optimization_of_hyperparameters.ipynb#Y154sZmlsZQ%3D%3D?line=7'>8</a>\u001b[0m           algo\u001b[39m=\u001b[39;49mtpe\u001b[39m.\u001b[39;49msuggest, \u001b[39m# алгоритм оптимизации, установлен по умолчанию, задавать необязательно\u001b[39;49;00m\n\u001b[0;32m      <a href='vscode-notebook-cell:/c%3A/Users/kuzin/OneDrive/%D0%A0%D0%B0%D0%B1%D0%BE%D1%87%D0%B8%D0%B9%20%D1%81%D1%82%D0%BE%D0%BB/IDE/skillfactory/ML/%D0%9CL_7%20%D0%9E%D0%BF%D1%82%D0%B8%D0%BC%D0%B8%D0%B7%D0%B0%D1%86%D0%B8%D1%8F%20%D0%B3%D0%B8%D0%BF%D0%B5%D1%80%D0%BF%D0%B0%D1%80%D0%B0%D0%BC%D0%B5%D1%82%D1%80%D0%BE%D0%B2/ML-7.Optimization_of_hyperparameters.ipynb#Y154sZmlsZQ%3D%3D?line=8'>9</a>\u001b[0m           max_evals\u001b[39m=\u001b[39;49m\u001b[39m20\u001b[39;49m, \u001b[39m# максимальное количество итераций\u001b[39;49;00m\n\u001b[0;32m     <a href='vscode-notebook-cell:/c%3A/Users/kuzin/OneDrive/%D0%A0%D0%B0%D0%B1%D0%BE%D1%87%D0%B8%D0%B9%20%D1%81%D1%82%D0%BE%D0%BB/IDE/skillfactory/ML/%D0%9CL_7%20%D0%9E%D0%BF%D1%82%D0%B8%D0%BC%D0%B8%D0%B7%D0%B0%D1%86%D0%B8%D1%8F%20%D0%B3%D0%B8%D0%BF%D0%B5%D1%80%D0%BF%D0%B0%D1%80%D0%B0%D0%BC%D0%B5%D1%82%D1%80%D0%BE%D0%B2/ML-7.Optimization_of_hyperparameters.ipynb#Y154sZmlsZQ%3D%3D?line=9'>10</a>\u001b[0m           trials\u001b[39m=\u001b[39;49mtrials, \u001b[39m# логирование результатов\u001b[39;49;00m\n\u001b[0;32m     <a href='vscode-notebook-cell:/c%3A/Users/kuzin/OneDrive/%D0%A0%D0%B0%D0%B1%D0%BE%D1%87%D0%B8%D0%B9%20%D1%81%D1%82%D0%BE%D0%BB/IDE/skillfactory/ML/%D0%9CL_7%20%D0%9E%D0%BF%D1%82%D0%B8%D0%BC%D0%B8%D0%B7%D0%B0%D1%86%D0%B8%D1%8F%20%D0%B3%D0%B8%D0%BF%D0%B5%D1%80%D0%BF%D0%B0%D1%80%D0%B0%D0%BC%D0%B5%D1%82%D1%80%D0%BE%D0%B2/ML-7.Optimization_of_hyperparameters.ipynb#Y154sZmlsZQ%3D%3D?line=10'>11</a>\u001b[0m           rstate\u001b[39m=\u001b[39;49mnp\u001b[39m.\u001b[39;49mrandom\u001b[39m.\u001b[39;49mdefault_rng(random_state)\u001b[39m# фиксируем для повторяемости результата\u001b[39;49;00m\n\u001b[0;32m     <a href='vscode-notebook-cell:/c%3A/Users/kuzin/OneDrive/%D0%A0%D0%B0%D0%B1%D0%BE%D1%87%D0%B8%D0%B9%20%D1%81%D1%82%D0%BE%D0%BB/IDE/skillfactory/ML/%D0%9CL_7%20%D0%9E%D0%BF%D1%82%D0%B8%D0%BC%D0%B8%D0%B7%D0%B0%D1%86%D0%B8%D1%8F%20%D0%B3%D0%B8%D0%BF%D0%B5%D1%80%D0%BF%D0%B0%D1%80%D0%B0%D0%BC%D0%B5%D1%82%D1%80%D0%BE%D0%B2/ML-7.Optimization_of_hyperparameters.ipynb#Y154sZmlsZQ%3D%3D?line=11'>12</a>\u001b[0m          )\n\u001b[0;32m     <a href='vscode-notebook-cell:/c%3A/Users/kuzin/OneDrive/%D0%A0%D0%B0%D0%B1%D0%BE%D1%87%D0%B8%D0%B9%20%D1%81%D1%82%D0%BE%D0%BB/IDE/skillfactory/ML/%D0%9CL_7%20%D0%9E%D0%BF%D1%82%D0%B8%D0%BC%D0%B8%D0%B7%D0%B0%D1%86%D0%B8%D1%8F%20%D0%B3%D0%B8%D0%BF%D0%B5%D1%80%D0%BF%D0%B0%D1%80%D0%B0%D0%BC%D0%B5%D1%82%D1%80%D0%BE%D0%B2/ML-7.Optimization_of_hyperparameters.ipynb#Y154sZmlsZQ%3D%3D?line=12'>13</a>\u001b[0m \u001b[39mprint\u001b[39m(\u001b[39m\"\u001b[39m\u001b[39mНаилучшие значения гиперпараметров \u001b[39m\u001b[39m{}\u001b[39;00m\u001b[39m\"\u001b[39m\u001b[39m.\u001b[39mformat(best))\n",
      "File \u001b[1;32mc:\\Users\\kuzin\\AppData\\Local\\Programs\\Python\\Python39\\lib\\site-packages\\hyperopt\\fmin.py:540\u001b[0m, in \u001b[0;36mfmin\u001b[1;34m(fn, space, algo, max_evals, timeout, loss_threshold, trials, rstate, allow_trials_fmin, pass_expr_memo_ctrl, catch_eval_exceptions, verbose, return_argmin, points_to_evaluate, max_queue_len, show_progressbar, early_stop_fn, trials_save_file)\u001b[0m\n\u001b[0;32m    537\u001b[0m     fn \u001b[39m=\u001b[39m __objective_fmin_wrapper(fn)\n\u001b[0;32m    539\u001b[0m \u001b[39mif\u001b[39;00m allow_trials_fmin \u001b[39mand\u001b[39;00m \u001b[39mhasattr\u001b[39m(trials, \u001b[39m\"\u001b[39m\u001b[39mfmin\u001b[39m\u001b[39m\"\u001b[39m):\n\u001b[1;32m--> 540\u001b[0m     \u001b[39mreturn\u001b[39;00m trials\u001b[39m.\u001b[39;49mfmin(\n\u001b[0;32m    541\u001b[0m         fn,\n\u001b[0;32m    542\u001b[0m         space,\n\u001b[0;32m    543\u001b[0m         algo\u001b[39m=\u001b[39;49malgo,\n\u001b[0;32m    544\u001b[0m         max_evals\u001b[39m=\u001b[39;49mmax_evals,\n\u001b[0;32m    545\u001b[0m         timeout\u001b[39m=\u001b[39;49mtimeout,\n\u001b[0;32m    546\u001b[0m         loss_threshold\u001b[39m=\u001b[39;49mloss_threshold,\n\u001b[0;32m    547\u001b[0m         max_queue_len\u001b[39m=\u001b[39;49mmax_queue_len,\n\u001b[0;32m    548\u001b[0m         rstate\u001b[39m=\u001b[39;49mrstate,\n\u001b[0;32m    549\u001b[0m         pass_expr_memo_ctrl\u001b[39m=\u001b[39;49mpass_expr_memo_ctrl,\n\u001b[0;32m    550\u001b[0m         verbose\u001b[39m=\u001b[39;49mverbose,\n\u001b[0;32m    551\u001b[0m         catch_eval_exceptions\u001b[39m=\u001b[39;49mcatch_eval_exceptions,\n\u001b[0;32m    552\u001b[0m         return_argmin\u001b[39m=\u001b[39;49mreturn_argmin,\n\u001b[0;32m    553\u001b[0m         show_progressbar\u001b[39m=\u001b[39;49mshow_progressbar,\n\u001b[0;32m    554\u001b[0m         early_stop_fn\u001b[39m=\u001b[39;49mearly_stop_fn,\n\u001b[0;32m    555\u001b[0m         trials_save_file\u001b[39m=\u001b[39;49mtrials_save_file,\n\u001b[0;32m    556\u001b[0m     )\n\u001b[0;32m    558\u001b[0m \u001b[39mif\u001b[39;00m trials \u001b[39mis\u001b[39;00m \u001b[39mNone\u001b[39;00m:\n\u001b[0;32m    559\u001b[0m     \u001b[39mif\u001b[39;00m os\u001b[39m.\u001b[39mpath\u001b[39m.\u001b[39mexists(trials_save_file):\n",
      "File \u001b[1;32mc:\\Users\\kuzin\\AppData\\Local\\Programs\\Python\\Python39\\lib\\site-packages\\hyperopt\\base.py:671\u001b[0m, in \u001b[0;36mTrials.fmin\u001b[1;34m(self, fn, space, algo, max_evals, timeout, loss_threshold, max_queue_len, rstate, verbose, pass_expr_memo_ctrl, catch_eval_exceptions, return_argmin, show_progressbar, early_stop_fn, trials_save_file)\u001b[0m\n\u001b[0;32m    666\u001b[0m \u001b[39m# -- Stop-gap implementation!\u001b[39;00m\n\u001b[0;32m    667\u001b[0m \u001b[39m#    fmin should have been a Trials method in the first place\u001b[39;00m\n\u001b[0;32m    668\u001b[0m \u001b[39m#    but for now it's still sitting in another file.\u001b[39;00m\n\u001b[0;32m    669\u001b[0m \u001b[39mfrom\u001b[39;00m \u001b[39m.\u001b[39;00m\u001b[39mfmin\u001b[39;00m \u001b[39mimport\u001b[39;00m fmin\n\u001b[1;32m--> 671\u001b[0m \u001b[39mreturn\u001b[39;00m fmin(\n\u001b[0;32m    672\u001b[0m     fn,\n\u001b[0;32m    673\u001b[0m     space,\n\u001b[0;32m    674\u001b[0m     algo\u001b[39m=\u001b[39;49malgo,\n\u001b[0;32m    675\u001b[0m     max_evals\u001b[39m=\u001b[39;49mmax_evals,\n\u001b[0;32m    676\u001b[0m     timeout\u001b[39m=\u001b[39;49mtimeout,\n\u001b[0;32m    677\u001b[0m     loss_threshold\u001b[39m=\u001b[39;49mloss_threshold,\n\u001b[0;32m    678\u001b[0m     trials\u001b[39m=\u001b[39;49m\u001b[39mself\u001b[39;49m,\n\u001b[0;32m    679\u001b[0m     rstate\u001b[39m=\u001b[39;49mrstate,\n\u001b[0;32m    680\u001b[0m     verbose\u001b[39m=\u001b[39;49mverbose,\n\u001b[0;32m    681\u001b[0m     max_queue_len\u001b[39m=\u001b[39;49mmax_queue_len,\n\u001b[0;32m    682\u001b[0m     allow_trials_fmin\u001b[39m=\u001b[39;49m\u001b[39mFalse\u001b[39;49;00m,  \u001b[39m# -- prevent recursion\u001b[39;49;00m\n\u001b[0;32m    683\u001b[0m     pass_expr_memo_ctrl\u001b[39m=\u001b[39;49mpass_expr_memo_ctrl,\n\u001b[0;32m    684\u001b[0m     catch_eval_exceptions\u001b[39m=\u001b[39;49mcatch_eval_exceptions,\n\u001b[0;32m    685\u001b[0m     return_argmin\u001b[39m=\u001b[39;49mreturn_argmin,\n\u001b[0;32m    686\u001b[0m     show_progressbar\u001b[39m=\u001b[39;49mshow_progressbar,\n\u001b[0;32m    687\u001b[0m     early_stop_fn\u001b[39m=\u001b[39;49mearly_stop_fn,\n\u001b[0;32m    688\u001b[0m     trials_save_file\u001b[39m=\u001b[39;49mtrials_save_file,\n\u001b[0;32m    689\u001b[0m )\n",
      "File \u001b[1;32mc:\\Users\\kuzin\\AppData\\Local\\Programs\\Python\\Python39\\lib\\site-packages\\hyperopt\\fmin.py:586\u001b[0m, in \u001b[0;36mfmin\u001b[1;34m(fn, space, algo, max_evals, timeout, loss_threshold, trials, rstate, allow_trials_fmin, pass_expr_memo_ctrl, catch_eval_exceptions, verbose, return_argmin, points_to_evaluate, max_queue_len, show_progressbar, early_stop_fn, trials_save_file)\u001b[0m\n\u001b[0;32m    583\u001b[0m rval\u001b[39m.\u001b[39mcatch_eval_exceptions \u001b[39m=\u001b[39m catch_eval_exceptions\n\u001b[0;32m    585\u001b[0m \u001b[39m# next line is where the fmin is actually executed\u001b[39;00m\n\u001b[1;32m--> 586\u001b[0m rval\u001b[39m.\u001b[39;49mexhaust()\n\u001b[0;32m    588\u001b[0m \u001b[39mif\u001b[39;00m return_argmin:\n\u001b[0;32m    589\u001b[0m     \u001b[39mif\u001b[39;00m \u001b[39mlen\u001b[39m(trials\u001b[39m.\u001b[39mtrials) \u001b[39m==\u001b[39m \u001b[39m0\u001b[39m:\n",
      "File \u001b[1;32mc:\\Users\\kuzin\\AppData\\Local\\Programs\\Python\\Python39\\lib\\site-packages\\hyperopt\\fmin.py:364\u001b[0m, in \u001b[0;36mFMinIter.exhaust\u001b[1;34m(self)\u001b[0m\n\u001b[0;32m    362\u001b[0m \u001b[39mdef\u001b[39;00m \u001b[39mexhaust\u001b[39m(\u001b[39mself\u001b[39m):\n\u001b[0;32m    363\u001b[0m     n_done \u001b[39m=\u001b[39m \u001b[39mlen\u001b[39m(\u001b[39mself\u001b[39m\u001b[39m.\u001b[39mtrials)\n\u001b[1;32m--> 364\u001b[0m     \u001b[39mself\u001b[39;49m\u001b[39m.\u001b[39;49mrun(\u001b[39mself\u001b[39;49m\u001b[39m.\u001b[39;49mmax_evals \u001b[39m-\u001b[39;49m n_done, block_until_done\u001b[39m=\u001b[39;49m\u001b[39mself\u001b[39;49m\u001b[39m.\u001b[39;49masynchronous)\n\u001b[0;32m    365\u001b[0m     \u001b[39mself\u001b[39m\u001b[39m.\u001b[39mtrials\u001b[39m.\u001b[39mrefresh()\n\u001b[0;32m    366\u001b[0m     \u001b[39mreturn\u001b[39;00m \u001b[39mself\u001b[39m\n",
      "File \u001b[1;32mc:\\Users\\kuzin\\AppData\\Local\\Programs\\Python\\Python39\\lib\\site-packages\\hyperopt\\fmin.py:300\u001b[0m, in \u001b[0;36mFMinIter.run\u001b[1;34m(self, N, block_until_done)\u001b[0m\n\u001b[0;32m    297\u001b[0m     time\u001b[39m.\u001b[39msleep(\u001b[39mself\u001b[39m\u001b[39m.\u001b[39mpoll_interval_secs)\n\u001b[0;32m    298\u001b[0m \u001b[39melse\u001b[39;00m:\n\u001b[0;32m    299\u001b[0m     \u001b[39m# -- loop over trials and do the jobs directly\u001b[39;00m\n\u001b[1;32m--> 300\u001b[0m     \u001b[39mself\u001b[39;49m\u001b[39m.\u001b[39;49mserial_evaluate()\n\u001b[0;32m    302\u001b[0m \u001b[39mself\u001b[39m\u001b[39m.\u001b[39mtrials\u001b[39m.\u001b[39mrefresh()\n\u001b[0;32m    303\u001b[0m \u001b[39mif\u001b[39;00m \u001b[39mself\u001b[39m\u001b[39m.\u001b[39mtrials_save_file \u001b[39m!=\u001b[39m \u001b[39m\"\u001b[39m\u001b[39m\"\u001b[39m:\n",
      "File \u001b[1;32mc:\\Users\\kuzin\\AppData\\Local\\Programs\\Python\\Python39\\lib\\site-packages\\hyperopt\\fmin.py:178\u001b[0m, in \u001b[0;36mFMinIter.serial_evaluate\u001b[1;34m(self, N)\u001b[0m\n\u001b[0;32m    176\u001b[0m ctrl \u001b[39m=\u001b[39m base\u001b[39m.\u001b[39mCtrl(\u001b[39mself\u001b[39m\u001b[39m.\u001b[39mtrials, current_trial\u001b[39m=\u001b[39mtrial)\n\u001b[0;32m    177\u001b[0m \u001b[39mtry\u001b[39;00m:\n\u001b[1;32m--> 178\u001b[0m     result \u001b[39m=\u001b[39m \u001b[39mself\u001b[39;49m\u001b[39m.\u001b[39;49mdomain\u001b[39m.\u001b[39;49mevaluate(spec, ctrl)\n\u001b[0;32m    179\u001b[0m \u001b[39mexcept\u001b[39;00m \u001b[39mException\u001b[39;00m \u001b[39mas\u001b[39;00m e:\n\u001b[0;32m    180\u001b[0m     logger\u001b[39m.\u001b[39merror(\u001b[39m\"\u001b[39m\u001b[39mjob exception: \u001b[39m\u001b[39m%s\u001b[39;00m\u001b[39m\"\u001b[39m \u001b[39m%\u001b[39m \u001b[39mstr\u001b[39m(e))\n",
      "File \u001b[1;32mc:\\Users\\kuzin\\AppData\\Local\\Programs\\Python\\Python39\\lib\\site-packages\\hyperopt\\base.py:892\u001b[0m, in \u001b[0;36mDomain.evaluate\u001b[1;34m(self, config, ctrl, attach_attachments)\u001b[0m\n\u001b[0;32m    883\u001b[0m \u001b[39melse\u001b[39;00m:\n\u001b[0;32m    884\u001b[0m     \u001b[39m# -- the \"work\" of evaluating `config` can be written\u001b[39;00m\n\u001b[0;32m    885\u001b[0m     \u001b[39m#    either into the pyll part (self.expr)\u001b[39;00m\n\u001b[0;32m    886\u001b[0m     \u001b[39m#    or the normal Python part (self.fn)\u001b[39;00m\n\u001b[0;32m    887\u001b[0m     pyll_rval \u001b[39m=\u001b[39m pyll\u001b[39m.\u001b[39mrec_eval(\n\u001b[0;32m    888\u001b[0m         \u001b[39mself\u001b[39m\u001b[39m.\u001b[39mexpr,\n\u001b[0;32m    889\u001b[0m         memo\u001b[39m=\u001b[39mmemo,\n\u001b[0;32m    890\u001b[0m         print_node_on_error\u001b[39m=\u001b[39m\u001b[39mself\u001b[39m\u001b[39m.\u001b[39mrec_eval_print_node_on_error,\n\u001b[0;32m    891\u001b[0m     )\n\u001b[1;32m--> 892\u001b[0m     rval \u001b[39m=\u001b[39m \u001b[39mself\u001b[39;49m\u001b[39m.\u001b[39;49mfn(pyll_rval)\n\u001b[0;32m    894\u001b[0m \u001b[39mif\u001b[39;00m \u001b[39misinstance\u001b[39m(rval, (\u001b[39mfloat\u001b[39m, \u001b[39mint\u001b[39m, np\u001b[39m.\u001b[39mnumber)):\n\u001b[0;32m    895\u001b[0m     dict_rval \u001b[39m=\u001b[39m {\u001b[39m\"\u001b[39m\u001b[39mloss\u001b[39m\u001b[39m\"\u001b[39m: \u001b[39mfloat\u001b[39m(rval), \u001b[39m\"\u001b[39m\u001b[39mstatus\u001b[39m\u001b[39m\"\u001b[39m: STATUS_OK}\n",
      "\u001b[1;32mc:\\Users\\kuzin\\OneDrive\\Рабочий стол\\IDE\\skillfactory\\ML\\МL_7 Оптимизация гиперпараметров\\ML-7.Optimization_of_hyperparameters.ipynb Ячейка 89\u001b[0m in \u001b[0;36mhyperopt_rf\u001b[1;34m(params, cv, X, y, random_state)\u001b[0m\n\u001b[0;32m     <a href='vscode-notebook-cell:/c%3A/Users/kuzin/OneDrive/%D0%A0%D0%B0%D0%B1%D0%BE%D1%87%D0%B8%D0%B9%20%D1%81%D1%82%D0%BE%D0%BB/IDE/skillfactory/ML/%D0%9CL_7%20%D0%9E%D0%BF%D1%82%D0%B8%D0%BC%D0%B8%D0%B7%D0%B0%D1%86%D0%B8%D1%8F%20%D0%B3%D0%B8%D0%BF%D0%B5%D1%80%D0%BF%D0%B0%D1%80%D0%B0%D0%BC%D0%B5%D1%82%D1%80%D0%BE%D0%B2/ML-7.Optimization_of_hyperparameters.ipynb#Y154sZmlsZQ%3D%3D?line=10'>11</a>\u001b[0m model \u001b[39m=\u001b[39m ensemble\u001b[39m.\u001b[39mRandomForestClassifier(\u001b[39m*\u001b[39m\u001b[39m*\u001b[39mparams, random_state\u001b[39m=\u001b[39mrandom_state)\n\u001b[0;32m     <a href='vscode-notebook-cell:/c%3A/Users/kuzin/OneDrive/%D0%A0%D0%B0%D0%B1%D0%BE%D1%87%D0%B8%D0%B9%20%D1%81%D1%82%D0%BE%D0%BB/IDE/skillfactory/ML/%D0%9CL_7%20%D0%9E%D0%BF%D1%82%D0%B8%D0%BC%D0%B8%D0%B7%D0%B0%D1%86%D0%B8%D1%8F%20%D0%B3%D0%B8%D0%BF%D0%B5%D1%80%D0%BF%D0%B0%D1%80%D0%B0%D0%BC%D0%B5%D1%82%D1%80%D0%BE%D0%B2/ML-7.Optimization_of_hyperparameters.ipynb#Y154sZmlsZQ%3D%3D?line=12'>13</a>\u001b[0m \u001b[39m# обучаем модель\u001b[39;00m\n\u001b[1;32m---> <a href='vscode-notebook-cell:/c%3A/Users/kuzin/OneDrive/%D0%A0%D0%B0%D0%B1%D0%BE%D1%87%D0%B8%D0%B9%20%D1%81%D1%82%D0%BE%D0%BB/IDE/skillfactory/ML/%D0%9CL_7%20%D0%9E%D0%BF%D1%82%D0%B8%D0%BC%D0%B8%D0%B7%D0%B0%D1%86%D0%B8%D1%8F%20%D0%B3%D0%B8%D0%BF%D0%B5%D1%80%D0%BF%D0%B0%D1%80%D0%B0%D0%BC%D0%B5%D1%82%D1%80%D0%BE%D0%B2/ML-7.Optimization_of_hyperparameters.ipynb#Y154sZmlsZQ%3D%3D?line=13'>14</a>\u001b[0m model\u001b[39m.\u001b[39;49mfit(X, y)\n\u001b[0;32m     <a href='vscode-notebook-cell:/c%3A/Users/kuzin/OneDrive/%D0%A0%D0%B0%D0%B1%D0%BE%D1%87%D0%B8%D0%B9%20%D1%81%D1%82%D0%BE%D0%BB/IDE/skillfactory/ML/%D0%9CL_7%20%D0%9E%D0%BF%D1%82%D0%B8%D0%BC%D0%B8%D0%B7%D0%B0%D1%86%D0%B8%D1%8F%20%D0%B3%D0%B8%D0%BF%D0%B5%D1%80%D0%BF%D0%B0%D1%80%D0%B0%D0%BC%D0%B5%D1%82%D1%80%D0%BE%D0%B2/ML-7.Optimization_of_hyperparameters.ipynb#Y154sZmlsZQ%3D%3D?line=14'>15</a>\u001b[0m score \u001b[39m=\u001b[39m metrics\u001b[39m.\u001b[39mf1_score(y, model\u001b[39m.\u001b[39mpredict(X))\n\u001b[0;32m     <a href='vscode-notebook-cell:/c%3A/Users/kuzin/OneDrive/%D0%A0%D0%B0%D0%B1%D0%BE%D1%87%D0%B8%D0%B9%20%D1%81%D1%82%D0%BE%D0%BB/IDE/skillfactory/ML/%D0%9CL_7%20%D0%9E%D0%BF%D1%82%D0%B8%D0%BC%D0%B8%D0%B7%D0%B0%D1%86%D0%B8%D1%8F%20%D0%B3%D0%B8%D0%BF%D0%B5%D1%80%D0%BF%D0%B0%D1%80%D0%B0%D0%BC%D0%B5%D1%82%D1%80%D0%BE%D0%B2/ML-7.Optimization_of_hyperparameters.ipynb#Y154sZmlsZQ%3D%3D?line=16'>17</a>\u001b[0m \u001b[39m# обучать модель можно также с помощью кросс-валидации\u001b[39;00m\n\u001b[0;32m     <a href='vscode-notebook-cell:/c%3A/Users/kuzin/OneDrive/%D0%A0%D0%B0%D0%B1%D0%BE%D1%87%D0%B8%D0%B9%20%D1%81%D1%82%D0%BE%D0%BB/IDE/skillfactory/ML/%D0%9CL_7%20%D0%9E%D0%BF%D1%82%D0%B8%D0%BC%D0%B8%D0%B7%D0%B0%D1%86%D0%B8%D1%8F%20%D0%B3%D0%B8%D0%BF%D0%B5%D1%80%D0%BF%D0%B0%D1%80%D0%B0%D0%BC%D0%B5%D1%82%D1%80%D0%BE%D0%B2/ML-7.Optimization_of_hyperparameters.ipynb#Y154sZmlsZQ%3D%3D?line=17'>18</a>\u001b[0m \u001b[39m# применим  cross validation с тем же количеством фолдов\u001b[39;00m\n\u001b[0;32m     <a href='vscode-notebook-cell:/c%3A/Users/kuzin/OneDrive/%D0%A0%D0%B0%D0%B1%D0%BE%D1%87%D0%B8%D0%B9%20%D1%81%D1%82%D0%BE%D0%BB/IDE/skillfactory/ML/%D0%9CL_7%20%D0%9E%D0%BF%D1%82%D0%B8%D0%BC%D0%B8%D0%B7%D0%B0%D1%86%D0%B8%D1%8F%20%D0%B3%D0%B8%D0%BF%D0%B5%D1%80%D0%BF%D0%B0%D1%80%D0%B0%D0%BC%D0%B5%D1%82%D1%80%D0%BE%D0%B2/ML-7.Optimization_of_hyperparameters.ipynb#Y154sZmlsZQ%3D%3D?line=18'>19</a>\u001b[0m \u001b[39m# score = cross_val_score(model, X, y, cv=cv, scoring=\"f1\", n_jobs=-1).mean()\u001b[39;00m\n\u001b[0;32m     <a href='vscode-notebook-cell:/c%3A/Users/kuzin/OneDrive/%D0%A0%D0%B0%D0%B1%D0%BE%D1%87%D0%B8%D0%B9%20%D1%81%D1%82%D0%BE%D0%BB/IDE/skillfactory/ML/%D0%9CL_7%20%D0%9E%D0%BF%D1%82%D0%B8%D0%BC%D0%B8%D0%B7%D0%B0%D1%86%D0%B8%D1%8F%20%D0%B3%D0%B8%D0%BF%D0%B5%D1%80%D0%BF%D0%B0%D1%80%D0%B0%D0%BC%D0%B5%D1%82%D1%80%D0%BE%D0%B2/ML-7.Optimization_of_hyperparameters.ipynb#Y154sZmlsZQ%3D%3D?line=19'>20</a>\u001b[0m \n\u001b[0;32m     <a href='vscode-notebook-cell:/c%3A/Users/kuzin/OneDrive/%D0%A0%D0%B0%D0%B1%D0%BE%D1%87%D0%B8%D0%B9%20%D1%81%D1%82%D0%BE%D0%BB/IDE/skillfactory/ML/%D0%9CL_7%20%D0%9E%D0%BF%D1%82%D0%B8%D0%BC%D0%B8%D0%B7%D0%B0%D1%86%D0%B8%D1%8F%20%D0%B3%D0%B8%D0%BF%D0%B5%D1%80%D0%BF%D0%B0%D1%80%D0%B0%D0%BC%D0%B5%D1%82%D1%80%D0%BE%D0%B2/ML-7.Optimization_of_hyperparameters.ipynb#Y154sZmlsZQ%3D%3D?line=20'>21</a>\u001b[0m \u001b[39m# метрику необходимо минимизировать, поэтому ставим знак минус\u001b[39;00m\n",
      "File \u001b[1;32mc:\\Users\\kuzin\\AppData\\Local\\Programs\\Python\\Python39\\lib\\site-packages\\sklearn\\ensemble\\_forest.py:396\u001b[0m, in \u001b[0;36mBaseForest.fit\u001b[1;34m(self, X, y, sample_weight)\u001b[0m\n\u001b[0;32m    393\u001b[0m     n_samples_bootstrap \u001b[39m=\u001b[39m \u001b[39mNone\u001b[39;00m\n\u001b[0;32m    395\u001b[0m \u001b[39m# Check parameters\u001b[39;00m\n\u001b[1;32m--> 396\u001b[0m \u001b[39mself\u001b[39;49m\u001b[39m.\u001b[39;49m_validate_estimator()\n\u001b[0;32m    397\u001b[0m \u001b[39m# TODO(1.2): Remove \"mse\" and \"mae\"\u001b[39;00m\n\u001b[0;32m    398\u001b[0m \u001b[39mif\u001b[39;00m \u001b[39misinstance\u001b[39m(\u001b[39mself\u001b[39m, (RandomForestRegressor, ExtraTreesRegressor)):\n",
      "File \u001b[1;32mc:\\Users\\kuzin\\AppData\\Local\\Programs\\Python\\Python39\\lib\\site-packages\\sklearn\\ensemble\\_base.py:136\u001b[0m, in \u001b[0;36mBaseEnsemble._validate_estimator\u001b[1;34m(self, default)\u001b[0m\n\u001b[0;32m    131\u001b[0m \u001b[39m\"\"\"Check the estimator and the n_estimator attribute.\u001b[39;00m\n\u001b[0;32m    132\u001b[0m \n\u001b[0;32m    133\u001b[0m \u001b[39mSets the base_estimator_` attributes.\u001b[39;00m\n\u001b[0;32m    134\u001b[0m \u001b[39m\"\"\"\u001b[39;00m\n\u001b[0;32m    135\u001b[0m \u001b[39mif\u001b[39;00m \u001b[39mnot\u001b[39;00m \u001b[39misinstance\u001b[39m(\u001b[39mself\u001b[39m\u001b[39m.\u001b[39mn_estimators, numbers\u001b[39m.\u001b[39mIntegral):\n\u001b[1;32m--> 136\u001b[0m     \u001b[39mraise\u001b[39;00m \u001b[39mValueError\u001b[39;00m(\n\u001b[0;32m    137\u001b[0m         \u001b[39m\"\u001b[39m\u001b[39mn_estimators must be an integer, got \u001b[39m\u001b[39m{0}\u001b[39;00m\u001b[39m.\u001b[39m\u001b[39m\"\u001b[39m\u001b[39m.\u001b[39mformat(\n\u001b[0;32m    138\u001b[0m             \u001b[39mtype\u001b[39m(\u001b[39mself\u001b[39m\u001b[39m.\u001b[39mn_estimators)\n\u001b[0;32m    139\u001b[0m         )\n\u001b[0;32m    140\u001b[0m     )\n\u001b[0;32m    142\u001b[0m \u001b[39mif\u001b[39;00m \u001b[39mself\u001b[39m\u001b[39m.\u001b[39mn_estimators \u001b[39m<\u001b[39m\u001b[39m=\u001b[39m \u001b[39m0\u001b[39m:\n\u001b[0;32m    143\u001b[0m     \u001b[39mraise\u001b[39;00m \u001b[39mValueError\u001b[39;00m(\n\u001b[0;32m    144\u001b[0m         \u001b[39m\"\u001b[39m\u001b[39mn_estimators must be greater than zero, got \u001b[39m\u001b[39m{0}\u001b[39;00m\u001b[39m.\u001b[39m\u001b[39m\"\u001b[39m\u001b[39m.\u001b[39mformat(\n\u001b[0;32m    145\u001b[0m             \u001b[39mself\u001b[39m\u001b[39m.\u001b[39mn_estimators\n\u001b[0;32m    146\u001b[0m         )\n\u001b[0;32m    147\u001b[0m     )\n",
      "\u001b[1;31mValueError\u001b[0m: n_estimators must be an integer, got <class 'float'>."
     ]
    }
   ],
   "source": [
    "# начинаем подбор гиперпараметров\n",
    "%time\n",
    "\n",
    "trials = Trials() # используется для логирования результатов\n",
    "\n",
    "best=fmin(hyperopt_rf, # наша функция \n",
    "          space=space, # пространство гиперпараметров\n",
    "          algo=tpe.suggest, # алгоритм оптимизации, установлен по умолчанию, задавать необязательно\n",
    "          max_evals=20, # максимальное количество итераций\n",
    "          trials=trials, # логирование результатов\n",
    "          rstate=np.random.default_rng(random_state)# фиксируем для повторяемости результата\n",
    "         )\n",
    "print(\"Наилучшие значения гиперпараметров {}\".format(best))"
   ]
  },
  {
   "cell_type": "code",
   "execution_count": 64,
   "id": "GjN-n5J601hy",
   "metadata": {
    "colab": {
     "base_uri": "https://localhost:8080/"
    },
    "executionInfo": {
     "elapsed": 4134,
     "status": "ok",
     "timestamp": 1650551683990,
     "user": {
      "displayName": "VICDS _",
      "userId": "16539764637744847477"
     },
     "user_tz": -180
    },
    "id": "GjN-n5J601hy",
    "outputId": "c777ff23-61fa-4988-b1c6-d0d44ec39792"
   },
   "outputs": [
    {
     "name": "stdout",
     "output_type": "stream",
     "text": [
      "f1_score на обучающем наборе: 0.76\n",
      "accuracy на тестовом наборе: 0.86\n",
      "f1_score на тестовом наборе: 0.68\n"
     ]
    }
   ],
   "source": [
    "# рассчитаем точность для тестовой выборки\n",
    "model = ensemble.RandomForestClassifier(\n",
    "    random_state=random_state, \n",
    "    n_estimators=int(best['n_estimators']),\n",
    "    max_depth=int(best['max_depth']),\n",
    "    min_samples_leaf=int(best['min_samples_leaf'])\n",
    ")\n",
    "model.fit(X_train_scaled, y_train)\n",
    "y_train_pred = model.predict(X_train_scaled)\n",
    "print('f1_score на обучающем наборе: {:.2f}'.format(metrics.f1_score(y_train, y_train_pred)))\n",
    "print(\"accuracy на тестовом наборе: {:.2f}\".format(model.score(X_test_scaled, y_test)))\n",
    "y_test_pred = model.predict(X_test_scaled)\n",
    "print('f1_score на тестовом наборе: {:.2f}'.format(metrics.f1_score(y_test, y_test_pred)))"
   ]
  },
  {
   "cell_type": "markdown",
   "id": "ZgKKr7KXV4aV",
   "metadata": {
    "id": "ZgKKr7KXV4aV"
   },
   "source": [
    "Мы можем продолжить поиск гиперпараметров, чтобы получить лучшие результаты.\n",
    "\n",
    "Для байесовских оптимизаторов это возможно, так как они ориентируются на прошлые результаты: предыдущие входные данные для целевой функции и результирующие потери.\n",
    "\n",
    "Hyperopt продолжит поиск с того места, где он остановился, если мы передадим ему объект Trials, который уже содержит информацию о предыдущих запусках.\n",
    "\n",
    "Всегда сохраняйте свои предыдущие результаты."
   ]
  },
  {
   "cell_type": "code",
   "execution_count": null,
   "id": "-veH7VaqSKlD",
   "metadata": {
    "colab": {
     "base_uri": "https://localhost:8080/"
    },
    "executionInfo": {
     "elapsed": 8739,
     "status": "ok",
     "timestamp": 1650551693000,
     "user": {
      "displayName": "VICDS _",
      "userId": "16539764637744847477"
     },
     "user_tz": -180
    },
    "id": "-veH7VaqSKlD",
    "outputId": "8347fd45-d036-4639-c81b-a3314b261a49"
   },
   "outputs": [
    {
     "name": "stdout",
     "output_type": "stream",
     "text": [
      "100%|██████████| 23/23 [00:13<00:00,  4.38s/trial, best loss: -0.7784334763948497]\n",
      "Наилучшие значения гиперпараметров {'max_depth': 21.0, 'min_samples_leaf': 2.0, 'n_estimators': 101.0}\n"
     ]
    }
   ],
   "source": [
    "# если необходимо продолжить подбор, \n",
    "# то увеличиваем max_evals(должен быть строго больше, чем на предыдуших итерациях) \n",
    "# и используем старый trials\n",
    "best=fmin(hyperopt_rf, # наша функция \n",
    "          space=space, # пространство гиперпараметров\n",
    "          algo=tpe.suggest, # алгоритм оптимизации, установлен по умолчанию, задавать необязательно\n",
    "          max_evals=23, # максимальное количество итераций\n",
    "          trials=trials, # логирование результатов\n",
    "          rstate=np.random.default_rng(random_state)# фиксируем для повторяемости результата\n",
    "         )\n",
    "print(\"Наилучшие значения гиперпараметров {}\".format(best))"
   ]
  },
  {
   "cell_type": "markdown",
   "id": "TqQqJI7UHLUJ",
   "metadata": {
    "id": "TqQqJI7UHLUJ"
   },
   "source": [
    "Видим, что Hyperot смог улучшить нашу метрику, причем за меньшее время."
   ]
  },
  {
   "cell_type": "code",
   "execution_count": null,
   "id": "m2DYa5gQ9Ffu",
   "metadata": {
    "colab": {
     "base_uri": "https://localhost:8080/",
     "height": 667
    },
    "executionInfo": {
     "elapsed": 1797,
     "status": "ok",
     "timestamp": 1650551694678,
     "user": {
      "displayName": "VICDS _",
      "userId": "16539764637744847477"
     },
     "user_tz": -180
    },
    "id": "m2DYa5gQ9Ffu",
    "outputId": "667dc7a3-6916-44a7-a64e-319a8faf69c6"
   },
   "outputs": [
    {
     "data": {
      "image/png": "[encoded data removed]",
      "text/plain": [
       "<Figure size 720x720 with 3 Axes>"
      ]
     },
     "metadata": {},
     "output_type": "display_data"
    }
   ],
   "source": [
    "# отрисуем, как менялась точность при различных гиперпараметрах\n",
    "tpe_results=np.array([[x['result']['loss'],\n",
    "                      x['misc']['vals']['max_depth'][0],\n",
    "                      x['misc']['vals']['n_estimators'][0]] for x in trials.trials])\n",
    "\n",
    "tpe_results_df=pd.DataFrame(tpe_results,\n",
    "                           columns=['score', 'max_depth', 'n_estimators'])\n",
    "# тепловая карта в данном случае не очень наглядна, возьмем линейный график\n",
    "tpe_results_df.plot(subplots=True,figsize=(10, 10));"
   ]
  },
  {
   "cell_type": "markdown",
   "id": "gawHqGmsHf4G",
   "metadata": {
    "id": "gawHqGmsHf4G"
   },
   "source": [
    "По графикам видно, что лучшая точность достигается именно в best_params. Но заметьте, что метрика отрицательная, так как нам необходимо максимизировать нашу метрику, в то время как,  hyperopt может только минимизировать."
   ]
  },
  {
   "cell_type": "markdown",
   "id": "b8734d51-d5d5-4424-b8a3-b341dde985b5",
   "metadata": {
    "id": "b8734d51-d5d5-4424-b8a3-b341dde985b5"
   },
   "source": [
    "## <center> Optuna"
   ]
  },
  {
   "cell_type": "markdown",
   "id": "64a579c2-4e99-4373-b3c4-ca4aad36e5c0",
   "metadata": {
    "id": "64a579c2-4e99-4373-b3c4-ca4aad36e5c0"
   },
   "source": [
    "Optuna - это достаточно новый фреймворк/библиотека, разработанный специально для оптимизации гиперпараметров. Помимо байесовских алгоритмов, есть возможность удаления плохих комбинаций из рассмотрения. По умолчанию удаляет комбинации, в которых модель дает качество ниже медианы из уже рассмотренных. Optuna помогает  быстрее находить лучшие гиперпараметры и работает с большинством современных известных библиотек ML, таких как scikit-learn, xgboost, PyTorch, TensorFlow, skorch, lightgbm, Keras, fast-ai и др."
   ]
  },
  {
   "cell_type": "code",
   "execution_count": null,
   "id": "cNySTr2GqwbF",
   "metadata": {
    "id": "cNySTr2GqwbF"
   },
   "outputs": [],
   "source": [
    "# Устанавливаем библиотеку\n",
    "# !pip install optuna\n",
    "# или\n",
    "#!conda install -c conda-forge optuna"
   ]
  },
  {
   "cell_type": "code",
   "execution_count": 65,
   "id": "CQL0pyNGqQgR",
   "metadata": {
    "colab": {
     "base_uri": "https://localhost:8080/"
    },
    "executionInfo": {
     "elapsed": 1719,
     "status": "ok",
     "timestamp": 1650554415996,
     "user": {
      "displayName": "VICDS _",
      "userId": "16539764637744847477"
     },
     "user_tz": -180
    },
    "id": "CQL0pyNGqQgR",
    "outputId": "c83a3160-3f2d-4c32-9ecc-1aa6290784d7"
   },
   "outputs": [
    {
     "name": "stdout",
     "output_type": "stream",
     "text": [
      "Версия Optuna: 3.0.3\n"
     ]
    }
   ],
   "source": [
    "import optuna\n",
    "\n",
    "print(\"Версия Optuna: {}\".format(optuna.__version__))"
   ]
  },
  {
   "cell_type": "markdown",
   "id": "PPR54ca3DbDi",
   "metadata": {
    "id": "PPR54ca3DbDi"
   },
   "source": [
    "Настроим оптимизацию гиперпараметров для алгоритма случайного леса."
   ]
  },
  {
   "cell_type": "code",
   "execution_count": 70,
   "id": "aSF_70FWu3T6",
   "metadata": {
    "id": "aSF_70FWu3T6"
   },
   "outputs": [],
   "source": [
    "def optuna_rf(trial):\n",
    "  # задаем пространства поиска гиперпараметров\n",
    "  n_estimators = trial.suggest_int('n_estimators', 100, 300, 10)\n",
    "  max_depth = trial.suggest_int('max_depth', 15, 40, 1)\n",
    "  min_samples_leaf = trial.suggest_int('min_samples_leaf', 3, 7, 1)\n",
    "\n",
    "  # создаем модель\n",
    "  model = ensemble.RandomForestClassifier(n_estimators=n_estimators,\n",
    "                                          max_depth=max_depth,\n",
    "                                          min_samples_leaf=min_samples_leaf,\n",
    "                                          random_state=random_state)\n",
    "  # обучаем модель\n",
    "  model.fit(X_train_scaled, y_train)\n",
    "  score = metrics.f1_score(y_train, model.predict(X_train_scaled))\n",
    "\n",
    "  return score\n",
    "  \n",
    "  "
   ]
  },
  {
   "cell_type": "code",
   "execution_count": 71,
   "id": "ubC21yLQpYyF",
   "metadata": {
    "colab": {
     "base_uri": "https://localhost:8080/"
    },
    "executionInfo": {
     "elapsed": 65014,
     "status": "ok",
     "timestamp": 1650551767856,
     "user": {
      "displayName": "VICDS _",
      "userId": "16539764637744847477"
     },
     "user_tz": -180
    },
    "id": "ubC21yLQpYyF",
    "outputId": "ea522f15-73ad-4e5c-9ee3-50212938acdd"
   },
   "outputs": [
    {
     "name": "stderr",
     "output_type": "stream",
     "text": [
      "\u001b[32m[I 2022-11-07 19:59:24,379]\u001b[0m A new study created in memory with name: RandomForestClassifier\u001b[0m\n",
      "\u001b[32m[I 2022-11-07 19:59:31,312]\u001b[0m Trial 0 finished with value: 0.7290604515659141 and parameters: {'n_estimators': 290, 'max_depth': 18, 'min_samples_leaf': 3}. Best is trial 0 with value: 0.7290604515659141.\u001b[0m\n",
      "\u001b[32m[I 2022-11-07 19:59:35,359]\u001b[0m Trial 1 finished with value: 0.7160628348315626 and parameters: {'n_estimators': 170, 'max_depth': 21, 'min_samples_leaf': 5}. Best is trial 0 with value: 0.7290604515659141.\u001b[0m\n",
      "\u001b[32m[I 2022-11-07 19:59:38,193]\u001b[0m Trial 2 finished with value: 0.7065813528336381 and parameters: {'n_estimators': 120, 'max_depth': 24, 'min_samples_leaf': 6}. Best is trial 0 with value: 0.7290604515659141.\u001b[0m\n",
      "\u001b[32m[I 2022-11-07 19:59:43,608]\u001b[0m Trial 3 finished with value: 0.7144555179665356 and parameters: {'n_estimators': 220, 'max_depth': 18, 'min_samples_leaf': 4}. Best is trial 0 with value: 0.7290604515659141.\u001b[0m\n",
      "\u001b[32m[I 2022-11-07 19:59:49,728]\u001b[0m Trial 4 finished with value: 0.706377527678653 and parameters: {'n_estimators': 260, 'max_depth': 24, 'min_samples_leaf': 6}. Best is trial 0 with value: 0.7290604515659141.\u001b[0m\n",
      "\u001b[32m[I 2022-11-07 19:59:53,583]\u001b[0m Trial 5 finished with value: 0.6953253895508708 and parameters: {'n_estimators': 170, 'max_depth': 20, 'min_samples_leaf': 7}. Best is trial 0 with value: 0.7290604515659141.\u001b[0m\n",
      "\u001b[32m[I 2022-11-07 19:59:58,872]\u001b[0m Trial 6 finished with value: 0.7095359883083668 and parameters: {'n_estimators': 230, 'max_depth': 20, 'min_samples_leaf': 5}. Best is trial 0 with value: 0.7290604515659141.\u001b[0m\n",
      "\u001b[32m[I 2022-11-07 20:00:04,242]\u001b[0m Trial 7 finished with value: 0.7128172473392159 and parameters: {'n_estimators': 230, 'max_depth': 34, 'min_samples_leaf': 6}. Best is trial 0 with value: 0.7290604515659141.\u001b[0m\n",
      "\u001b[32m[I 2022-11-07 20:00:07,008]\u001b[0m Trial 8 finished with value: 0.6853094705443699 and parameters: {'n_estimators': 130, 'max_depth': 15, 'min_samples_leaf': 5}. Best is trial 0 with value: 0.7290604515659141.\u001b[0m\n",
      "\u001b[32m[I 2022-11-07 20:00:10,490]\u001b[0m Trial 9 finished with value: 0.7123885755866837 and parameters: {'n_estimators': 150, 'max_depth': 39, 'min_samples_leaf': 6}. Best is trial 0 with value: 0.7290604515659141.\u001b[0m\n",
      "\u001b[32m[I 2022-11-07 20:00:18,125]\u001b[0m Trial 10 finished with value: 0.7665716322166786 and parameters: {'n_estimators': 300, 'max_depth': 31, 'min_samples_leaf': 3}. Best is trial 10 with value: 0.7665716322166786.\u001b[0m\n",
      "\u001b[32m[I 2022-11-07 20:00:25,755]\u001b[0m Trial 11 finished with value: 0.7665716322166786 and parameters: {'n_estimators': 300, 'max_depth': 31, 'min_samples_leaf': 3}. Best is trial 10 with value: 0.7665716322166786.\u001b[0m\n",
      "\u001b[32m[I 2022-11-07 20:00:33,392]\u001b[0m Trial 12 finished with value: 0.7665716322166786 and parameters: {'n_estimators': 300, 'max_depth': 31, 'min_samples_leaf': 3}. Best is trial 10 with value: 0.7665716322166786.\u001b[0m\n",
      "\u001b[32m[I 2022-11-07 20:00:39,750]\u001b[0m Trial 13 finished with value: 0.7400683084666546 and parameters: {'n_estimators': 260, 'max_depth': 32, 'min_samples_leaf': 4}. Best is trial 10 with value: 0.7665716322166786.\u001b[0m\n",
      "\u001b[32m[I 2022-11-07 20:00:46,648]\u001b[0m Trial 14 finished with value: 0.763856710033862 and parameters: {'n_estimators': 270, 'max_depth': 28, 'min_samples_leaf': 3}. Best is trial 10 with value: 0.7665716322166786.\u001b[0m\n",
      "\u001b[32m[I 2022-11-07 20:00:53,920]\u001b[0m Trial 15 finished with value: 0.7383093525179856 and parameters: {'n_estimators': 300, 'max_depth': 37, 'min_samples_leaf': 4}. Best is trial 10 with value: 0.7665716322166786.\u001b[0m\n",
      "\u001b[32m[I 2022-11-07 20:00:58,974]\u001b[0m Trial 16 finished with value: 0.764879093423753 and parameters: {'n_estimators': 200, 'max_depth': 28, 'min_samples_leaf': 3}. Best is trial 10 with value: 0.7665716322166786.\u001b[0m\n",
      "\u001b[32m[I 2022-11-07 20:01:05,775]\u001b[0m Trial 17 finished with value: 0.7390757058083077 and parameters: {'n_estimators': 280, 'max_depth': 35, 'min_samples_leaf': 4}. Best is trial 10 with value: 0.7665716322166786.\u001b[0m\n",
      "\u001b[32m[I 2022-11-07 20:01:11,872]\u001b[0m Trial 18 finished with value: 0.7674522009782124 and parameters: {'n_estimators': 240, 'max_depth': 32, 'min_samples_leaf': 3}. Best is trial 18 with value: 0.7674522009782124.\u001b[0m\n",
      "\u001b[32m[I 2022-11-07 20:01:17,866]\u001b[0m Trial 19 finished with value: 0.7325140068678836 and parameters: {'n_estimators': 250, 'max_depth': 25, 'min_samples_leaf': 4}. Best is trial 18 with value: 0.7674522009782124.\u001b[0m\n"
     ]
    },
    {
     "name": "stdout",
     "output_type": "stream",
     "text": [
      "CPU times: total: 1min 52s\n",
      "Wall time: 1min 53s\n"
     ]
    }
   ],
   "source": [
    "%%time\n",
    "# cоздаем объект исследования\n",
    "# можем напрямую указать, что нам необходимо максимизировать метрику direction=\"maximize\"\n",
    "study = optuna.create_study(study_name=\"RandomForestClassifier\", direction=\"maximize\")\n",
    "# ищем лучшую комбинацию гиперпараметров n_trials раз\n",
    "study.optimize(optuna_rf, n_trials=20)"
   ]
  },
  {
   "cell_type": "code",
   "execution_count": 72,
   "id": "6cNF33I2pYaq",
   "metadata": {
    "colab": {
     "base_uri": "https://localhost:8080/"
    },
    "executionInfo": {
     "elapsed": 89,
     "status": "ok",
     "timestamp": 1650551767860,
     "user": {
      "displayName": "VICDS _",
      "userId": "16539764637744847477"
     },
     "user_tz": -180
    },
    "id": "6cNF33I2pYaq",
    "outputId": "d21953d4-bdbe-4bb6-baae-d897096f14df"
   },
   "outputs": [
    {
     "name": "stdout",
     "output_type": "stream",
     "text": [
      "Наилучшие значения гиперпараметров {'n_estimators': 240, 'max_depth': 32, 'min_samples_leaf': 3}\n",
      "f1_score на обучающем наборе: 0.77\n"
     ]
    }
   ],
   "source": [
    "# выводим результаты на обучающей выборке\n",
    "print(\"Наилучшие значения гиперпараметров {}\".format(study.best_params))\n",
    "print(\"f1_score на обучающем наборе: {:.2f}\".format(study.best_value))"
   ]
  },
  {
   "cell_type": "code",
   "execution_count": 73,
   "id": "JlFIQ0p1pYAJ",
   "metadata": {
    "colab": {
     "base_uri": "https://localhost:8080/"
    },
    "executionInfo": {
     "elapsed": 3002,
     "status": "ok",
     "timestamp": 1650551770804,
     "user": {
      "displayName": "VICDS _",
      "userId": "16539764637744847477"
     },
     "user_tz": -180
    },
    "id": "JlFIQ0p1pYAJ",
    "outputId": "21fcd48a-c265-458d-e51c-91a68213ac33"
   },
   "outputs": [
    {
     "name": "stdout",
     "output_type": "stream",
     "text": [
      "accuracy на тестовом наборе: 0.86\n",
      "f1_score на тестовом наборе: 0.68\n"
     ]
    }
   ],
   "source": [
    "# рассчитаем точность для тестовой выборки\n",
    "model = ensemble.RandomForestClassifier(**study.best_params,random_state=random_state, )\n",
    "model.fit(X_train_scaled, y_train)\n",
    "y_train_pred = model.predict(X_train_scaled)\n",
    "print(\"accuracy на тестовом наборе: {:.2f}\".format(model.score(X_test_scaled, y_test)))\n",
    "y_test_pred = model.predict(X_test_scaled)\n",
    "print('f1_score на тестовом наборе: {:.2f}'.format(metrics.f1_score(y_test, y_test_pred)))"
   ]
  },
  {
   "cell_type": "code",
   "execution_count": null,
   "id": "bvRT3n2Brck_",
   "metadata": {
    "colab": {
     "base_uri": "https://localhost:8080/"
    },
    "executionInfo": {
     "elapsed": 46860,
     "status": "ok",
     "timestamp": 1650551817594,
     "user": {
      "displayName": "VICDS _",
      "userId": "16539764637744847477"
     },
     "user_tz": -180
    },
    "id": "bvRT3n2Brck_",
    "outputId": "542a42b7-3ecf-48a2-aa02-bd40318646d0"
   },
   "outputs": [],
   "source": [
    "%%time\n",
    "# можем прододжить подбор, указав n_trials(любое число, которое добавится к предыдущим итерациям) \n",
    "study.optimize(optuna_rf, n_trials=10)"
   ]
  },
  {
   "cell_type": "markdown",
   "id": "7YnKbvg0MFCs",
   "metadata": {
    "id": "7YnKbvg0MFCs"
   },
   "source": [
    "**Видим, что Optuna также удалось увеличить метрику, но за меньшее время, чем Hyperopt.**"
   ]
  },
  {
   "cell_type": "markdown",
   "id": "VmEnYQzmvgNa",
   "metadata": {
    "id": "VmEnYQzmvgNa"
   },
   "source": [
    "Рассмотрим различные визуализации, доступные через Optuna, которые помогают принимать лучшие решения, видеть влияние различных гиперпараметров на производительность модели.\n",
    "\n",
    "Сначало необходимо проверить, доступна ли поддержка визуализации: is_available (), т.е. доступны ли правильные версии plotly и matplotlib для создания визуализаций."
   ]
  },
  {
   "cell_type": "code",
   "execution_count": null,
   "id": "uFSzqrVzssLs",
   "metadata": {
    "colab": {
     "base_uri": "https://localhost:8080/"
    },
    "executionInfo": {
     "elapsed": 485,
     "status": "ok",
     "timestamp": 1650551817618,
     "user": {
      "displayName": "VICDS _",
      "userId": "16539764637744847477"
     },
     "user_tz": -180
    },
    "id": "uFSzqrVzssLs",
    "outputId": "55d14ec7-b8d8-4d8c-96e1-9d954c27993f"
   },
   "outputs": [],
   "source": [
    "optuna.visualization.is_available()"
   ]
  },
  {
   "cell_type": "markdown",
   "id": "fBO5EyP1wT6i",
   "metadata": {
    "id": "fBO5EyP1wT6i"
   },
   "source": [
    "График истории оптимизации - отображает количество испытаний на оси Х и метрику на оси Y.\n",
    "\n",
    "Следует использовать эту диаграмму, чтобы проверить, идет ли оптимизация гиперпараметров в правильном направлении или нет."
   ]
  },
  {
   "cell_type": "code",
   "execution_count": null,
   "id": "mQAxHDbMsrpl",
   "metadata": {
    "colab": {
     "base_uri": "https://localhost:8080/"
    },
    "executionInfo": {
     "elapsed": 416,
     "status": "ok",
     "timestamp": 1650551817642,
     "user": {
      "displayName": "VICDS _",
      "userId": "16539764637744847477"
     },
     "user_tz": -180
    },
    "id": "mQAxHDbMsrpl",
    "outputId": "9670ebd1-c0dc-493e-cc0b-2245e711f0f0"
   },
   "outputs": [],
   "source": [
    "optuna.visualization.plot_optimization_history(study, target_name=\"f1_score\")"
   ]
  },
  {
   "cell_type": "markdown",
   "id": "d16TJE58x925",
   "metadata": {
    "id": "d16TJE58x925"
   },
   "source": [
    "В нашем случае, все идет верно, метрика максимизируется."
   ]
  },
  {
   "cell_type": "markdown",
   "id": "asr2cGgsyZk9",
   "metadata": {
    "id": "asr2cGgsyZk9"
   },
   "source": [
    "График важности гиперпараметров - помогает понять, какие гиперпараметры вносят больший вклад в минимизацию/максимизацию метрики."
   ]
  },
  {
   "cell_type": "code",
   "execution_count": null,
   "id": "xP9C7m9nx5tE",
   "metadata": {
    "colab": {
     "base_uri": "https://localhost:8080/"
    },
    "executionInfo": {
     "elapsed": 1672,
     "status": "ok",
     "timestamp": 1650551818913,
     "user": {
      "displayName": "VICDS _",
      "userId": "16539764637744847477"
     },
     "user_tz": -180
    },
    "id": "xP9C7m9nx5tE",
    "outputId": "80fd0e38-2e65-467a-8f5f-5a00472700bb"
   },
   "outputs": [],
   "source": [
    "optuna.visualization.plot_param_importances(study, target_name=\"f1_score\")"
   ]
  },
  {
   "cell_type": "markdown",
   "id": "iJJBn2LrzRJF",
   "metadata": {
    "id": "iJJBn2LrzRJF"
   },
   "source": [
    "Из этого графика можно сделать вывод, что стоит обратить большее внимание на настройку гиперпараметра min_sampeles_leaf"
   ]
  },
  {
   "cell_type": "markdown",
   "id": "87pcgbkg0nT0",
   "metadata": {
    "id": "87pcgbkg0nT0"
   },
   "source": [
    "График контура отношений гиперпараметров\n",
    "\n",
    "Он показывает связь между различными комбинациями гиперпараметров и значение метрики для этих комбинаций в виде контурного графика."
   ]
  },
  {
   "cell_type": "code",
   "execution_count": null,
   "id": "vmtplbIt1Mmf",
   "metadata": {
    "colab": {
     "base_uri": "https://localhost:8080/"
    },
    "executionInfo": {
     "elapsed": 306,
     "status": "ok",
     "timestamp": 1650551818926,
     "user": {
      "displayName": "VICDS _",
      "userId": "16539764637744847477"
     },
     "user_tz": -180
    },
    "id": "vmtplbIt1Mmf",
    "outputId": "a491da7a-66a8-4366-9cfc-e282e5de3f55"
   },
   "outputs": [],
   "source": [
    "optuna.visualization.plot_contour(study, params=[\"max_depth\", \"n_estimators\"],\n",
    "                                  target_name=\"f1_score\")"
   ]
  },
  {
   "cell_type": "markdown",
   "id": "CfkEVQS1NNQy",
   "metadata": {
    "id": "CfkEVQS1NNQy"
   },
   "source": [
    "Точки с белым фоном это и есть лучшии комбинации n_estimator, max_depth.\n",
    "\n",
    "\n",
    "\n",
    "\n",
    "\n",
    "\n",
    "\n",
    "\n",
    "\n",
    "\n",
    "\n",
    "\n",
    "\n",
    "\n"
   ]
  }
 ],
 "metadata": {
  "colab": {
   "collapsed_sections": [
    "ezanmTbEaAOe",
    "8lbyun1kaAOy",
    "M20nsIRfaAP-"
   ],
   "name": "ML-7.Optimization of hyperparameters.ipynb",
   "provenance": []
  },
  "kernelspec": {
   "display_name": "Python 3.9.10 64-bit",
   "language": "python",
   "name": "python3"
  },
  "language_info": {
   "codemirror_mode": {
    "name": "ipython",
    "version": 3
   },
   "file_extension": ".py",
   "mimetype": "text/x-python",
   "name": "python",
   "nbconvert_exporter": "python",
   "pygments_lexer": "ipython3",
   "version": "3.9.10"
  },
  "vscode": {
   "interpreter": {
    "hash": "3f3276811286a09a4a5800c96bcffd2991fef064f3f472c3248f5fe31bf08715"
   }
  }
 },
 "nbformat": 4,
 "nbformat_minor": 5
}
