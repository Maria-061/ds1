{
 "cells": [
  {
   "cell_type": "code",
   "execution_count": 1,
   "metadata": {},
   "outputs": [],
   "source": [
    "import pandas as pd\n",
    "import numpy as np \n",
    "from sklearn.preprocessing import StandardScaler\n",
    "from sklearn.cluster import KMeans\n",
    "import seaborn as sns"
   ]
  },
  {
   "cell_type": "code",
   "execution_count": 2,
   "metadata": {},
   "outputs": [
    {
     "name": "stdout",
     "output_type": "stream",
     "text": [
      "<class 'pandas.core.frame.DataFrame'>\n",
      "RangeIndex: 30000 entries, 0 to 29999\n",
      "Data columns (total 40 columns):\n",
      " #   Column        Non-Null Count  Dtype  \n",
      "---  ------        --------------  -----  \n",
      " 0   gradyear      30000 non-null  int64  \n",
      " 1   gender        27276 non-null  object \n",
      " 2   age           24914 non-null  float64\n",
      " 3   friends       30000 non-null  int64  \n",
      " 4   basketball    30000 non-null  int64  \n",
      " 5   football      30000 non-null  int64  \n",
      " 6   soccer        30000 non-null  int64  \n",
      " 7   softball      30000 non-null  int64  \n",
      " 8   volleyball    30000 non-null  int64  \n",
      " 9   swimming      30000 non-null  int64  \n",
      " 10  cheerleading  30000 non-null  int64  \n",
      " 11  baseball      30000 non-null  int64  \n",
      " 12  tennis        30000 non-null  int64  \n",
      " 13  sports        30000 non-null  int64  \n",
      " 14  cute          30000 non-null  int64  \n",
      " 15  sex           30000 non-null  int64  \n",
      " 16  sexy          30000 non-null  int64  \n",
      " 17  hot           30000 non-null  int64  \n",
      " 18  kissed        30000 non-null  int64  \n",
      " 19  dance         30000 non-null  int64  \n",
      " 20  band          30000 non-null  int64  \n",
      " 21  marching      30000 non-null  int64  \n",
      " 22  music         30000 non-null  int64  \n",
      " 23  rock          30000 non-null  int64  \n",
      " 24  god           30000 non-null  int64  \n",
      " 25  church        30000 non-null  int64  \n",
      " 26  jesus         30000 non-null  int64  \n",
      " 27  bible         30000 non-null  int64  \n",
      " 28  hair          30000 non-null  int64  \n",
      " 29  dress         30000 non-null  int64  \n",
      " 30  blonde        30000 non-null  int64  \n",
      " 31  mall          30000 non-null  int64  \n",
      " 32  shopping      30000 non-null  int64  \n",
      " 33  clothes       30000 non-null  int64  \n",
      " 34  hollister     30000 non-null  int64  \n",
      " 35  abercrombie   30000 non-null  int64  \n",
      " 36  die           30000 non-null  int64  \n",
      " 37  death         30000 non-null  int64  \n",
      " 38  drunk         30000 non-null  int64  \n",
      " 39  drugs         30000 non-null  int64  \n",
      "dtypes: float64(1), int64(38), object(1)\n",
      "memory usage: 9.2+ MB\n"
     ]
    }
   ],
   "source": [
    "df = pd.read_csv('data/snsdata.csv')\n",
    "df.info()"
   ]
  },
  {
   "cell_type": "code",
   "execution_count": 3,
   "metadata": {},
   "outputs": [],
   "source": [
    "df = df.drop(['gradyear', 'gender', 'age', 'friends'], axis=1)"
   ]
  },
  {
   "cell_type": "code",
   "execution_count": 4,
   "metadata": {},
   "outputs": [
    {
     "ename": "KeyError",
     "evalue": "0",
     "output_type": "error",
     "traceback": [
      "\u001b[1;31m---------------------------------------------------------------------------\u001b[0m",
      "\u001b[1;31mKeyError\u001b[0m                                  Traceback (most recent call last)",
      "File \u001b[1;32mc:\\Users\\kuzin\\AppData\\Local\\Programs\\Python\\Python39\\lib\\site-packages\\pandas\\core\\indexes\\base.py:3621\u001b[0m, in \u001b[0;36mIndex.get_loc\u001b[1;34m(self, key, method, tolerance)\u001b[0m\n\u001b[0;32m   3620\u001b[0m \u001b[39mtry\u001b[39;00m:\n\u001b[1;32m-> 3621\u001b[0m     \u001b[39mreturn\u001b[39;00m \u001b[39mself\u001b[39;49m\u001b[39m.\u001b[39;49m_engine\u001b[39m.\u001b[39;49mget_loc(casted_key)\n\u001b[0;32m   3622\u001b[0m \u001b[39mexcept\u001b[39;00m \u001b[39mKeyError\u001b[39;00m \u001b[39mas\u001b[39;00m err:\n",
      "File \u001b[1;32mc:\\Users\\kuzin\\AppData\\Local\\Programs\\Python\\Python39\\lib\\site-packages\\pandas\\_libs\\index.pyx:136\u001b[0m, in \u001b[0;36mpandas._libs.index.IndexEngine.get_loc\u001b[1;34m()\u001b[0m\n",
      "File \u001b[1;32mc:\\Users\\kuzin\\AppData\\Local\\Programs\\Python\\Python39\\lib\\site-packages\\pandas\\_libs\\index.pyx:163\u001b[0m, in \u001b[0;36mpandas._libs.index.IndexEngine.get_loc\u001b[1;34m()\u001b[0m\n",
      "File \u001b[1;32mpandas\\_libs\\hashtable_class_helper.pxi:5198\u001b[0m, in \u001b[0;36mpandas._libs.hashtable.PyObjectHashTable.get_item\u001b[1;34m()\u001b[0m\n",
      "File \u001b[1;32mpandas\\_libs\\hashtable_class_helper.pxi:5206\u001b[0m, in \u001b[0;36mpandas._libs.hashtable.PyObjectHashTable.get_item\u001b[1;34m()\u001b[0m\n",
      "\u001b[1;31mKeyError\u001b[0m: 0",
      "\nThe above exception was the direct cause of the following exception:\n",
      "\u001b[1;31mKeyError\u001b[0m                                  Traceback (most recent call last)",
      "\u001b[1;32mc:\\Users\\kuzin\\OneDrive\\Рабочий стол\\IDE\\skillfactory\\MATH\\MATH 10\\practice.ipynb Cell 4\u001b[0m in \u001b[0;36m<cell line: 3>\u001b[1;34m()\u001b[0m\n\u001b[0;32m      <a href='vscode-notebook-cell:/c%3A/Users/kuzin/OneDrive/%D0%A0%D0%B0%D0%B1%D0%BE%D1%87%D0%B8%D0%B9%20%D1%81%D1%82%D0%BE%D0%BB/IDE/skillfactory/MATH/MATH%2010/practice.ipynb#W3sZmlsZQ%3D%3D?line=0'>1</a>\u001b[0m scaler \u001b[39m=\u001b[39m StandardScaler()\n\u001b[0;32m      <a href='vscode-notebook-cell:/c%3A/Users/kuzin/OneDrive/%D0%A0%D0%B0%D0%B1%D0%BE%D1%87%D0%B8%D0%B9%20%D1%81%D1%82%D0%BE%D0%BB/IDE/skillfactory/MATH/MATH%2010/practice.ipynb#W3sZmlsZQ%3D%3D?line=1'>2</a>\u001b[0m X_norm \u001b[39m=\u001b[39m scaler\u001b[39m.\u001b[39mfit_transform(df)\n\u001b[1;32m----> <a href='vscode-notebook-cell:/c%3A/Users/kuzin/OneDrive/%D0%A0%D0%B0%D0%B1%D0%BE%D1%87%D0%B8%D0%B9%20%D1%81%D1%82%D0%BE%D0%BB/IDE/skillfactory/MATH/MATH%2010/practice.ipynb#W3sZmlsZQ%3D%3D?line=2'>3</a>\u001b[0m df[\u001b[39m0\u001b[39;49m][\u001b[39m0\u001b[39m]\n",
      "File \u001b[1;32mc:\\Users\\kuzin\\AppData\\Local\\Programs\\Python\\Python39\\lib\\site-packages\\pandas\\core\\frame.py:3505\u001b[0m, in \u001b[0;36mDataFrame.__getitem__\u001b[1;34m(self, key)\u001b[0m\n\u001b[0;32m   3503\u001b[0m \u001b[39mif\u001b[39;00m \u001b[39mself\u001b[39m\u001b[39m.\u001b[39mcolumns\u001b[39m.\u001b[39mnlevels \u001b[39m>\u001b[39m \u001b[39m1\u001b[39m:\n\u001b[0;32m   3504\u001b[0m     \u001b[39mreturn\u001b[39;00m \u001b[39mself\u001b[39m\u001b[39m.\u001b[39m_getitem_multilevel(key)\n\u001b[1;32m-> 3505\u001b[0m indexer \u001b[39m=\u001b[39m \u001b[39mself\u001b[39;49m\u001b[39m.\u001b[39;49mcolumns\u001b[39m.\u001b[39;49mget_loc(key)\n\u001b[0;32m   3506\u001b[0m \u001b[39mif\u001b[39;00m is_integer(indexer):\n\u001b[0;32m   3507\u001b[0m     indexer \u001b[39m=\u001b[39m [indexer]\n",
      "File \u001b[1;32mc:\\Users\\kuzin\\AppData\\Local\\Programs\\Python\\Python39\\lib\\site-packages\\pandas\\core\\indexes\\base.py:3623\u001b[0m, in \u001b[0;36mIndex.get_loc\u001b[1;34m(self, key, method, tolerance)\u001b[0m\n\u001b[0;32m   3621\u001b[0m     \u001b[39mreturn\u001b[39;00m \u001b[39mself\u001b[39m\u001b[39m.\u001b[39m_engine\u001b[39m.\u001b[39mget_loc(casted_key)\n\u001b[0;32m   3622\u001b[0m \u001b[39mexcept\u001b[39;00m \u001b[39mKeyError\u001b[39;00m \u001b[39mas\u001b[39;00m err:\n\u001b[1;32m-> 3623\u001b[0m     \u001b[39mraise\u001b[39;00m \u001b[39mKeyError\u001b[39;00m(key) \u001b[39mfrom\u001b[39;00m \u001b[39merr\u001b[39;00m\n\u001b[0;32m   3624\u001b[0m \u001b[39mexcept\u001b[39;00m \u001b[39mTypeError\u001b[39;00m:\n\u001b[0;32m   3625\u001b[0m     \u001b[39m# If we have a listlike key, _check_indexing_error will raise\u001b[39;00m\n\u001b[0;32m   3626\u001b[0m     \u001b[39m#  InvalidIndexError. Otherwise we fall through and re-raise\u001b[39;00m\n\u001b[0;32m   3627\u001b[0m     \u001b[39m#  the TypeError.\u001b[39;00m\n\u001b[0;32m   3628\u001b[0m     \u001b[39mself\u001b[39m\u001b[39m.\u001b[39m_check_indexing_error(key)\n",
      "\u001b[1;31mKeyError\u001b[0m: 0"
     ]
    }
   ],
   "source": [
    "scaler = StandardScaler()\n",
    "X_norm = scaler.fit_transform(df)\n",
    "df[0][0]"
   ]
  },
  {
   "cell_type": "code",
   "execution_count": null,
   "metadata": {},
   "outputs": [
    {
     "data": {
      "text/html": [
       "<style>#sk-container-id-3 {color: black;background-color: white;}#sk-container-id-3 pre{padding: 0;}#sk-container-id-3 div.sk-toggleable {background-color: white;}#sk-container-id-3 label.sk-toggleable__label {cursor: pointer;display: block;width: 100%;margin-bottom: 0;padding: 0.3em;box-sizing: border-box;text-align: center;}#sk-container-id-3 label.sk-toggleable__label-arrow:before {content: \"▸\";float: left;margin-right: 0.25em;color: #696969;}#sk-container-id-3 label.sk-toggleable__label-arrow:hover:before {color: black;}#sk-container-id-3 div.sk-estimator:hover label.sk-toggleable__label-arrow:before {color: black;}#sk-container-id-3 div.sk-toggleable__content {max-height: 0;max-width: 0;overflow: hidden;text-align: left;background-color: #f0f8ff;}#sk-container-id-3 div.sk-toggleable__content pre {margin: 0.2em;color: black;border-radius: 0.25em;background-color: #f0f8ff;}#sk-container-id-3 input.sk-toggleable__control:checked~div.sk-toggleable__content {max-height: 200px;max-width: 100%;overflow: auto;}#sk-container-id-3 input.sk-toggleable__control:checked~label.sk-toggleable__label-arrow:before {content: \"▾\";}#sk-container-id-3 div.sk-estimator input.sk-toggleable__control:checked~label.sk-toggleable__label {background-color: #d4ebff;}#sk-container-id-3 div.sk-label input.sk-toggleable__control:checked~label.sk-toggleable__label {background-color: #d4ebff;}#sk-container-id-3 input.sk-hidden--visually {border: 0;clip: rect(1px 1px 1px 1px);clip: rect(1px, 1px, 1px, 1px);height: 1px;margin: -1px;overflow: hidden;padding: 0;position: absolute;width: 1px;}#sk-container-id-3 div.sk-estimator {font-family: monospace;background-color: #f0f8ff;border: 1px dotted black;border-radius: 0.25em;box-sizing: border-box;margin-bottom: 0.5em;}#sk-container-id-3 div.sk-estimator:hover {background-color: #d4ebff;}#sk-container-id-3 div.sk-parallel-item::after {content: \"\";width: 100%;border-bottom: 1px solid gray;flex-grow: 1;}#sk-container-id-3 div.sk-label:hover label.sk-toggleable__label {background-color: #d4ebff;}#sk-container-id-3 div.sk-serial::before {content: \"\";position: absolute;border-left: 1px solid gray;box-sizing: border-box;top: 0;bottom: 0;left: 50%;z-index: 0;}#sk-container-id-3 div.sk-serial {display: flex;flex-direction: column;align-items: center;background-color: white;padding-right: 0.2em;padding-left: 0.2em;position: relative;}#sk-container-id-3 div.sk-item {position: relative;z-index: 1;}#sk-container-id-3 div.sk-parallel {display: flex;align-items: stretch;justify-content: center;background-color: white;position: relative;}#sk-container-id-3 div.sk-item::before, #sk-container-id-3 div.sk-parallel-item::before {content: \"\";position: absolute;border-left: 1px solid gray;box-sizing: border-box;top: 0;bottom: 0;left: 50%;z-index: -1;}#sk-container-id-3 div.sk-parallel-item {display: flex;flex-direction: column;z-index: 1;position: relative;background-color: white;}#sk-container-id-3 div.sk-parallel-item:first-child::after {align-self: flex-end;width: 50%;}#sk-container-id-3 div.sk-parallel-item:last-child::after {align-self: flex-start;width: 50%;}#sk-container-id-3 div.sk-parallel-item:only-child::after {width: 0;}#sk-container-id-3 div.sk-dashed-wrapped {border: 1px dashed gray;margin: 0 0.4em 0.5em 0.4em;box-sizing: border-box;padding-bottom: 0.4em;background-color: white;}#sk-container-id-3 div.sk-label label {font-family: monospace;font-weight: bold;display: inline-block;line-height: 1.2em;}#sk-container-id-3 div.sk-label-container {text-align: center;}#sk-container-id-3 div.sk-container {/* jupyter's `normalize.less` sets `[hidden] { display: none; }` but bootstrap.min.css set `[hidden] { display: none !important; }` so we also need the `!important` here to be able to override the default hidden behavior on the sphinx rendered scikit-learn.org. See: https://github.com/scikit-learn/scikit-learn/issues/21755 */display: inline-block !important;position: relative;}#sk-container-id-3 div.sk-text-repr-fallback {display: none;}</style><div id=\"sk-container-id-3\" class=\"sk-top-container\"><div class=\"sk-text-repr-fallback\"><pre>KMeans(n_clusters=9, random_state=42)</pre><b>In a Jupyter environment, please rerun this cell to show the HTML representation or trust the notebook. <br />On GitHub, the HTML representation is unable to render, please try loading this page with nbviewer.org.</b></div><div class=\"sk-container\" hidden><div class=\"sk-item\"><div class=\"sk-estimator sk-toggleable\"><input class=\"sk-toggleable__control sk-hidden--visually\" id=\"sk-estimator-id-3\" type=\"checkbox\" checked><label for=\"sk-estimator-id-3\" class=\"sk-toggleable__label sk-toggleable__label-arrow\">KMeans</label><div class=\"sk-toggleable__content\"><pre>KMeans(n_clusters=9, random_state=42)</pre></div></div></div></div></div>"
      ],
      "text/plain": [
       "KMeans(n_clusters=9, random_state=42)"
      ]
     },
     "execution_count": 51,
     "metadata": {},
     "output_type": "execute_result"
    }
   ],
   "source": [
    "k_means = KMeans(n_clusters=9, random_state=42)\n",
    "k_means.fit(X_norm)"
   ]
  },
  {
   "cell_type": "code",
   "execution_count": null,
   "metadata": {},
   "outputs": [
    {
     "name": "stdout",
     "output_type": "stream",
     "text": [
      "858197.04\n"
     ]
    }
   ],
   "source": [
    "print (round(k_means.inertia_, 2))"
   ]
  },
  {
   "cell_type": "code",
   "execution_count": null,
   "metadata": {},
   "outputs": [
    {
     "data": {
      "text/plain": [
       "0    19330\n",
       "8     4358\n",
       "1     2632\n",
       "6      919\n",
       "3      850\n",
       "7      763\n",
       "5      659\n",
       "4      488\n",
       "2        1\n",
       "Name: label, dtype: int64"
      ]
     },
     "execution_count": 53,
     "metadata": {},
     "output_type": "execute_result"
    }
   ],
   "source": [
    "df=pd.DataFrame(df)\n",
    "df.loc[:, 'label']=k_means.labels_\n",
    "df.label.value_counts()"
   ]
  },
  {
   "cell_type": "code",
   "execution_count": null,
   "metadata": {},
   "outputs": [],
   "source": [
    "def get_inertia(cluster_num, X):\n",
    "# инициализируем алгоритм кластеризации\n",
    "    k_means =  KMeans(n_clusters=cluster_num, random_state=42)\n",
    "# запускаем алгоритм k-means\n",
    "    k_means.fit(X)\n",
    "# находим значение инерции\n",
    "    inertia = k_means.inertia_\n",
    "# возвращаем значение инерции\n",
    "    return inertia"
   ]
  },
  {
   "cell_type": "code",
   "execution_count": null,
   "metadata": {},
   "outputs": [],
   "source": [
    "res = {\"inertia\": [], \"cluster\": []}\n",
    "for i in np.arange(3, 10):\n",
    "    res['inertia'].append(get_inertia(i, X_norm))\n",
    "    res['cluster'].append(i)\n",
    "    "
   ]
  },
  {
   "cell_type": "code",
   "execution_count": null,
   "metadata": {},
   "outputs": [
    {
     "data": {
      "text/plain": [
       "<AxesSubplot:xlabel='cluster', ylabel='inertia'>"
      ]
     },
     "execution_count": 55,
     "metadata": {},
     "output_type": "execute_result"
    },
    {
     "data": {
      "image/png": "[encoded data removed]",
      "text/plain": [
       "<Figure size 432x288 with 1 Axes>"
      ]
     },
     "metadata": {
      "needs_background": "light"
     },
     "output_type": "display_data"
    }
   ],
   "source": [
    "sns.lineplot(data=res, x=\"cluster\", y=\"inertia\", marker= \"o\")"
   ]
  },
  {
   "cell_type": "code",
   "execution_count": null,
   "metadata": {},
   "outputs": [],
   "source": [
    "from sklearn.metrics import silhouette_score\n",
    "\n",
    "def get_silhouette(cluster_num, X):\n",
    "    model = KMeans(n_clusters=cluster_num, random_state=42)\n",
    "    model.fit(X)\n",
    "    silhouette = silhouette_score(X, model.labels_, metric='euclidean')\n",
    "    return silhouette\n",
    "\n",
    "silhoette_res = {'silhoette': [], 'clusters': []}\n",
    "\n",
    "for i in np.arange(3, 10):\n",
    "    silhoette_res['silhoette'].append(get_silhouette(i, X_norm))\n",
    "    silhoette_res['clusters'].append(i)\n",
    "    "
   ]
  },
  {
   "cell_type": "code",
   "execution_count": null,
   "metadata": {},
   "outputs": [
    {
     "data": {
      "text/plain": [
       "{'silhoette': [0.27330859726507056,\n",
       "  0.25772244966436714,\n",
       "  0.2779713159156073,\n",
       "  0.26324211860540725,\n",
       "  0.2659421900140592,\n",
       "  0.275080535116179,\n",
       "  0.26108251283351247],\n",
       " 'clusters': [3, 4, 5, 6, 7, 8, 9]}"
      ]
     },
     "execution_count": 57,
     "metadata": {},
     "output_type": "execute_result"
    }
   ],
   "source": [
    "silhoette_res"
   ]
  },
  {
   "cell_type": "code",
   "execution_count": null,
   "metadata": {},
   "outputs": [
    {
     "data": {
      "text/plain": [
       "<AxesSubplot:xlabel='clusters', ylabel='silhoette'>"
      ]
     },
     "execution_count": 58,
     "metadata": {},
     "output_type": "execute_result"
    },
    {
     "data": {
      "image/png": "[encoded data removed]",
      "text/plain": [
       "<Figure size 432x288 with 1 Axes>"
      ]
     },
     "metadata": {
      "needs_background": "light"
     },
     "output_type": "display_data"
    }
   ],
   "source": [
    "sns.lineplot(data = silhoette_res, x='clusters', y='silhoette')"
   ]
  },
  {
   "cell_type": "code",
   "execution_count": null,
   "metadata": {},
   "outputs": [],
   "source": [
    "df=df.drop('label', axis=1)"
   ]
  },
  {
   "cell_type": "code",
   "execution_count": null,
   "metadata": {},
   "outputs": [],
   "source": [
    "best_model = KMeans(n_clusters=3, random_state=42)\n",
    "best_model.fit(X_norm)\n",
    "df['label']=best_model.predict(X_norm)\n"
   ]
  },
  {
   "cell_type": "code",
   "execution_count": null,
   "metadata": {},
   "outputs": [
    {
     "data": {
      "text/html": [
       "<div>\n",
       "<style scoped>\n",
       "    .dataframe tbody tr th:only-of-type {\n",
       "        vertical-align: middle;\n",
       "    }\n",
       "\n",
       "    .dataframe tbody tr th {\n",
       "        vertical-align: top;\n",
       "    }\n",
       "\n",
       "    .dataframe thead th {\n",
       "        text-align: right;\n",
       "    }\n",
       "</style>\n",
       "<table border=\"1\" class=\"dataframe\">\n",
       "  <thead>\n",
       "    <tr style=\"text-align: right;\">\n",
       "      <th></th>\n",
       "      <th>0</th>\n",
       "      <th>1</th>\n",
       "      <th>2</th>\n",
       "      <th>3</th>\n",
       "      <th>4</th>\n",
       "      <th>5</th>\n",
       "      <th>6</th>\n",
       "      <th>7</th>\n",
       "      <th>8</th>\n",
       "      <th>9</th>\n",
       "      <th>...</th>\n",
       "      <th>27</th>\n",
       "      <th>28</th>\n",
       "      <th>29</th>\n",
       "      <th>30</th>\n",
       "      <th>31</th>\n",
       "      <th>32</th>\n",
       "      <th>33</th>\n",
       "      <th>34</th>\n",
       "      <th>35</th>\n",
       "      <th>label</th>\n",
       "    </tr>\n",
       "  </thead>\n",
       "  <tbody>\n",
       "    <tr>\n",
       "      <th>0</th>\n",
       "      <td>-0.332217</td>\n",
       "      <td>-0.357697</td>\n",
       "      <td>-0.242874</td>\n",
       "      <td>-0.217928</td>\n",
       "      <td>-0.22367</td>\n",
       "      <td>-0.259971</td>\n",
       "      <td>-0.207327</td>\n",
       "      <td>-0.201131</td>\n",
       "      <td>-0.168939</td>\n",
       "      <td>-0.297123</td>\n",
       "      <td>...</td>\n",
       "      <td>-0.369915</td>\n",
       "      <td>-0.487314</td>\n",
       "      <td>-0.314198</td>\n",
       "      <td>-0.201476</td>\n",
       "      <td>-0.183032</td>\n",
       "      <td>-0.294793</td>\n",
       "      <td>-0.261530</td>\n",
       "      <td>-0.220403</td>\n",
       "      <td>-0.174908</td>\n",
       "      <td>2</td>\n",
       "    </tr>\n",
       "    <tr>\n",
       "      <th>1</th>\n",
       "      <td>-0.332217</td>\n",
       "      <td>1.060049</td>\n",
       "      <td>-0.242874</td>\n",
       "      <td>-0.217928</td>\n",
       "      <td>-0.22367</td>\n",
       "      <td>-0.259971</td>\n",
       "      <td>-0.207327</td>\n",
       "      <td>-0.201131</td>\n",
       "      <td>-0.168939</td>\n",
       "      <td>-0.297123</td>\n",
       "      <td>...</td>\n",
       "      <td>1.067392</td>\n",
       "      <td>-0.487314</td>\n",
       "      <td>-0.314198</td>\n",
       "      <td>-0.201476</td>\n",
       "      <td>-0.183032</td>\n",
       "      <td>-0.294793</td>\n",
       "      <td>-0.261530</td>\n",
       "      <td>-0.220403</td>\n",
       "      <td>-0.174908</td>\n",
       "      <td>0</td>\n",
       "    </tr>\n",
       "    <tr>\n",
       "      <th>2</th>\n",
       "      <td>-0.332217</td>\n",
       "      <td>1.060049</td>\n",
       "      <td>-0.242874</td>\n",
       "      <td>-0.217928</td>\n",
       "      <td>-0.22367</td>\n",
       "      <td>-0.259971</td>\n",
       "      <td>-0.207327</td>\n",
       "      <td>-0.201131</td>\n",
       "      <td>-0.168939</td>\n",
       "      <td>-0.297123</td>\n",
       "      <td>...</td>\n",
       "      <td>-0.369915</td>\n",
       "      <td>-0.487314</td>\n",
       "      <td>-0.314198</td>\n",
       "      <td>-0.201476</td>\n",
       "      <td>-0.183032</td>\n",
       "      <td>-0.294793</td>\n",
       "      <td>2.027908</td>\n",
       "      <td>-0.220403</td>\n",
       "      <td>-0.174908</td>\n",
       "      <td>2</td>\n",
       "    </tr>\n",
       "    <tr>\n",
       "      <th>3</th>\n",
       "      <td>-0.332217</td>\n",
       "      <td>-0.357697</td>\n",
       "      <td>-0.242874</td>\n",
       "      <td>-0.217928</td>\n",
       "      <td>-0.22367</td>\n",
       "      <td>-0.259971</td>\n",
       "      <td>-0.207327</td>\n",
       "      <td>-0.201131</td>\n",
       "      <td>-0.168939</td>\n",
       "      <td>-0.297123</td>\n",
       "      <td>...</td>\n",
       "      <td>-0.369915</td>\n",
       "      <td>-0.487314</td>\n",
       "      <td>-0.314198</td>\n",
       "      <td>-0.201476</td>\n",
       "      <td>-0.183032</td>\n",
       "      <td>-0.294793</td>\n",
       "      <td>-0.261530</td>\n",
       "      <td>-0.220403</td>\n",
       "      <td>-0.174908</td>\n",
       "      <td>2</td>\n",
       "    </tr>\n",
       "    <tr>\n",
       "      <th>4</th>\n",
       "      <td>-0.332217</td>\n",
       "      <td>-0.357697</td>\n",
       "      <td>-0.242874</td>\n",
       "      <td>-0.217928</td>\n",
       "      <td>-0.22367</td>\n",
       "      <td>-0.259971</td>\n",
       "      <td>-0.207327</td>\n",
       "      <td>-0.201131</td>\n",
       "      <td>-0.168939</td>\n",
       "      <td>-0.297123</td>\n",
       "      <td>...</td>\n",
       "      <td>-0.369915</td>\n",
       "      <td>2.273673</td>\n",
       "      <td>-0.314198</td>\n",
       "      <td>-0.201476</td>\n",
       "      <td>-0.183032</td>\n",
       "      <td>-0.294793</td>\n",
       "      <td>-0.261530</td>\n",
       "      <td>2.285122</td>\n",
       "      <td>2.719316</td>\n",
       "      <td>1</td>\n",
       "    </tr>\n",
       "  </tbody>\n",
       "</table>\n",
       "<p>5 rows × 37 columns</p>\n",
       "</div>"
      ],
      "text/plain": [
       "          0         1         2         3        4         5         6  \\\n",
       "0 -0.332217 -0.357697 -0.242874 -0.217928 -0.22367 -0.259971 -0.207327   \n",
       "1 -0.332217  1.060049 -0.242874 -0.217928 -0.22367 -0.259971 -0.207327   \n",
       "2 -0.332217  1.060049 -0.242874 -0.217928 -0.22367 -0.259971 -0.207327   \n",
       "3 -0.332217 -0.357697 -0.242874 -0.217928 -0.22367 -0.259971 -0.207327   \n",
       "4 -0.332217 -0.357697 -0.242874 -0.217928 -0.22367 -0.259971 -0.207327   \n",
       "\n",
       "          7         8         9  ...        27        28        29        30  \\\n",
       "0 -0.201131 -0.168939 -0.297123  ... -0.369915 -0.487314 -0.314198 -0.201476   \n",
       "1 -0.201131 -0.168939 -0.297123  ...  1.067392 -0.487314 -0.314198 -0.201476   \n",
       "2 -0.201131 -0.168939 -0.297123  ... -0.369915 -0.487314 -0.314198 -0.201476   \n",
       "3 -0.201131 -0.168939 -0.297123  ... -0.369915 -0.487314 -0.314198 -0.201476   \n",
       "4 -0.201131 -0.168939 -0.297123  ... -0.369915  2.273673 -0.314198 -0.201476   \n",
       "\n",
       "         31        32        33        34        35  label  \n",
       "0 -0.183032 -0.294793 -0.261530 -0.220403 -0.174908      2  \n",
       "1 -0.183032 -0.294793 -0.261530 -0.220403 -0.174908      0  \n",
       "2 -0.183032 -0.294793  2.027908 -0.220403 -0.174908      2  \n",
       "3 -0.183032 -0.294793 -0.261530 -0.220403 -0.174908      2  \n",
       "4 -0.183032 -0.294793 -0.261530  2.285122  2.719316      1  \n",
       "\n",
       "[5 rows x 37 columns]"
      ]
     },
     "execution_count": 61,
     "metadata": {},
     "output_type": "execute_result"
    }
   ],
   "source": [
    "df.head()"
   ]
  },
  {
   "cell_type": "code",
   "execution_count": null,
   "metadata": {},
   "outputs": [
    {
     "data": {
      "text/plain": [
       "2    19960\n",
       "0     8884\n",
       "1     1156\n",
       "Name: label, dtype: int64"
      ]
     },
     "execution_count": 62,
     "metadata": {},
     "output_type": "execute_result"
    }
   ],
   "source": [
    "df['label'].value_counts()"
   ]
  },
  {
   "cell_type": "code",
   "execution_count": null,
   "metadata": {},
   "outputs": [
    {
     "data": {
      "text/plain": [
       "<pandas.core.groupby.generic.DataFrameGroupBy object at 0x0000024626915C10>"
      ]
     },
     "execution_count": 66,
     "metadata": {},
     "output_type": "execute_result"
    }
   ],
   "source": [
    "df.groupby('label')"
   ]
  },
  {
   "cell_type": "code",
   "execution_count": null,
   "metadata": {},
   "outputs": [
    {
     "data": {
      "text/plain": [
       "set()"
      ]
     },
     "execution_count": 64,
     "metadata": {},
     "output_type": "execute_result"
    }
   ],
   "source": [
    "top_list = []\n",
    "for label, group in df.groupby('label'):\n",
    "    means = group.iloc[:,:-1].mean().sort_values(ascending=False)\n",
    "    top_5 = set(means.head(10).index)\n",
    "    top_list.append(top_5)\n",
    "\n",
    "set.intersection(*top_list)"
   ]
  },
  {
   "cell_type": "code",
   "execution_count": null,
   "metadata": {},
   "outputs": [
    {
     "data": {
      "text/plain": [
       "[{0, 1, 4, 7, 10, 15, 17, 27, 28, 30},\n",
       " {11, 14, 18, 19, 24, 29, 32, 33, 34, 35},\n",
       " {2, 8, 11, 12, 22, 23, 26, 32, 33, 34}]"
      ]
     },
     "execution_count": 65,
     "metadata": {},
     "output_type": "execute_result"
    }
   ],
   "source": [
    "top_list"
   ]
  },
  {
   "cell_type": "code",
   "execution_count": null,
   "metadata": {},
   "outputs": [],
   "source": []
  },
  {
   "cell_type": "code",
   "execution_count": null,
   "metadata": {},
   "outputs": [
    {
     "data": {
      "text/plain": [
       "(array([0, 1, 2], dtype=int64), array([23467,  6532,     1], dtype=int64))"
      ]
     },
     "execution_count": 71,
     "metadata": {},
     "output_type": "execute_result"
    }
   ],
   "source": [
    "from sklearn.mixture import  GaussianMixture\n",
    "model = GaussianMixture(n_components=3, random_state=42)\n",
    "predictions = model.fit_predict(X_norm)\n",
    "np.unique(predictions, return_counts=True)"
   ]
  },
  {
   "cell_type": "code",
   "execution_count": 7,
   "metadata": {},
   "outputs": [],
   "source": [
    "a = np.sqrt(45) + np.sqrt(58) + np.sqrt(65) + np.sqrt(80)"
   ]
  },
  {
   "cell_type": "code",
   "execution_count": 8,
   "metadata": {},
   "outputs": [
    {
     "data": {
      "text/plain": [
       "7.8"
      ]
     },
     "execution_count": 8,
     "metadata": {},
     "output_type": "execute_result"
    }
   ],
   "source": [
    "round (a/4, 1)"
   ]
  }
 ],
 "metadata": {
  "kernelspec": {
   "display_name": "Python 3",
   "language": "python",
   "name": "python3"
  },
  "language_info": {
   "codemirror_mode": {
    "name": "ipython",
    "version": 3
   },
   "file_extension": ".py",
   "mimetype": "text/x-python",
   "name": "python",
   "nbconvert_exporter": "python",
   "pygments_lexer": "ipython3",
   "version": "3.9.10"
  },
  "orig_nbformat": 4
 },
 "nbformat": 4,
 "nbformat_minor": 2
}
