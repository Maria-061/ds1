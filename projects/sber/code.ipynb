{
 "cells": [
  {
   "cell_type": "code",
   "execution_count": 1,
   "metadata": {},
   "outputs": [],
   "source": [
    "import pandas as pd"
   ]
  },
  {
   "cell_type": "code",
   "execution_count": 11,
   "metadata": {},
   "outputs": [
    {
     "data": {
      "text/plain": [
       "type 2    173867\n",
       "type 1     15251\n",
       "Name: char_1, dtype: int64"
      ]
     },
     "execution_count": 11,
     "metadata": {},
     "output_type": "execute_result"
    }
   ],
   "source": [
    "person=pd.read_csv('data/person.csv')\n",
    "person['char_1'].value_counts()"
   ]
  },
  {
   "cell_type": "code",
   "execution_count": 10,
   "metadata": {},
   "outputs": [
    {
     "name": "stderr",
     "output_type": "stream",
     "text": [
      "C:\\Users\\kuzin\\AppData\\Local\\Temp\\ipykernel_59024\\4137465129.py:1: DtypeWarning: Columns (5,6,7,8,9,10,11,12,13) have mixed types. Specify dtype option on import or set low_memory=False.\n",
      "  action_train=pd.read_csv('data/action_train.csv')\n"
     ]
    },
    {
     "data": {
      "text/plain": [
       "type 2     38030\n",
       "type 5     34509\n",
       "type 1     14938\n",
       "type 12    14917\n",
       "type 3     12372\n",
       "type 10     7795\n",
       "type 7      7312\n",
       "type 23     2420\n",
       "type 6      2385\n",
       "type 11     2333\n",
       "type 26     2220\n",
       "type 8      2110\n",
       "type 17     1778\n",
       "type 13     1586\n",
       "type 4      1329\n",
       "type 15     1284\n",
       "type 29     1233\n",
       "type 16     1229\n",
       "type 9      1225\n",
       "type 14      990\n",
       "type 28      706\n",
       "type 25      694\n",
       "type 30      653\n",
       "type 24      641\n",
       "type 19      491\n",
       "type 20      434\n",
       "type 36      397\n",
       "type 41      278\n",
       "type 40      214\n",
       "type 22      211\n",
       "type 27      199\n",
       "type 35      180\n",
       "type 32      146\n",
       "type 34       66\n",
       "type 39       63\n",
       "type 33       60\n",
       "type 18       57\n",
       "type 31       54\n",
       "type 38       12\n",
       "type 43       11\n",
       "type 37       10\n",
       "type 44        8\n",
       "type 49        6\n",
       "type 46        6\n",
       "type 21        5\n",
       "type 50        5\n",
       "type 42        4\n",
       "type 52        3\n",
       "type 48        3\n",
       "type 47        2\n",
       "type 45        1\n",
       "Name: char_1, dtype: int64"
      ]
     },
     "execution_count": 10,
     "metadata": {},
     "output_type": "execute_result"
    }
   ],
   "source": [
    "action_train=pd.read_csv('data/action_train.csv')\n",
    "action_train['char_1'].value_counts()"
   ]
  }
 ],
 "metadata": {
  "kernelspec": {
   "display_name": "Python 3.9.10 64-bit",
   "language": "python",
   "name": "python3"
  },
  "language_info": {
   "codemirror_mode": {
    "name": "ipython",
    "version": 3
   },
   "file_extension": ".py",
   "mimetype": "text/x-python",
   "name": "python",
   "nbconvert_exporter": "python",
   "pygments_lexer": "ipython3",
   "version": "3.9.10"
  },
  "orig_nbformat": 4,
  "vscode": {
   "interpreter": {
    "hash": "3f3276811286a09a4a5800c96bcffd2991fef064f3f472c3248f5fe31bf08715"
   }
  }
 },
 "nbformat": 4,
 "nbformat_minor": 2
}
